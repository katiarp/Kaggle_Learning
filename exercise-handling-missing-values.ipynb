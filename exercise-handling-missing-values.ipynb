{
 "cells": [
  {
   "cell_type": "markdown",
   "id": "e696d4de",
   "metadata": {
    "papermill": {
     "duration": 0.013816,
     "end_time": "2023-09-05T01:28:26.404014",
     "exception": false,
     "start_time": "2023-09-05T01:28:26.390198",
     "status": "completed"
    },
    "tags": []
   },
   "source": [
    "**This notebook is an exercise in the [Data Cleaning](https://www.kaggle.com/learn/data-cleaning) course.  You can reference the tutorial at [this link](https://www.kaggle.com/alexisbcook/handling-missing-values).**\n",
    "\n",
    "---\n"
   ]
  },
  {
   "cell_type": "markdown",
   "id": "b3141bdc",
   "metadata": {
    "papermill": {
     "duration": 0.012466,
     "end_time": "2023-09-05T01:28:26.429495",
     "exception": false,
     "start_time": "2023-09-05T01:28:26.417029",
     "status": "completed"
    },
    "tags": []
   },
   "source": [
    "In this exercise, you'll apply what you learned in the **Handling missing values** tutorial.\n",
    "\n",
    "# Setup\n",
    "\n",
    "The questions below will give you feedback on your work. Run the following cell to set up the feedback system."
   ]
  },
  {
   "cell_type": "code",
   "execution_count": 1,
   "id": "4a972f2d",
   "metadata": {
    "execution": {
     "iopub.execute_input": "2023-09-05T01:28:26.456824Z",
     "iopub.status.busy": "2023-09-05T01:28:26.456460Z",
     "iopub.status.idle": "2023-09-05T01:28:32.268053Z",
     "shell.execute_reply": "2023-09-05T01:28:32.266202Z"
    },
    "papermill": {
     "duration": 5.828445,
     "end_time": "2023-09-05T01:28:32.270520",
     "exception": false,
     "start_time": "2023-09-05T01:28:26.442075",
     "status": "completed"
    },
    "tags": []
   },
   "outputs": [
    {
     "name": "stderr",
     "output_type": "stream",
     "text": [
      "/opt/conda/lib/python3.10/site-packages/learntools/data_cleaning/ex1.py:6: DtypeWarning: Columns (22,32) have mixed types. Specify dtype option on import or set low_memory=False.\n",
      "  sf_permits = pd.read_csv(\"../input/building-permit-applications-data/Building_Permits.csv\")\n"
     ]
    },
    {
     "name": "stdout",
     "output_type": "stream",
     "text": [
      "Setup Complete\n"
     ]
    }
   ],
   "source": [
    "from learntools.core import binder\n",
    "binder.bind(globals())\n",
    "from learntools.data_cleaning.ex1 import *\n",
    "print(\"Setup Complete\")"
   ]
  },
  {
   "cell_type": "markdown",
   "id": "1d2ca001",
   "metadata": {
    "papermill": {
     "duration": 0.012833,
     "end_time": "2023-09-05T01:28:32.296741",
     "exception": false,
     "start_time": "2023-09-05T01:28:32.283908",
     "status": "completed"
    },
    "tags": []
   },
   "source": [
    "# 1) Take a first look at the data\n",
    "\n",
    "Run the next code cell to load in the libraries and dataset you'll use to complete the exercise."
   ]
  },
  {
   "cell_type": "code",
   "execution_count": 2,
   "id": "26dd2a8d",
   "metadata": {
    "execution": {
     "iopub.execute_input": "2023-09-05T01:28:32.325263Z",
     "iopub.status.busy": "2023-09-05T01:28:32.324904Z",
     "iopub.status.idle": "2023-09-05T01:28:34.213860Z",
     "shell.execute_reply": "2023-09-05T01:28:34.212454Z"
    },
    "papermill": {
     "duration": 1.90604,
     "end_time": "2023-09-05T01:28:34.216090",
     "exception": false,
     "start_time": "2023-09-05T01:28:32.310050",
     "status": "completed"
    },
    "tags": []
   },
   "outputs": [
    {
     "name": "stderr",
     "output_type": "stream",
     "text": [
      "/tmp/ipykernel_20/3534875831.py:6: DtypeWarning: Columns (22,32) have mixed types. Specify dtype option on import or set low_memory=False.\n",
      "  sf_permits = pd.read_csv(\"../input/building-permit-applications-data/Building_Permits.csv\")\n"
     ]
    }
   ],
   "source": [
    "# modules we'll use\n",
    "import pandas as pd\n",
    "import numpy as np\n",
    "\n",
    "# read in all our data\n",
    "sf_permits = pd.read_csv(\"../input/building-permit-applications-data/Building_Permits.csv\")\n",
    "\n",
    "# set seed for reproducibility\n",
    "np.random.seed(0) "
   ]
  },
  {
   "cell_type": "markdown",
   "id": "cf1c2856",
   "metadata": {
    "papermill": {
     "duration": 0.013105,
     "end_time": "2023-09-05T01:28:34.242321",
     "exception": false,
     "start_time": "2023-09-05T01:28:34.229216",
     "status": "completed"
    },
    "tags": []
   },
   "source": [
    "Use the code cell below to print the first five rows of the `sf_permits` DataFrame."
   ]
  },
  {
   "cell_type": "code",
   "execution_count": 3,
   "id": "b0a59a63",
   "metadata": {
    "execution": {
     "iopub.execute_input": "2023-09-05T01:28:34.270224Z",
     "iopub.status.busy": "2023-09-05T01:28:34.269827Z",
     "iopub.status.idle": "2023-09-05T01:28:34.301581Z",
     "shell.execute_reply": "2023-09-05T01:28:34.300512Z"
    },
    "papermill": {
     "duration": 0.048878,
     "end_time": "2023-09-05T01:28:34.304170",
     "exception": false,
     "start_time": "2023-09-05T01:28:34.255292",
     "status": "completed"
    },
    "tags": []
   },
   "outputs": [
    {
     "data": {
      "text/html": [
       "<div>\n",
       "<style scoped>\n",
       "    .dataframe tbody tr th:only-of-type {\n",
       "        vertical-align: middle;\n",
       "    }\n",
       "\n",
       "    .dataframe tbody tr th {\n",
       "        vertical-align: top;\n",
       "    }\n",
       "\n",
       "    .dataframe thead th {\n",
       "        text-align: right;\n",
       "    }\n",
       "</style>\n",
       "<table border=\"1\" class=\"dataframe\">\n",
       "  <thead>\n",
       "    <tr style=\"text-align: right;\">\n",
       "      <th></th>\n",
       "      <th>Permit Number</th>\n",
       "      <th>Permit Type</th>\n",
       "      <th>Permit Type Definition</th>\n",
       "      <th>Permit Creation Date</th>\n",
       "      <th>Block</th>\n",
       "      <th>Lot</th>\n",
       "      <th>Street Number</th>\n",
       "      <th>Street Number Suffix</th>\n",
       "      <th>Street Name</th>\n",
       "      <th>Street Suffix</th>\n",
       "      <th>...</th>\n",
       "      <th>Existing Construction Type</th>\n",
       "      <th>Existing Construction Type Description</th>\n",
       "      <th>Proposed Construction Type</th>\n",
       "      <th>Proposed Construction Type Description</th>\n",
       "      <th>Site Permit</th>\n",
       "      <th>Supervisor District</th>\n",
       "      <th>Neighborhoods - Analysis Boundaries</th>\n",
       "      <th>Zipcode</th>\n",
       "      <th>Location</th>\n",
       "      <th>Record ID</th>\n",
       "    </tr>\n",
       "  </thead>\n",
       "  <tbody>\n",
       "    <tr>\n",
       "      <th>0</th>\n",
       "      <td>201505065519</td>\n",
       "      <td>4</td>\n",
       "      <td>sign - erect</td>\n",
       "      <td>05/06/2015</td>\n",
       "      <td>0326</td>\n",
       "      <td>023</td>\n",
       "      <td>140</td>\n",
       "      <td>NaN</td>\n",
       "      <td>Ellis</td>\n",
       "      <td>St</td>\n",
       "      <td>...</td>\n",
       "      <td>3.0</td>\n",
       "      <td>constr type 3</td>\n",
       "      <td>NaN</td>\n",
       "      <td>NaN</td>\n",
       "      <td>NaN</td>\n",
       "      <td>3.0</td>\n",
       "      <td>Tenderloin</td>\n",
       "      <td>94102.0</td>\n",
       "      <td>(37.785719256680785, -122.40852313194863)</td>\n",
       "      <td>1380611233945</td>\n",
       "    </tr>\n",
       "    <tr>\n",
       "      <th>1</th>\n",
       "      <td>201604195146</td>\n",
       "      <td>4</td>\n",
       "      <td>sign - erect</td>\n",
       "      <td>04/19/2016</td>\n",
       "      <td>0306</td>\n",
       "      <td>007</td>\n",
       "      <td>440</td>\n",
       "      <td>NaN</td>\n",
       "      <td>Geary</td>\n",
       "      <td>St</td>\n",
       "      <td>...</td>\n",
       "      <td>3.0</td>\n",
       "      <td>constr type 3</td>\n",
       "      <td>NaN</td>\n",
       "      <td>NaN</td>\n",
       "      <td>NaN</td>\n",
       "      <td>3.0</td>\n",
       "      <td>Tenderloin</td>\n",
       "      <td>94102.0</td>\n",
       "      <td>(37.78733980600732, -122.41063199757738)</td>\n",
       "      <td>1420164406718</td>\n",
       "    </tr>\n",
       "    <tr>\n",
       "      <th>2</th>\n",
       "      <td>201605278609</td>\n",
       "      <td>3</td>\n",
       "      <td>additions alterations or repairs</td>\n",
       "      <td>05/27/2016</td>\n",
       "      <td>0595</td>\n",
       "      <td>203</td>\n",
       "      <td>1647</td>\n",
       "      <td>NaN</td>\n",
       "      <td>Pacific</td>\n",
       "      <td>Av</td>\n",
       "      <td>...</td>\n",
       "      <td>1.0</td>\n",
       "      <td>constr type 1</td>\n",
       "      <td>1.0</td>\n",
       "      <td>constr type 1</td>\n",
       "      <td>NaN</td>\n",
       "      <td>3.0</td>\n",
       "      <td>Russian Hill</td>\n",
       "      <td>94109.0</td>\n",
       "      <td>(37.7946573324287, -122.42232562979227)</td>\n",
       "      <td>1424856504716</td>\n",
       "    </tr>\n",
       "    <tr>\n",
       "      <th>3</th>\n",
       "      <td>201611072166</td>\n",
       "      <td>8</td>\n",
       "      <td>otc alterations permit</td>\n",
       "      <td>11/07/2016</td>\n",
       "      <td>0156</td>\n",
       "      <td>011</td>\n",
       "      <td>1230</td>\n",
       "      <td>NaN</td>\n",
       "      <td>Pacific</td>\n",
       "      <td>Av</td>\n",
       "      <td>...</td>\n",
       "      <td>5.0</td>\n",
       "      <td>wood frame (5)</td>\n",
       "      <td>5.0</td>\n",
       "      <td>wood frame (5)</td>\n",
       "      <td>NaN</td>\n",
       "      <td>3.0</td>\n",
       "      <td>Nob Hill</td>\n",
       "      <td>94109.0</td>\n",
       "      <td>(37.79595867909168, -122.41557405519474)</td>\n",
       "      <td>1443574295566</td>\n",
       "    </tr>\n",
       "    <tr>\n",
       "      <th>4</th>\n",
       "      <td>201611283529</td>\n",
       "      <td>6</td>\n",
       "      <td>demolitions</td>\n",
       "      <td>11/28/2016</td>\n",
       "      <td>0342</td>\n",
       "      <td>001</td>\n",
       "      <td>950</td>\n",
       "      <td>NaN</td>\n",
       "      <td>Market</td>\n",
       "      <td>St</td>\n",
       "      <td>...</td>\n",
       "      <td>3.0</td>\n",
       "      <td>constr type 3</td>\n",
       "      <td>NaN</td>\n",
       "      <td>NaN</td>\n",
       "      <td>NaN</td>\n",
       "      <td>6.0</td>\n",
       "      <td>Tenderloin</td>\n",
       "      <td>94102.0</td>\n",
       "      <td>(37.78315261897309, -122.40950883997789)</td>\n",
       "      <td>144548169992</td>\n",
       "    </tr>\n",
       "  </tbody>\n",
       "</table>\n",
       "<p>5 rows × 43 columns</p>\n",
       "</div>"
      ],
      "text/plain": [
       "  Permit Number  Permit Type            Permit Type Definition  \\\n",
       "0  201505065519            4                      sign - erect   \n",
       "1  201604195146            4                      sign - erect   \n",
       "2  201605278609            3  additions alterations or repairs   \n",
       "3  201611072166            8            otc alterations permit   \n",
       "4  201611283529            6                       demolitions   \n",
       "\n",
       "  Permit Creation Date Block  Lot  Street Number Street Number Suffix  \\\n",
       "0           05/06/2015  0326  023            140                  NaN   \n",
       "1           04/19/2016  0306  007            440                  NaN   \n",
       "2           05/27/2016  0595  203           1647                  NaN   \n",
       "3           11/07/2016  0156  011           1230                  NaN   \n",
       "4           11/28/2016  0342  001            950                  NaN   \n",
       "\n",
       "  Street Name Street Suffix  ...  Existing Construction Type  \\\n",
       "0       Ellis            St  ...                         3.0   \n",
       "1       Geary            St  ...                         3.0   \n",
       "2     Pacific            Av  ...                         1.0   \n",
       "3     Pacific            Av  ...                         5.0   \n",
       "4      Market            St  ...                         3.0   \n",
       "\n",
       "  Existing Construction Type Description Proposed Construction Type  \\\n",
       "0                          constr type 3                        NaN   \n",
       "1                          constr type 3                        NaN   \n",
       "2                          constr type 1                        1.0   \n",
       "3                         wood frame (5)                        5.0   \n",
       "4                          constr type 3                        NaN   \n",
       "\n",
       "  Proposed Construction Type Description Site Permit Supervisor District  \\\n",
       "0                                    NaN         NaN                 3.0   \n",
       "1                                    NaN         NaN                 3.0   \n",
       "2                          constr type 1         NaN                 3.0   \n",
       "3                         wood frame (5)         NaN                 3.0   \n",
       "4                                    NaN         NaN                 6.0   \n",
       "\n",
       "  Neighborhoods - Analysis Boundaries  Zipcode  \\\n",
       "0                          Tenderloin  94102.0   \n",
       "1                          Tenderloin  94102.0   \n",
       "2                        Russian Hill  94109.0   \n",
       "3                            Nob Hill  94109.0   \n",
       "4                          Tenderloin  94102.0   \n",
       "\n",
       "                                    Location      Record ID  \n",
       "0  (37.785719256680785, -122.40852313194863)  1380611233945  \n",
       "1   (37.78733980600732, -122.41063199757738)  1420164406718  \n",
       "2    (37.7946573324287, -122.42232562979227)  1424856504716  \n",
       "3   (37.79595867909168, -122.41557405519474)  1443574295566  \n",
       "4   (37.78315261897309, -122.40950883997789)   144548169992  \n",
       "\n",
       "[5 rows x 43 columns]"
      ]
     },
     "execution_count": 3,
     "metadata": {},
     "output_type": "execute_result"
    }
   ],
   "source": [
    "# TODO: Your code here!\n",
    "sf_permits.head()"
   ]
  },
  {
   "cell_type": "markdown",
   "id": "e4d34b5b",
   "metadata": {
    "papermill": {
     "duration": 0.013502,
     "end_time": "2023-09-05T01:28:34.331970",
     "exception": false,
     "start_time": "2023-09-05T01:28:34.318468",
     "status": "completed"
    },
    "tags": []
   },
   "source": [
    "Yes, it does contain missing values on 'street number...', 'proposed contruction type', 'proposed construction description', etc."
   ]
  },
  {
   "cell_type": "markdown",
   "id": "a76ffe90",
   "metadata": {
    "papermill": {
     "duration": 0.013308,
     "end_time": "2023-09-05T01:28:34.358820",
     "exception": false,
     "start_time": "2023-09-05T01:28:34.345512",
     "status": "completed"
    },
    "tags": []
   },
   "source": [
    "Does the dataset have any missing values?  Once you have an answer, run the code cell below to get credit for your work."
   ]
  },
  {
   "cell_type": "code",
   "execution_count": 4,
   "id": "bd6e7d82",
   "metadata": {
    "execution": {
     "iopub.execute_input": "2023-09-05T01:28:34.387398Z",
     "iopub.status.busy": "2023-09-05T01:28:34.386585Z",
     "iopub.status.idle": "2023-09-05T01:28:34.395184Z",
     "shell.execute_reply": "2023-09-05T01:28:34.394165Z"
    },
    "papermill": {
     "duration": 0.025146,
     "end_time": "2023-09-05T01:28:34.397270",
     "exception": false,
     "start_time": "2023-09-05T01:28:34.372124",
     "status": "completed"
    },
    "tags": []
   },
   "outputs": [
    {
     "data": {
      "application/javascript": [
       "parent.postMessage({\"jupyterEvent\": \"custom.exercise_interaction\", \"data\": {\"outcomeType\": 1, \"valueTowardsCompletion\": 0.16666666666666666, \"interactionType\": 1, \"questionType\": 4, \"questionId\": \"1_TakeFirstLook\", \"learnToolsVersion\": \"0.3.4\", \"failureMessage\": \"\", \"exceptionClass\": \"\", \"trace\": \"\"}}, \"*\")"
      ],
      "text/plain": [
       "<IPython.core.display.Javascript object>"
      ]
     },
     "metadata": {},
     "output_type": "display_data"
    },
    {
     "data": {
      "text/markdown": [
       "<span style=\"color:#33cc33\">Correct:</span> \n",
       "\n",
       "The first five rows of the data does show that several columns have missing values.  You can see this in the \"Street Number Suffix\", \"Proposed Construction Type\" and \"Site Permit\" columns, among others."
      ],
      "text/plain": [
       "Correct: \n",
       "\n",
       "The first five rows of the data does show that several columns have missing values.  You can see this in the \"Street Number Suffix\", \"Proposed Construction Type\" and \"Site Permit\" columns, among others."
      ]
     },
     "metadata": {},
     "output_type": "display_data"
    }
   ],
   "source": [
    "# Check your answer (Run this code cell to receive credit!)\n",
    "q1.check()"
   ]
  },
  {
   "cell_type": "code",
   "execution_count": 5,
   "id": "e262af5e",
   "metadata": {
    "execution": {
     "iopub.execute_input": "2023-09-05T01:28:34.425657Z",
     "iopub.status.busy": "2023-09-05T01:28:34.425326Z",
     "iopub.status.idle": "2023-09-05T01:28:34.429470Z",
     "shell.execute_reply": "2023-09-05T01:28:34.428572Z"
    },
    "papermill": {
     "duration": 0.020848,
     "end_time": "2023-09-05T01:28:34.431564",
     "exception": false,
     "start_time": "2023-09-05T01:28:34.410716",
     "status": "completed"
    },
    "tags": []
   },
   "outputs": [],
   "source": [
    "# Line below will give you a hint\n",
    "#q1.hint()"
   ]
  },
  {
   "cell_type": "markdown",
   "id": "f1699b22",
   "metadata": {
    "papermill": {
     "duration": 0.012885,
     "end_time": "2023-09-05T01:28:34.457553",
     "exception": false,
     "start_time": "2023-09-05T01:28:34.444668",
     "status": "completed"
    },
    "tags": []
   },
   "source": [
    "# 2) How many missing data points do we have?\n",
    "\n",
    "What percentage of the values in the dataset are missing?  Your answer should be a number between 0 and 100.  (If 1/4 of the values in the dataset are missing, the answer is 25.)"
   ]
  },
  {
   "cell_type": "code",
   "execution_count": 6,
   "id": "ad0583a4",
   "metadata": {
    "execution": {
     "iopub.execute_input": "2023-09-05T01:28:34.486190Z",
     "iopub.status.busy": "2023-09-05T01:28:34.485827Z",
     "iopub.status.idle": "2023-09-05T01:28:34.944647Z",
     "shell.execute_reply": "2023-09-05T01:28:34.943808Z"
    },
    "papermill": {
     "duration": 0.475867,
     "end_time": "2023-09-05T01:28:34.946953",
     "exception": false,
     "start_time": "2023-09-05T01:28:34.471086",
     "status": "completed"
    },
    "tags": []
   },
   "outputs": [
    {
     "data": {
      "text/plain": [
       "Permit Number                                  0\n",
       "Permit Type                                    0\n",
       "Permit Type Definition                         0\n",
       "Permit Creation Date                           0\n",
       "Block                                          0\n",
       "Lot                                            0\n",
       "Street Number                                  0\n",
       "Street Number Suffix                      196684\n",
       "Street Name                                    0\n",
       "Street Suffix                               2768\n",
       "Unit                                      169421\n",
       "Unit Suffix                               196939\n",
       "Description                                  290\n",
       "Current Status                                 0\n",
       "Current Status Date                            0\n",
       "Filed Date                                     0\n",
       "Issued Date                                14940\n",
       "Completed Date                            101709\n",
       "First Construction Document Date           14946\n",
       "Structural Notification                   191978\n",
       "Number of Existing Stories                 42784\n",
       "Number of Proposed Stories                 42868\n",
       "Voluntary Soft-Story Retrofit             198865\n",
       "Fire Only Permit                          180073\n",
       "Permit Expiration Date                     51880\n",
       "Estimated Cost                             38066\n",
       "Revised Cost                                6066\n",
       "Existing Use                               41114\n",
       "Existing Units                             51538\n",
       "Proposed Use                               42439\n",
       "Proposed Units                             50911\n",
       "Plansets                                   37309\n",
       "TIDF Compliance                           198898\n",
       "Existing Construction Type                 43366\n",
       "Existing Construction Type Description     43366\n",
       "Proposed Construction Type                 43162\n",
       "Proposed Construction Type Description     43162\n",
       "Site Permit                               193541\n",
       "Supervisor District                         1717\n",
       "Neighborhoods - Analysis Boundaries         1725\n",
       "Zipcode                                     1716\n",
       "Location                                    1700\n",
       "Record ID                                      0\n",
       "dtype: int64"
      ]
     },
     "execution_count": 6,
     "metadata": {},
     "output_type": "execute_result"
    }
   ],
   "source": [
    "missing_values_count = sf_permits.isnull().sum()\n",
    "missing_values_count"
   ]
  },
  {
   "cell_type": "code",
   "execution_count": 7,
   "id": "6dc97c5f",
   "metadata": {
    "execution": {
     "iopub.execute_input": "2023-09-05T01:28:34.976460Z",
     "iopub.status.busy": "2023-09-05T01:28:34.976060Z",
     "iopub.status.idle": "2023-09-05T01:28:34.982911Z",
     "shell.execute_reply": "2023-09-05T01:28:34.981665Z"
    },
    "papermill": {
     "duration": 0.023882,
     "end_time": "2023-09-05T01:28:34.985015",
     "exception": false,
     "start_time": "2023-09-05T01:28:34.961133",
     "status": "completed"
    },
    "tags": []
   },
   "outputs": [
    {
     "data": {
      "text/plain": [
       "8552700"
      ]
     },
     "execution_count": 7,
     "metadata": {},
     "output_type": "execute_result"
    }
   ],
   "source": [
    "total_cells = np.product(sf_permits.shape)\n",
    "total_cells"
   ]
  },
  {
   "cell_type": "code",
   "execution_count": 8,
   "id": "4ddc6bb2",
   "metadata": {
    "execution": {
     "iopub.execute_input": "2023-09-05T01:28:35.014722Z",
     "iopub.status.busy": "2023-09-05T01:28:35.014371Z",
     "iopub.status.idle": "2023-09-05T01:28:35.021194Z",
     "shell.execute_reply": "2023-09-05T01:28:35.020176Z"
    },
    "papermill": {
     "duration": 0.024778,
     "end_time": "2023-09-05T01:28:35.023244",
     "exception": false,
     "start_time": "2023-09-05T01:28:34.998466",
     "status": "completed"
    },
    "tags": []
   },
   "outputs": [
    {
     "data": {
      "text/plain": [
       "2245941"
      ]
     },
     "execution_count": 8,
     "metadata": {},
     "output_type": "execute_result"
    }
   ],
   "source": [
    "total_missing = missing_values_count.sum()\n",
    "total_missing"
   ]
  },
  {
   "cell_type": "code",
   "execution_count": 9,
   "id": "a0167682",
   "metadata": {
    "execution": {
     "iopub.execute_input": "2023-09-05T01:28:35.054114Z",
     "iopub.status.busy": "2023-09-05T01:28:35.053466Z",
     "iopub.status.idle": "2023-09-05T01:28:35.059460Z",
     "shell.execute_reply": "2023-09-05T01:28:35.058730Z"
    },
    "papermill": {
     "duration": 0.023241,
     "end_time": "2023-09-05T01:28:35.061407",
     "exception": false,
     "start_time": "2023-09-05T01:28:35.038166",
     "status": "completed"
    },
    "tags": []
   },
   "outputs": [
    {
     "data": {
      "text/plain": [
       "26.26002315058403"
      ]
     },
     "execution_count": 9,
     "metadata": {},
     "output_type": "execute_result"
    }
   ],
   "source": [
    "# TODO: Your code here!\n",
    "percent_missing = (total_missing/total_cells) * 100\n",
    "percent_missing"
   ]
  },
  {
   "cell_type": "markdown",
   "id": "711590c6",
   "metadata": {
    "papermill": {
     "duration": 0.014801,
     "end_time": "2023-09-05T01:28:35.090429",
     "exception": false,
     "start_time": "2023-09-05T01:28:35.075628",
     "status": "completed"
    },
    "tags": []
   },
   "source": [
    "More than 1/4 is missing!"
   ]
  },
  {
   "cell_type": "code",
   "execution_count": 10,
   "id": "d4cd5db7",
   "metadata": {
    "execution": {
     "iopub.execute_input": "2023-09-05T01:28:35.120786Z",
     "iopub.status.busy": "2023-09-05T01:28:35.120443Z",
     "iopub.status.idle": "2023-09-05T01:28:35.128911Z",
     "shell.execute_reply": "2023-09-05T01:28:35.127851Z"
    },
    "papermill": {
     "duration": 0.026006,
     "end_time": "2023-09-05T01:28:35.130819",
     "exception": false,
     "start_time": "2023-09-05T01:28:35.104813",
     "status": "completed"
    },
    "tags": []
   },
   "outputs": [
    {
     "data": {
      "application/javascript": [
       "parent.postMessage({\"jupyterEvent\": \"custom.exercise_interaction\", \"data\": {\"outcomeType\": 1, \"valueTowardsCompletion\": 0.16666666666666666, \"interactionType\": 1, \"questionType\": 1, \"questionId\": \"2_PercentMissingValues\", \"learnToolsVersion\": \"0.3.4\", \"failureMessage\": \"\", \"exceptionClass\": \"\", \"trace\": \"\"}}, \"*\")"
      ],
      "text/plain": [
       "<IPython.core.display.Javascript object>"
      ]
     },
     "metadata": {},
     "output_type": "display_data"
    },
    {
     "data": {
      "text/markdown": [
       "<span style=\"color:#33cc33\">Correct</span>"
      ],
      "text/plain": [
       "Correct"
      ]
     },
     "metadata": {},
     "output_type": "display_data"
    }
   ],
   "source": [
    "# Check your answer\n",
    "q2.check()"
   ]
  },
  {
   "cell_type": "code",
   "execution_count": 11,
   "id": "4c72bc55",
   "metadata": {
    "execution": {
     "iopub.execute_input": "2023-09-05T01:28:35.160989Z",
     "iopub.status.busy": "2023-09-05T01:28:35.160402Z",
     "iopub.status.idle": "2023-09-05T01:28:35.164838Z",
     "shell.execute_reply": "2023-09-05T01:28:35.163854Z"
    },
    "papermill": {
     "duration": 0.021501,
     "end_time": "2023-09-05T01:28:35.166790",
     "exception": false,
     "start_time": "2023-09-05T01:28:35.145289",
     "status": "completed"
    },
    "tags": []
   },
   "outputs": [],
   "source": [
    "# Lines below will give you a hint or solution code\n",
    "# q2.hint()\n",
    "#q2.solution()"
   ]
  },
  {
   "cell_type": "markdown",
   "id": "a9c013d0",
   "metadata": {
    "papermill": {
     "duration": 0.014272,
     "end_time": "2023-09-05T01:28:35.195858",
     "exception": false,
     "start_time": "2023-09-05T01:28:35.181586",
     "status": "completed"
    },
    "tags": []
   },
   "source": [
    "# 3) Figure out why the data is missing\n",
    "\n",
    "Look at the columns **\"Street Number Suffix\"** and **\"Zipcode\"** from the [San Francisco Building Permits dataset](https://www.kaggle.com/aparnashastry/building-permit-applications-data). Both of these contain missing values. \n",
    "- Which, if either, are missing because they don't exist? \n",
    "- Which, if either, are missing because they weren't recorded?  \n",
    "\n",
    "Once you have an answer, run the code cell below."
   ]
  },
  {
   "cell_type": "code",
   "execution_count": 12,
   "id": "2278500d",
   "metadata": {
    "execution": {
     "iopub.execute_input": "2023-09-05T01:28:35.279600Z",
     "iopub.status.busy": "2023-09-05T01:28:35.279196Z",
     "iopub.status.idle": "2023-09-05T01:28:35.288024Z",
     "shell.execute_reply": "2023-09-05T01:28:35.286993Z"
    },
    "papermill": {
     "duration": 0.027603,
     "end_time": "2023-09-05T01:28:35.290143",
     "exception": false,
     "start_time": "2023-09-05T01:28:35.262540",
     "status": "completed"
    },
    "tags": []
   },
   "outputs": [
    {
     "data": {
      "application/javascript": [
       "parent.postMessage({\"jupyterEvent\": \"custom.exercise_interaction\", \"data\": {\"outcomeType\": 1, \"valueTowardsCompletion\": 0.16666666666666666, \"interactionType\": 1, \"questionType\": 4, \"questionId\": \"3_WhyDataMissing\", \"learnToolsVersion\": \"0.3.4\", \"failureMessage\": \"\", \"exceptionClass\": \"\", \"trace\": \"\"}}, \"*\")"
      ],
      "text/plain": [
       "<IPython.core.display.Javascript object>"
      ]
     },
     "metadata": {},
     "output_type": "display_data"
    },
    {
     "data": {
      "text/markdown": [
       "<span style=\"color:#33cc33\">Correct:</span> \n",
       "\n",
       "If a value in the \"Street Number Suffix\" column is missing, it is likely because it does not exist. If a value in the \"Zipcode\" column is missing, it was not recorded."
      ],
      "text/plain": [
       "Correct: \n",
       "\n",
       "If a value in the \"Street Number Suffix\" column is missing, it is likely because it does not exist. If a value in the \"Zipcode\" column is missing, it was not recorded."
      ]
     },
     "metadata": {},
     "output_type": "display_data"
    }
   ],
   "source": [
    "# Check your answer (Run this code cell to receive credit!)\n",
    "q3.check()"
   ]
  },
  {
   "cell_type": "code",
   "execution_count": 13,
   "id": "392be09e",
   "metadata": {
    "execution": {
     "iopub.execute_input": "2023-09-05T01:28:35.322153Z",
     "iopub.status.busy": "2023-09-05T01:28:35.321771Z",
     "iopub.status.idle": "2023-09-05T01:28:35.326159Z",
     "shell.execute_reply": "2023-09-05T01:28:35.325192Z"
    },
    "papermill": {
     "duration": 0.022841,
     "end_time": "2023-09-05T01:28:35.328149",
     "exception": false,
     "start_time": "2023-09-05T01:28:35.305308",
     "status": "completed"
    },
    "tags": []
   },
   "outputs": [],
   "source": [
    "# Line below will give you a hint\n",
    "# q3.hint()"
   ]
  },
  {
   "cell_type": "markdown",
   "id": "1755ce55",
   "metadata": {
    "papermill": {
     "duration": 0.015132,
     "end_time": "2023-09-05T01:28:35.359029",
     "exception": false,
     "start_time": "2023-09-05T01:28:35.343897",
     "status": "completed"
    },
    "tags": []
   },
   "source": [
    "# 4) Drop missing values: rows\n",
    "\n",
    "If you removed all of the rows of `sf_permits` with missing values, how many rows are left?\n",
    "\n",
    "**Note**: Do not change the value of `sf_permits` when checking this.  "
   ]
  },
  {
   "cell_type": "code",
   "execution_count": 14,
   "id": "47c79ded",
   "metadata": {
    "execution": {
     "iopub.execute_input": "2023-09-05T01:28:35.390417Z",
     "iopub.status.busy": "2023-09-05T01:28:35.390038Z",
     "iopub.status.idle": "2023-09-05T01:28:35.851219Z",
     "shell.execute_reply": "2023-09-05T01:28:35.850100Z"
    },
    "papermill": {
     "duration": 0.479913,
     "end_time": "2023-09-05T01:28:35.853658",
     "exception": false,
     "start_time": "2023-09-05T01:28:35.373745",
     "status": "completed"
    },
    "tags": []
   },
   "outputs": [
    {
     "data": {
      "text/html": [
       "<div>\n",
       "<style scoped>\n",
       "    .dataframe tbody tr th:only-of-type {\n",
       "        vertical-align: middle;\n",
       "    }\n",
       "\n",
       "    .dataframe tbody tr th {\n",
       "        vertical-align: top;\n",
       "    }\n",
       "\n",
       "    .dataframe thead th {\n",
       "        text-align: right;\n",
       "    }\n",
       "</style>\n",
       "<table border=\"1\" class=\"dataframe\">\n",
       "  <thead>\n",
       "    <tr style=\"text-align: right;\">\n",
       "      <th></th>\n",
       "      <th>Permit Number</th>\n",
       "      <th>Permit Type</th>\n",
       "      <th>Permit Type Definition</th>\n",
       "      <th>Permit Creation Date</th>\n",
       "      <th>Block</th>\n",
       "      <th>Lot</th>\n",
       "      <th>Street Number</th>\n",
       "      <th>Street Number Suffix</th>\n",
       "      <th>Street Name</th>\n",
       "      <th>Street Suffix</th>\n",
       "      <th>...</th>\n",
       "      <th>Existing Construction Type</th>\n",
       "      <th>Existing Construction Type Description</th>\n",
       "      <th>Proposed Construction Type</th>\n",
       "      <th>Proposed Construction Type Description</th>\n",
       "      <th>Site Permit</th>\n",
       "      <th>Supervisor District</th>\n",
       "      <th>Neighborhoods - Analysis Boundaries</th>\n",
       "      <th>Zipcode</th>\n",
       "      <th>Location</th>\n",
       "      <th>Record ID</th>\n",
       "    </tr>\n",
       "  </thead>\n",
       "  <tbody>\n",
       "  </tbody>\n",
       "</table>\n",
       "<p>0 rows × 43 columns</p>\n",
       "</div>"
      ],
      "text/plain": [
       "Empty DataFrame\n",
       "Columns: [Permit Number, Permit Type, Permit Type Definition, Permit Creation Date, Block, Lot, Street Number, Street Number Suffix, Street Name, Street Suffix, Unit, Unit Suffix, Description, Current Status, Current Status Date, Filed Date, Issued Date, Completed Date, First Construction Document Date, Structural Notification, Number of Existing Stories, Number of Proposed Stories, Voluntary Soft-Story Retrofit, Fire Only Permit, Permit Expiration Date, Estimated Cost, Revised Cost, Existing Use, Existing Units, Proposed Use, Proposed Units, Plansets, TIDF Compliance, Existing Construction Type, Existing Construction Type Description, Proposed Construction Type, Proposed Construction Type Description, Site Permit, Supervisor District, Neighborhoods - Analysis Boundaries, Zipcode, Location, Record ID]\n",
       "Index: []\n",
       "\n",
       "[0 rows x 43 columns]"
      ]
     },
     "execution_count": 14,
     "metadata": {},
     "output_type": "execute_result"
    }
   ],
   "source": [
    "# TODO: Your code here!\n",
    "sf_permits.dropna()"
   ]
  },
  {
   "cell_type": "markdown",
   "id": "9c7bb138",
   "metadata": {
    "papermill": {
     "duration": 0.015202,
     "end_time": "2023-09-05T01:28:35.884663",
     "exception": false,
     "start_time": "2023-09-05T01:28:35.869461",
     "status": "completed"
    },
    "tags": []
   },
   "source": [
    "Once you have an answer, run the code cell below."
   ]
  },
  {
   "cell_type": "code",
   "execution_count": 15,
   "id": "5c7f660d",
   "metadata": {
    "execution": {
     "iopub.execute_input": "2023-09-05T01:28:35.916083Z",
     "iopub.status.busy": "2023-09-05T01:28:35.915674Z",
     "iopub.status.idle": "2023-09-05T01:28:35.923613Z",
     "shell.execute_reply": "2023-09-05T01:28:35.922653Z"
    },
    "papermill": {
     "duration": 0.026422,
     "end_time": "2023-09-05T01:28:35.925773",
     "exception": false,
     "start_time": "2023-09-05T01:28:35.899351",
     "status": "completed"
    },
    "tags": []
   },
   "outputs": [
    {
     "data": {
      "application/javascript": [
       "parent.postMessage({\"jupyterEvent\": \"custom.exercise_interaction\", \"data\": {\"outcomeType\": 1, \"valueTowardsCompletion\": 0.16666666666666666, \"interactionType\": 1, \"questionType\": 4, \"questionId\": \"4_DropMissingRows\", \"learnToolsVersion\": \"0.3.4\", \"failureMessage\": \"\", \"exceptionClass\": \"\", \"trace\": \"\"}}, \"*\")"
      ],
      "text/plain": [
       "<IPython.core.display.Javascript object>"
      ]
     },
     "metadata": {},
     "output_type": "display_data"
    },
    {
     "data": {
      "text/markdown": [
       "<span style=\"color:#33cc33\">Correct:</span> \n",
       "\n",
       "There are no rows remaining in the dataset!"
      ],
      "text/plain": [
       "Correct: \n",
       "\n",
       "There are no rows remaining in the dataset!"
      ]
     },
     "metadata": {},
     "output_type": "display_data"
    }
   ],
   "source": [
    "# Check your answer (Run this code cell to receive credit!)\n",
    "q4.check()"
   ]
  },
  {
   "cell_type": "code",
   "execution_count": 16,
   "id": "3b5641af",
   "metadata": {
    "execution": {
     "iopub.execute_input": "2023-09-05T01:28:35.958250Z",
     "iopub.status.busy": "2023-09-05T01:28:35.957895Z",
     "iopub.status.idle": "2023-09-05T01:28:35.961623Z",
     "shell.execute_reply": "2023-09-05T01:28:35.960820Z"
    },
    "papermill": {
     "duration": 0.022795,
     "end_time": "2023-09-05T01:28:35.963590",
     "exception": false,
     "start_time": "2023-09-05T01:28:35.940795",
     "status": "completed"
    },
    "tags": []
   },
   "outputs": [],
   "source": [
    "# Line below will give you a hint\n",
    "#q4.hint()"
   ]
  },
  {
   "cell_type": "markdown",
   "id": "996b361f",
   "metadata": {
    "papermill": {
     "duration": 0.015332,
     "end_time": "2023-09-05T01:28:35.994189",
     "exception": false,
     "start_time": "2023-09-05T01:28:35.978857",
     "status": "completed"
    },
    "tags": []
   },
   "source": [
    "# 5) Drop missing values: columns\n",
    "\n",
    "Now try removing all the columns with empty values.  \n",
    "- Create a new DataFrame called `sf_permits_with_na_dropped` that has all of the columns with empty values removed.  \n",
    "- How many columns were removed from the original `sf_permits` DataFrame? Use this number to set the value of the `dropped_columns` variable below."
   ]
  },
  {
   "cell_type": "code",
   "execution_count": 17,
   "id": "97fefbca",
   "metadata": {
    "execution": {
     "iopub.execute_input": "2023-09-05T01:28:36.027378Z",
     "iopub.status.busy": "2023-09-05T01:28:36.027033Z",
     "iopub.status.idle": "2023-09-05T01:28:36.501305Z",
     "shell.execute_reply": "2023-09-05T01:28:36.499679Z"
    },
    "papermill": {
     "duration": 0.493754,
     "end_time": "2023-09-05T01:28:36.503723",
     "exception": false,
     "start_time": "2023-09-05T01:28:36.009969",
     "status": "completed"
    },
    "tags": []
   },
   "outputs": [
    {
     "data": {
      "text/html": [
       "<div>\n",
       "<style scoped>\n",
       "    .dataframe tbody tr th:only-of-type {\n",
       "        vertical-align: middle;\n",
       "    }\n",
       "\n",
       "    .dataframe tbody tr th {\n",
       "        vertical-align: top;\n",
       "    }\n",
       "\n",
       "    .dataframe thead th {\n",
       "        text-align: right;\n",
       "    }\n",
       "</style>\n",
       "<table border=\"1\" class=\"dataframe\">\n",
       "  <thead>\n",
       "    <tr style=\"text-align: right;\">\n",
       "      <th></th>\n",
       "      <th>Permit Number</th>\n",
       "      <th>Permit Type</th>\n",
       "      <th>Permit Type Definition</th>\n",
       "      <th>Permit Creation Date</th>\n",
       "      <th>Block</th>\n",
       "      <th>Lot</th>\n",
       "      <th>Street Number</th>\n",
       "      <th>Street Name</th>\n",
       "      <th>Current Status</th>\n",
       "      <th>Current Status Date</th>\n",
       "      <th>Filed Date</th>\n",
       "      <th>Record ID</th>\n",
       "    </tr>\n",
       "  </thead>\n",
       "  <tbody>\n",
       "    <tr>\n",
       "      <th>0</th>\n",
       "      <td>201505065519</td>\n",
       "      <td>4</td>\n",
       "      <td>sign - erect</td>\n",
       "      <td>05/06/2015</td>\n",
       "      <td>0326</td>\n",
       "      <td>023</td>\n",
       "      <td>140</td>\n",
       "      <td>Ellis</td>\n",
       "      <td>expired</td>\n",
       "      <td>12/21/2017</td>\n",
       "      <td>05/06/2015</td>\n",
       "      <td>1380611233945</td>\n",
       "    </tr>\n",
       "    <tr>\n",
       "      <th>1</th>\n",
       "      <td>201604195146</td>\n",
       "      <td>4</td>\n",
       "      <td>sign - erect</td>\n",
       "      <td>04/19/2016</td>\n",
       "      <td>0306</td>\n",
       "      <td>007</td>\n",
       "      <td>440</td>\n",
       "      <td>Geary</td>\n",
       "      <td>issued</td>\n",
       "      <td>08/03/2017</td>\n",
       "      <td>04/19/2016</td>\n",
       "      <td>1420164406718</td>\n",
       "    </tr>\n",
       "    <tr>\n",
       "      <th>2</th>\n",
       "      <td>201605278609</td>\n",
       "      <td>3</td>\n",
       "      <td>additions alterations or repairs</td>\n",
       "      <td>05/27/2016</td>\n",
       "      <td>0595</td>\n",
       "      <td>203</td>\n",
       "      <td>1647</td>\n",
       "      <td>Pacific</td>\n",
       "      <td>withdrawn</td>\n",
       "      <td>09/26/2017</td>\n",
       "      <td>05/27/2016</td>\n",
       "      <td>1424856504716</td>\n",
       "    </tr>\n",
       "    <tr>\n",
       "      <th>3</th>\n",
       "      <td>201611072166</td>\n",
       "      <td>8</td>\n",
       "      <td>otc alterations permit</td>\n",
       "      <td>11/07/2016</td>\n",
       "      <td>0156</td>\n",
       "      <td>011</td>\n",
       "      <td>1230</td>\n",
       "      <td>Pacific</td>\n",
       "      <td>complete</td>\n",
       "      <td>07/24/2017</td>\n",
       "      <td>11/07/2016</td>\n",
       "      <td>1443574295566</td>\n",
       "    </tr>\n",
       "    <tr>\n",
       "      <th>4</th>\n",
       "      <td>201611283529</td>\n",
       "      <td>6</td>\n",
       "      <td>demolitions</td>\n",
       "      <td>11/28/2016</td>\n",
       "      <td>0342</td>\n",
       "      <td>001</td>\n",
       "      <td>950</td>\n",
       "      <td>Market</td>\n",
       "      <td>issued</td>\n",
       "      <td>12/01/2017</td>\n",
       "      <td>11/28/2016</td>\n",
       "      <td>144548169992</td>\n",
       "    </tr>\n",
       "  </tbody>\n",
       "</table>\n",
       "</div>"
      ],
      "text/plain": [
       "  Permit Number  Permit Type            Permit Type Definition  \\\n",
       "0  201505065519            4                      sign - erect   \n",
       "1  201604195146            4                      sign - erect   \n",
       "2  201605278609            3  additions alterations or repairs   \n",
       "3  201611072166            8            otc alterations permit   \n",
       "4  201611283529            6                       demolitions   \n",
       "\n",
       "  Permit Creation Date Block  Lot  Street Number Street Name Current Status  \\\n",
       "0           05/06/2015  0326  023            140       Ellis        expired   \n",
       "1           04/19/2016  0306  007            440       Geary         issued   \n",
       "2           05/27/2016  0595  203           1647     Pacific      withdrawn   \n",
       "3           11/07/2016  0156  011           1230     Pacific       complete   \n",
       "4           11/28/2016  0342  001            950      Market         issued   \n",
       "\n",
       "  Current Status Date  Filed Date      Record ID  \n",
       "0          12/21/2017  05/06/2015  1380611233945  \n",
       "1          08/03/2017  04/19/2016  1420164406718  \n",
       "2          09/26/2017  05/27/2016  1424856504716  \n",
       "3          07/24/2017  11/07/2016  1443574295566  \n",
       "4          12/01/2017  11/28/2016   144548169992  "
      ]
     },
     "execution_count": 17,
     "metadata": {},
     "output_type": "execute_result"
    }
   ],
   "source": [
    "sf_permits_with_na_dropped = sf_permits.dropna(axis = 1)\n",
    "sf_permits_with_na_dropped.head()"
   ]
  },
  {
   "cell_type": "markdown",
   "id": "de18d3c3",
   "metadata": {
    "papermill": {
     "duration": 0.016265,
     "end_time": "2023-09-05T01:28:36.536784",
     "exception": false,
     "start_time": "2023-09-05T01:28:36.520519",
     "status": "completed"
    },
    "tags": []
   },
   "source": [
    "- shape() consists of array having two arguments rows and columns. shape[0]  will gave you the number of rows. shape[1] will gave you number of columns.\n",
    "- axis = 1  When the axis is set to one while performing a specific action, the action is performed on column(s) that satisfy the condition.\n"
   ]
  },
  {
   "cell_type": "code",
   "execution_count": 18,
   "id": "820e6b01",
   "metadata": {
    "execution": {
     "iopub.execute_input": "2023-09-05T01:28:36.570371Z",
     "iopub.status.busy": "2023-09-05T01:28:36.569975Z",
     "iopub.status.idle": "2023-09-05T01:28:37.042237Z",
     "shell.execute_reply": "2023-09-05T01:28:37.041232Z"
    },
    "papermill": {
     "duration": 0.491731,
     "end_time": "2023-09-05T01:28:37.044487",
     "exception": false,
     "start_time": "2023-09-05T01:28:36.552756",
     "status": "completed"
    },
    "tags": []
   },
   "outputs": [
    {
     "data": {
      "application/javascript": [
       "parent.postMessage({\"jupyterEvent\": \"custom.exercise_interaction\", \"data\": {\"outcomeType\": 1, \"valueTowardsCompletion\": 0.16666666666666666, \"interactionType\": 1, \"questionType\": 1, \"questionId\": \"5_DropMissingCols\", \"learnToolsVersion\": \"0.3.4\", \"failureMessage\": \"\", \"exceptionClass\": \"\", \"trace\": \"\"}}, \"*\")"
      ],
      "text/plain": [
       "<IPython.core.display.Javascript object>"
      ]
     },
     "metadata": {},
     "output_type": "display_data"
    },
    {
     "data": {
      "text/markdown": [
       "<span style=\"color:#33cc33\">Correct</span>"
      ],
      "text/plain": [
       "Correct"
      ]
     },
     "metadata": {},
     "output_type": "display_data"
    }
   ],
   "source": [
    "# TODO: Your code here\n",
    "sf_permits_with_na_dropped = sf_permits.dropna(axis = 1)\n",
    "cols_in_original = sf_permits.shape[1]\n",
    "cols_in_dropped = sf_permits_with_na_dropped.shape[1]\n",
    "dropped_columns = cols_in_original - cols_in_dropped\n",
    "\n",
    "\n",
    "# Check your answer\n",
    "q5.check()"
   ]
  },
  {
   "cell_type": "code",
   "execution_count": 19,
   "id": "836e85a6",
   "metadata": {
    "execution": {
     "iopub.execute_input": "2023-09-05T01:28:37.080621Z",
     "iopub.status.busy": "2023-09-05T01:28:37.080226Z",
     "iopub.status.idle": "2023-09-05T01:28:37.086927Z",
     "shell.execute_reply": "2023-09-05T01:28:37.085983Z"
    },
    "papermill": {
     "duration": 0.027543,
     "end_time": "2023-09-05T01:28:37.089085",
     "exception": false,
     "start_time": "2023-09-05T01:28:37.061542",
     "status": "completed"
    },
    "tags": []
   },
   "outputs": [
    {
     "data": {
      "text/plain": [
       "31"
      ]
     },
     "execution_count": 19,
     "metadata": {},
     "output_type": "execute_result"
    }
   ],
   "source": [
    "dropped_columns"
   ]
  },
  {
   "cell_type": "code",
   "execution_count": 20,
   "id": "ef97ff25",
   "metadata": {
    "execution": {
     "iopub.execute_input": "2023-09-05T01:28:37.124468Z",
     "iopub.status.busy": "2023-09-05T01:28:37.124107Z",
     "iopub.status.idle": "2023-09-05T01:28:37.128428Z",
     "shell.execute_reply": "2023-09-05T01:28:37.127609Z"
    },
    "papermill": {
     "duration": 0.024512,
     "end_time": "2023-09-05T01:28:37.130515",
     "exception": false,
     "start_time": "2023-09-05T01:28:37.106003",
     "status": "completed"
    },
    "tags": []
   },
   "outputs": [],
   "source": [
    "# Lines below will give you a hint or solution code\n",
    "# q5.hint()\n",
    "# q5.solution()"
   ]
  },
  {
   "cell_type": "markdown",
   "id": "a09cc6de",
   "metadata": {
    "papermill": {
     "duration": 0.016223,
     "end_time": "2023-09-05T01:28:37.163245",
     "exception": false,
     "start_time": "2023-09-05T01:28:37.147022",
     "status": "completed"
    },
    "tags": []
   },
   "source": [
    "# 6) Fill in missing values automatically\n",
    "\n",
    "Try replacing all the NaN's in the `sf_permits` data with the one that comes directly after it and then replacing any remaining NaN's with 0.  Set the result to a new DataFrame `sf_permits_with_na_imputed`."
   ]
  },
  {
   "cell_type": "markdown",
   "id": "3b0da06c",
   "metadata": {
    "papermill": {
     "duration": 0.0168,
     "end_time": "2023-09-05T01:28:37.196698",
     "exception": false,
     "start_time": "2023-09-05T01:28:37.179898",
     "status": "completed"
    },
    "tags": []
   },
   "source": [
    "Pandas dataframe.bfill() is used to backward fill the missing values in the dataset. It will backward fill the NaN values that are present in the pandas dataframe."
   ]
  },
  {
   "cell_type": "code",
   "execution_count": 21,
   "id": "e187051d",
   "metadata": {
    "execution": {
     "iopub.execute_input": "2023-09-05T01:28:37.232627Z",
     "iopub.status.busy": "2023-09-05T01:28:37.232263Z",
     "iopub.status.idle": "2023-09-05T01:28:37.246855Z",
     "shell.execute_reply": "2023-09-05T01:28:37.245795Z"
    },
    "papermill": {
     "duration": 0.03545,
     "end_time": "2023-09-05T01:28:37.249160",
     "exception": false,
     "start_time": "2023-09-05T01:28:37.213710",
     "status": "completed"
    },
    "tags": []
   },
   "outputs": [
    {
     "data": {
      "text/html": [
       "<div>\n",
       "<style scoped>\n",
       "    .dataframe tbody tr th:only-of-type {\n",
       "        vertical-align: middle;\n",
       "    }\n",
       "\n",
       "    .dataframe tbody tr th {\n",
       "        vertical-align: top;\n",
       "    }\n",
       "\n",
       "    .dataframe thead th {\n",
       "        text-align: right;\n",
       "    }\n",
       "</style>\n",
       "<table border=\"1\" class=\"dataframe\">\n",
       "  <thead>\n",
       "    <tr style=\"text-align: right;\">\n",
       "      <th></th>\n",
       "      <th>A</th>\n",
       "      <th>B</th>\n",
       "      <th>C</th>\n",
       "    </tr>\n",
       "  </thead>\n",
       "  <tbody>\n",
       "    <tr>\n",
       "      <th>0</th>\n",
       "      <td>NaN</td>\n",
       "      <td>11.0</td>\n",
       "      <td>NaN</td>\n",
       "    </tr>\n",
       "    <tr>\n",
       "      <th>1</th>\n",
       "      <td>1.0</td>\n",
       "      <td>5.0</td>\n",
       "      <td>5.0</td>\n",
       "    </tr>\n",
       "    <tr>\n",
       "      <th>2</th>\n",
       "      <td>2.0</td>\n",
       "      <td>NaN</td>\n",
       "      <td>10.0</td>\n",
       "    </tr>\n",
       "    <tr>\n",
       "      <th>3</th>\n",
       "      <td>3.0</td>\n",
       "      <td>NaN</td>\n",
       "      <td>11.0</td>\n",
       "    </tr>\n",
       "    <tr>\n",
       "      <th>4</th>\n",
       "      <td>NaN</td>\n",
       "      <td>NaN</td>\n",
       "      <td>NaN</td>\n",
       "    </tr>\n",
       "    <tr>\n",
       "      <th>5</th>\n",
       "      <td>NaN</td>\n",
       "      <td>8.0</td>\n",
       "      <td>8.0</td>\n",
       "    </tr>\n",
       "  </tbody>\n",
       "</table>\n",
       "</div>"
      ],
      "text/plain": [
       "     A     B     C\n",
       "0  NaN  11.0   NaN\n",
       "1  1.0   5.0   5.0\n",
       "2  2.0   NaN  10.0\n",
       "3  3.0   NaN  11.0\n",
       "4  NaN   NaN   NaN\n",
       "5  NaN   8.0   8.0"
      ]
     },
     "execution_count": 21,
     "metadata": {},
     "output_type": "execute_result"
    }
   ],
   "source": [
    "df = pd.DataFrame({\"A\":[None, 1, 2, 3, None, None], \n",
    "                   \"B\":[11, 5, None, None, None, 8],\n",
    "                   \"C\":[None, 5, 10, 11, None, 8]})\n",
    "df"
   ]
  },
  {
   "cell_type": "code",
   "execution_count": 22,
   "id": "79e0ea4a",
   "metadata": {
    "execution": {
     "iopub.execute_input": "2023-09-05T01:28:37.286768Z",
     "iopub.status.busy": "2023-09-05T01:28:37.285655Z",
     "iopub.status.idle": "2023-09-05T01:28:37.298864Z",
     "shell.execute_reply": "2023-09-05T01:28:37.297780Z"
    },
    "papermill": {
     "duration": 0.034448,
     "end_time": "2023-09-05T01:28:37.301012",
     "exception": false,
     "start_time": "2023-09-05T01:28:37.266564",
     "status": "completed"
    },
    "tags": []
   },
   "outputs": [
    {
     "data": {
      "text/html": [
       "<div>\n",
       "<style scoped>\n",
       "    .dataframe tbody tr th:only-of-type {\n",
       "        vertical-align: middle;\n",
       "    }\n",
       "\n",
       "    .dataframe tbody tr th {\n",
       "        vertical-align: top;\n",
       "    }\n",
       "\n",
       "    .dataframe thead th {\n",
       "        text-align: right;\n",
       "    }\n",
       "</style>\n",
       "<table border=\"1\" class=\"dataframe\">\n",
       "  <thead>\n",
       "    <tr style=\"text-align: right;\">\n",
       "      <th></th>\n",
       "      <th>A</th>\n",
       "      <th>B</th>\n",
       "      <th>C</th>\n",
       "    </tr>\n",
       "  </thead>\n",
       "  <tbody>\n",
       "    <tr>\n",
       "      <th>0</th>\n",
       "      <td>1.0</td>\n",
       "      <td>11.0</td>\n",
       "      <td>5.0</td>\n",
       "    </tr>\n",
       "    <tr>\n",
       "      <th>1</th>\n",
       "      <td>1.0</td>\n",
       "      <td>5.0</td>\n",
       "      <td>5.0</td>\n",
       "    </tr>\n",
       "    <tr>\n",
       "      <th>2</th>\n",
       "      <td>2.0</td>\n",
       "      <td>8.0</td>\n",
       "      <td>10.0</td>\n",
       "    </tr>\n",
       "    <tr>\n",
       "      <th>3</th>\n",
       "      <td>3.0</td>\n",
       "      <td>8.0</td>\n",
       "      <td>11.0</td>\n",
       "    </tr>\n",
       "    <tr>\n",
       "      <th>4</th>\n",
       "      <td>NaN</td>\n",
       "      <td>8.0</td>\n",
       "      <td>8.0</td>\n",
       "    </tr>\n",
       "    <tr>\n",
       "      <th>5</th>\n",
       "      <td>NaN</td>\n",
       "      <td>8.0</td>\n",
       "      <td>8.0</td>\n",
       "    </tr>\n",
       "  </tbody>\n",
       "</table>\n",
       "</div>"
      ],
      "text/plain": [
       "     A     B     C\n",
       "0  1.0  11.0   5.0\n",
       "1  1.0   5.0   5.0\n",
       "2  2.0   8.0  10.0\n",
       "3  3.0   8.0  11.0\n",
       "4  NaN   8.0   8.0\n",
       "5  NaN   8.0   8.0"
      ]
     },
     "execution_count": 22,
     "metadata": {},
     "output_type": "execute_result"
    }
   ],
   "source": [
    "df = df.fillna(method = 'bfill', axis = 0)\n",
    "df"
   ]
  },
  {
   "cell_type": "code",
   "execution_count": 23,
   "id": "fb3818e2",
   "metadata": {
    "execution": {
     "iopub.execute_input": "2023-09-05T01:28:37.338633Z",
     "iopub.status.busy": "2023-09-05T01:28:37.338258Z",
     "iopub.status.idle": "2023-09-05T01:28:37.351014Z",
     "shell.execute_reply": "2023-09-05T01:28:37.350002Z"
    },
    "papermill": {
     "duration": 0.034221,
     "end_time": "2023-09-05T01:28:37.353076",
     "exception": false,
     "start_time": "2023-09-05T01:28:37.318855",
     "status": "completed"
    },
    "tags": []
   },
   "outputs": [
    {
     "data": {
      "text/html": [
       "<div>\n",
       "<style scoped>\n",
       "    .dataframe tbody tr th:only-of-type {\n",
       "        vertical-align: middle;\n",
       "    }\n",
       "\n",
       "    .dataframe tbody tr th {\n",
       "        vertical-align: top;\n",
       "    }\n",
       "\n",
       "    .dataframe thead th {\n",
       "        text-align: right;\n",
       "    }\n",
       "</style>\n",
       "<table border=\"1\" class=\"dataframe\">\n",
       "  <thead>\n",
       "    <tr style=\"text-align: right;\">\n",
       "      <th></th>\n",
       "      <th>A</th>\n",
       "      <th>B</th>\n",
       "      <th>C</th>\n",
       "    </tr>\n",
       "  </thead>\n",
       "  <tbody>\n",
       "    <tr>\n",
       "      <th>0</th>\n",
       "      <td>1.0</td>\n",
       "      <td>11.0</td>\n",
       "      <td>5.0</td>\n",
       "    </tr>\n",
       "    <tr>\n",
       "      <th>1</th>\n",
       "      <td>1.0</td>\n",
       "      <td>5.0</td>\n",
       "      <td>5.0</td>\n",
       "    </tr>\n",
       "    <tr>\n",
       "      <th>2</th>\n",
       "      <td>2.0</td>\n",
       "      <td>8.0</td>\n",
       "      <td>10.0</td>\n",
       "    </tr>\n",
       "    <tr>\n",
       "      <th>3</th>\n",
       "      <td>3.0</td>\n",
       "      <td>8.0</td>\n",
       "      <td>11.0</td>\n",
       "    </tr>\n",
       "    <tr>\n",
       "      <th>4</th>\n",
       "      <td>0.0</td>\n",
       "      <td>8.0</td>\n",
       "      <td>8.0</td>\n",
       "    </tr>\n",
       "    <tr>\n",
       "      <th>5</th>\n",
       "      <td>0.0</td>\n",
       "      <td>8.0</td>\n",
       "      <td>8.0</td>\n",
       "    </tr>\n",
       "  </tbody>\n",
       "</table>\n",
       "</div>"
      ],
      "text/plain": [
       "     A     B     C\n",
       "0  1.0  11.0   5.0\n",
       "1  1.0   5.0   5.0\n",
       "2  2.0   8.0  10.0\n",
       "3  3.0   8.0  11.0\n",
       "4  0.0   8.0   8.0\n",
       "5  0.0   8.0   8.0"
      ]
     },
     "execution_count": 23,
     "metadata": {},
     "output_type": "execute_result"
    }
   ],
   "source": [
    "df = df.fillna(0)\n",
    "df"
   ]
  },
  {
   "cell_type": "code",
   "execution_count": 24,
   "id": "e88f9b5e",
   "metadata": {
    "execution": {
     "iopub.execute_input": "2023-09-05T01:28:37.390816Z",
     "iopub.status.busy": "2023-09-05T01:28:37.389882Z",
     "iopub.status.idle": "2023-09-05T01:28:38.655272Z",
     "shell.execute_reply": "2023-09-05T01:28:38.654146Z"
    },
    "papermill": {
     "duration": 1.286666,
     "end_time": "2023-09-05T01:28:38.657593",
     "exception": false,
     "start_time": "2023-09-05T01:28:37.370927",
     "status": "completed"
    },
    "tags": []
   },
   "outputs": [
    {
     "data": {
      "application/javascript": [
       "parent.postMessage({\"jupyterEvent\": \"custom.exercise_interaction\", \"data\": {\"outcomeType\": 1, \"valueTowardsCompletion\": 0.16666666666666666, \"interactionType\": 1, \"questionType\": 1, \"questionId\": \"6_ImputeAutomatically\", \"learnToolsVersion\": \"0.3.4\", \"failureMessage\": \"\", \"exceptionClass\": \"\", \"trace\": \"\"}}, \"*\")"
      ],
      "text/plain": [
       "<IPython.core.display.Javascript object>"
      ]
     },
     "metadata": {},
     "output_type": "display_data"
    },
    {
     "data": {
      "text/markdown": [
       "<span style=\"color:#33cc33\">Correct</span>"
      ],
      "text/plain": [
       "Correct"
      ]
     },
     "metadata": {},
     "output_type": "display_data"
    }
   ],
   "source": [
    "# TODO: Your code here\n",
    "sf_permits_with_na_imputed = sf_permits.fillna(method='bfill', axis = 0)\n",
    "sf_permits_with_na_imputed = sf_permits_with_na_imputed.fillna(0)\n",
    "\n",
    "# Check your answer\n",
    "q6.check()"
   ]
  },
  {
   "cell_type": "code",
   "execution_count": 25,
   "id": "d43a2267",
   "metadata": {
    "execution": {
     "iopub.execute_input": "2023-09-05T01:28:38.697399Z",
     "iopub.status.busy": "2023-09-05T01:28:38.697036Z",
     "iopub.status.idle": "2023-09-05T01:28:38.701821Z",
     "shell.execute_reply": "2023-09-05T01:28:38.700666Z"
    },
    "papermill": {
     "duration": 0.02744,
     "end_time": "2023-09-05T01:28:38.704149",
     "exception": false,
     "start_time": "2023-09-05T01:28:38.676709",
     "status": "completed"
    },
    "tags": []
   },
   "outputs": [],
   "source": [
    "# Lines below will give you a hint or solution code\n",
    "# q6.hint()\n",
    "# q6.solution()"
   ]
  },
  {
   "cell_type": "markdown",
   "id": "9a24bf17",
   "metadata": {
    "papermill": {
     "duration": 0.018676,
     "end_time": "2023-09-05T01:28:38.741515",
     "exception": false,
     "start_time": "2023-09-05T01:28:38.722839",
     "status": "completed"
    },
    "tags": []
   },
   "source": [
    "# More practice\n",
    "\n",
    "If you're looking for more practice handling missing values:\n",
    "\n",
    "* Check out [this noteboook](https://www.kaggle.com/alexisbcook/missing-values) on handling missing values using scikit-learn's imputer. \n",
    "* Look back at the \"Zipcode\" column in the `sf_permits` dataset, which has some missing values. How would you go about figuring out what the actual zipcode of each address should be? (You might try using another dataset. You can search for datasets about San Fransisco on the [Datasets listing](https://www.kaggle.com/datasets).) \n",
    "\n",
    "# Keep going\n",
    "\n",
    "In the next lesson, learn how to [**apply scaling and normalization**](https://www.kaggle.com/alexisbcook/scaling-and-normalization) to transform your data."
   ]
  },
  {
   "cell_type": "markdown",
   "id": "df22c101",
   "metadata": {
    "papermill": {
     "duration": 0.018468,
     "end_time": "2023-09-05T01:28:38.778750",
     "exception": false,
     "start_time": "2023-09-05T01:28:38.760282",
     "status": "completed"
    },
    "tags": []
   },
   "source": [
    "---\n",
    "\n",
    "\n",
    "\n",
    "\n",
    "*Have questions or comments? Visit the [course discussion forum](https://www.kaggle.com/learn/data-cleaning/discussion) to chat with other learners.*"
   ]
  }
 ],
 "kernelspec": {
  "display_name": "Python 3",
  "language": "python",
  "name": "python3"
 },
 "language_info": {
  "codemirror_mode": {
   "name": "ipython",
   "version": 3
  },
  "file_extension": ".py",
  "mimetype": "text/x-python",
  "name": "python",
  "nbconvert_exporter": "python",
  "pygments_lexer": "ipython3",
  "version": "3.6.4"
 },
 "metadata": {
  "kernelspec": {
   "display_name": "Python 3",
   "language": "python",
   "name": "python3"
  },
  "language_info": {
   "codemirror_mode": {
    "name": "ipython",
    "version": 3
   },
   "file_extension": ".py",
   "mimetype": "text/x-python",
   "name": "python",
   "nbconvert_exporter": "python",
   "pygments_lexer": "ipython3",
   "version": "3.10.12"
  },
  "papermill": {
   "default_parameters": {},
   "duration": 17.224535,
   "end_time": "2023-09-05T01:28:39.417688",
   "environment_variables": {},
   "exception": null,
   "input_path": "__notebook__.ipynb",
   "output_path": "__notebook__.ipynb",
   "parameters": {},
   "start_time": "2023-09-05T01:28:22.193153",
   "version": "2.4.0"
  }
 },
 "nbformat": 4,
 "nbformat_minor": 5
}
