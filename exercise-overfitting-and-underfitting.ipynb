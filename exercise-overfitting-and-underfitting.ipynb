{
 "cells": [
  {
   "cell_type": "markdown",
   "id": "c3535f20",
   "metadata": {
    "papermill": {
     "duration": 0.005733,
     "end_time": "2023-10-17T01:39:07.508727",
     "exception": false,
     "start_time": "2023-10-17T01:39:07.502994",
     "status": "completed"
    },
    "tags": []
   },
   "source": [
    "**This notebook is an exercise in the [Intro to Deep Learning](https://www.kaggle.com/learn/intro-to-deep-learning) course.  You can reference the tutorial at [this link](https://www.kaggle.com/ryanholbrook/overfitting-and-underfitting).**\n",
    "\n",
    "---\n"
   ]
  },
  {
   "cell_type": "markdown",
   "id": "ca31db56",
   "metadata": {
    "papermill": {
     "duration": 0.003524,
     "end_time": "2023-10-17T01:39:07.516165",
     "exception": false,
     "start_time": "2023-10-17T01:39:07.512641",
     "status": "completed"
    },
    "tags": []
   },
   "source": [
    "# Introduction #\n",
    "\n",
    "In this exercise, you’ll learn how to improve training outcomes by including an early stopping callback to prevent overfitting.\n",
    "\n",
    "When you're ready, run this next cell to set everything up!"
   ]
  },
  {
   "cell_type": "code",
   "execution_count": 1,
   "id": "aeeaa4dc",
   "metadata": {
    "execution": {
     "iopub.execute_input": "2023-10-17T01:39:07.525214Z",
     "iopub.status.busy": "2023-10-17T01:39:07.524892Z",
     "iopub.status.idle": "2023-10-17T01:39:08.227091Z",
     "shell.execute_reply": "2023-10-17T01:39:08.226169Z"
    },
    "papermill": {
     "duration": 0.709404,
     "end_time": "2023-10-17T01:39:08.229215",
     "exception": false,
     "start_time": "2023-10-17T01:39:07.519811",
     "status": "completed"
    },
    "tags": []
   },
   "outputs": [
    {
     "name": "stderr",
     "output_type": "stream",
     "text": [
      "/tmp/ipykernel_24/1500229236.py:3: MatplotlibDeprecationWarning: The seaborn styles shipped by Matplotlib are deprecated since 3.6, as they no longer correspond to the styles shipped by seaborn. However, they will remain available as 'seaborn-v0_8-<style>'. Alternatively, directly use the seaborn API instead.\n",
      "  plt.style.use('seaborn-whitegrid')\n"
     ]
    }
   ],
   "source": [
    "# Setup plotting\n",
    "import matplotlib.pyplot as plt\n",
    "plt.style.use('seaborn-whitegrid')\n",
    "# Set Matplotlib defaults\n",
    "plt.rc('figure', autolayout=True)\n",
    "plt.rc('axes', labelweight='bold', labelsize='large',\n",
    "       titleweight='bold', titlesize=18, titlepad=10)\n",
    "plt.rc('animation', html='html5')\n",
    "\n",
    "# Setup feedback system\n",
    "from learntools.core import binder\n",
    "binder.bind(globals())\n",
    "from learntools.deep_learning_intro.ex4 import *"
   ]
  },
  {
   "cell_type": "markdown",
   "id": "e78e8a57",
   "metadata": {
    "papermill": {
     "duration": 0.003681,
     "end_time": "2023-10-17T01:39:08.237051",
     "exception": false,
     "start_time": "2023-10-17T01:39:08.233370",
     "status": "completed"
    },
    "tags": []
   },
   "source": [
    "First load the *Spotify* dataset. Your task will be to predict the popularity of a song based on various audio features, like `'tempo'`, `'danceability'`, and `'mode'`."
   ]
  },
  {
   "cell_type": "code",
   "execution_count": 2,
   "id": "96a43862",
   "metadata": {
    "execution": {
     "iopub.execute_input": "2023-10-17T01:39:08.245686Z",
     "iopub.status.busy": "2023-10-17T01:39:08.245309Z",
     "iopub.status.idle": "2023-10-17T01:39:17.017159Z",
     "shell.execute_reply": "2023-10-17T01:39:17.015939Z"
    },
    "papermill": {
     "duration": 8.778438,
     "end_time": "2023-10-17T01:39:17.019084",
     "exception": false,
     "start_time": "2023-10-17T01:39:08.240646",
     "status": "completed"
    },
    "tags": []
   },
   "outputs": [
    {
     "name": "stderr",
     "output_type": "stream",
     "text": [
      "/opt/conda/lib/python3.10/site-packages/scipy/__init__.py:146: UserWarning: A NumPy version >=1.16.5 and <1.23.0 is required for this version of SciPy (detected version 1.23.5\n",
      "  warnings.warn(f\"A NumPy version >={np_minversion} and <{np_maxversion}\"\n"
     ]
    },
    {
     "name": "stdout",
     "output_type": "stream",
     "text": [
      "Input shape: [18]\n"
     ]
    }
   ],
   "source": [
    "import pandas as pd\n",
    "from sklearn.preprocessing import StandardScaler, OneHotEncoder\n",
    "from sklearn.compose import make_column_transformer\n",
    "from sklearn.model_selection import GroupShuffleSplit\n",
    "import numpy as np\n",
    "\n",
    "from tensorflow import keras\n",
    "from tensorflow.keras import layers\n",
    "from tensorflow.keras import callbacks\n",
    "\n",
    "spotify = pd.read_csv('../input/dl-course-data/spotify.csv')\n",
    "\n",
    "X = spotify.copy().dropna()\n",
    "y = X.pop('track_popularity')\n",
    "artists = X['track_artist']\n",
    "\n",
    "features_num = ['danceability', 'energy', 'key', 'loudness', 'mode',\n",
    "                'speechiness', 'acousticness', 'instrumentalness',\n",
    "                'liveness', 'valence', 'tempo', 'duration_ms']\n",
    "features_cat = ['playlist_genre']\n",
    "\n",
    "preprocessor = make_column_transformer(\n",
    "    (StandardScaler(), features_num),\n",
    "    (OneHotEncoder(), features_cat),\n",
    ")\n",
    "\n",
    "# We'll do a \"grouped\" split to keep all of an artist's songs in one\n",
    "# split or the other. This is to help prevent signal leakage.\n",
    "def group_split(X, y, group, train_size=0.75):\n",
    "    splitter = GroupShuffleSplit(train_size=train_size)\n",
    "    train, test = next(splitter.split(X, y, groups=group))\n",
    "    return (X.iloc[train], X.iloc[test], y.iloc[train], y.iloc[test])\n",
    "\n",
    "X_train, X_valid, y_train, y_valid = group_split(X, y, artists)\n",
    "\n",
    "X_train = preprocessor.fit_transform(X_train)\n",
    "X_valid = preprocessor.transform(X_valid)\n",
    "y_train = y_train / 100 # popularity is on a scale 0-100, so this rescales to 0-1.\n",
    "y_valid = y_valid / 100\n",
    "\n",
    "input_shape = [X_train.shape[1]]\n",
    "print(\"Input shape: {}\".format(input_shape))"
   ]
  },
  {
   "cell_type": "code",
   "execution_count": 3,
   "id": "e8575b88",
   "metadata": {
    "execution": {
     "iopub.execute_input": "2023-10-17T01:39:17.028461Z",
     "iopub.status.busy": "2023-10-17T01:39:17.028196Z",
     "iopub.status.idle": "2023-10-17T01:39:17.050588Z",
     "shell.execute_reply": "2023-10-17T01:39:17.049650Z"
    },
    "papermill": {
     "duration": 0.029435,
     "end_time": "2023-10-17T01:39:17.052837",
     "exception": false,
     "start_time": "2023-10-17T01:39:17.023402",
     "status": "completed"
    },
    "tags": []
   },
   "outputs": [
    {
     "data": {
      "text/html": [
       "<div>\n",
       "<style scoped>\n",
       "    .dataframe tbody tr th:only-of-type {\n",
       "        vertical-align: middle;\n",
       "    }\n",
       "\n",
       "    .dataframe tbody tr th {\n",
       "        vertical-align: top;\n",
       "    }\n",
       "\n",
       "    .dataframe thead th {\n",
       "        text-align: right;\n",
       "    }\n",
       "</style>\n",
       "<table border=\"1\" class=\"dataframe\">\n",
       "  <thead>\n",
       "    <tr style=\"text-align: right;\">\n",
       "      <th></th>\n",
       "      <th>track_id</th>\n",
       "      <th>track_name</th>\n",
       "      <th>track_artist</th>\n",
       "      <th>track_popularity</th>\n",
       "      <th>track_album_id</th>\n",
       "      <th>track_album_name</th>\n",
       "      <th>track_album_release_date</th>\n",
       "      <th>playlist_name</th>\n",
       "      <th>playlist_id</th>\n",
       "      <th>playlist_genre</th>\n",
       "      <th>...</th>\n",
       "      <th>key</th>\n",
       "      <th>loudness</th>\n",
       "      <th>mode</th>\n",
       "      <th>speechiness</th>\n",
       "      <th>acousticness</th>\n",
       "      <th>instrumentalness</th>\n",
       "      <th>liveness</th>\n",
       "      <th>valence</th>\n",
       "      <th>tempo</th>\n",
       "      <th>duration_ms</th>\n",
       "    </tr>\n",
       "  </thead>\n",
       "  <tbody>\n",
       "    <tr>\n",
       "      <th>0</th>\n",
       "      <td>6f807x0ima9a1j3VPbc7VN</td>\n",
       "      <td>I Don't Care (with Justin Bieber) - Loud Luxur...</td>\n",
       "      <td>Ed Sheeran</td>\n",
       "      <td>66</td>\n",
       "      <td>2oCs0DGTsRO98Gh5ZSl2Cx</td>\n",
       "      <td>I Don't Care (with Justin Bieber) [Loud Luxury...</td>\n",
       "      <td>2019-06-14</td>\n",
       "      <td>Pop Remix</td>\n",
       "      <td>37i9dQZF1DXcZDD7cfEKhW</td>\n",
       "      <td>pop</td>\n",
       "      <td>...</td>\n",
       "      <td>6</td>\n",
       "      <td>-2.634</td>\n",
       "      <td>1</td>\n",
       "      <td>0.0583</td>\n",
       "      <td>0.1020</td>\n",
       "      <td>0.000000</td>\n",
       "      <td>0.0653</td>\n",
       "      <td>0.518</td>\n",
       "      <td>122.036</td>\n",
       "      <td>194754</td>\n",
       "    </tr>\n",
       "    <tr>\n",
       "      <th>1</th>\n",
       "      <td>0r7CVbZTWZgbTCYdfa2P31</td>\n",
       "      <td>Memories - Dillon Francis Remix</td>\n",
       "      <td>Maroon 5</td>\n",
       "      <td>67</td>\n",
       "      <td>63rPSO264uRjW1X5E6cWv6</td>\n",
       "      <td>Memories (Dillon Francis Remix)</td>\n",
       "      <td>2019-12-13</td>\n",
       "      <td>Pop Remix</td>\n",
       "      <td>37i9dQZF1DXcZDD7cfEKhW</td>\n",
       "      <td>pop</td>\n",
       "      <td>...</td>\n",
       "      <td>11</td>\n",
       "      <td>-4.969</td>\n",
       "      <td>1</td>\n",
       "      <td>0.0373</td>\n",
       "      <td>0.0724</td>\n",
       "      <td>0.004210</td>\n",
       "      <td>0.3570</td>\n",
       "      <td>0.693</td>\n",
       "      <td>99.972</td>\n",
       "      <td>162600</td>\n",
       "    </tr>\n",
       "    <tr>\n",
       "      <th>2</th>\n",
       "      <td>1z1Hg7Vb0AhHDiEmnDE79l</td>\n",
       "      <td>All the Time - Don Diablo Remix</td>\n",
       "      <td>Zara Larsson</td>\n",
       "      <td>70</td>\n",
       "      <td>1HoSmj2eLcsrR0vE9gThr4</td>\n",
       "      <td>All the Time (Don Diablo Remix)</td>\n",
       "      <td>2019-07-05</td>\n",
       "      <td>Pop Remix</td>\n",
       "      <td>37i9dQZF1DXcZDD7cfEKhW</td>\n",
       "      <td>pop</td>\n",
       "      <td>...</td>\n",
       "      <td>1</td>\n",
       "      <td>-3.432</td>\n",
       "      <td>0</td>\n",
       "      <td>0.0742</td>\n",
       "      <td>0.0794</td>\n",
       "      <td>0.000023</td>\n",
       "      <td>0.1100</td>\n",
       "      <td>0.613</td>\n",
       "      <td>124.008</td>\n",
       "      <td>176616</td>\n",
       "    </tr>\n",
       "    <tr>\n",
       "      <th>3</th>\n",
       "      <td>75FpbthrwQmzHlBJLuGdC7</td>\n",
       "      <td>Call You Mine - Keanu Silva Remix</td>\n",
       "      <td>The Chainsmokers</td>\n",
       "      <td>60</td>\n",
       "      <td>1nqYsOef1yKKuGOVchbsk6</td>\n",
       "      <td>Call You Mine - The Remixes</td>\n",
       "      <td>2019-07-19</td>\n",
       "      <td>Pop Remix</td>\n",
       "      <td>37i9dQZF1DXcZDD7cfEKhW</td>\n",
       "      <td>pop</td>\n",
       "      <td>...</td>\n",
       "      <td>7</td>\n",
       "      <td>-3.778</td>\n",
       "      <td>1</td>\n",
       "      <td>0.1020</td>\n",
       "      <td>0.0287</td>\n",
       "      <td>0.000009</td>\n",
       "      <td>0.2040</td>\n",
       "      <td>0.277</td>\n",
       "      <td>121.956</td>\n",
       "      <td>169093</td>\n",
       "    </tr>\n",
       "    <tr>\n",
       "      <th>4</th>\n",
       "      <td>1e8PAfcKUYoKkxPhrHqw4x</td>\n",
       "      <td>Someone You Loved - Future Humans Remix</td>\n",
       "      <td>Lewis Capaldi</td>\n",
       "      <td>69</td>\n",
       "      <td>7m7vv9wlQ4i0LFuJiE2zsQ</td>\n",
       "      <td>Someone You Loved (Future Humans Remix)</td>\n",
       "      <td>2019-03-05</td>\n",
       "      <td>Pop Remix</td>\n",
       "      <td>37i9dQZF1DXcZDD7cfEKhW</td>\n",
       "      <td>pop</td>\n",
       "      <td>...</td>\n",
       "      <td>1</td>\n",
       "      <td>-4.672</td>\n",
       "      <td>1</td>\n",
       "      <td>0.0359</td>\n",
       "      <td>0.0803</td>\n",
       "      <td>0.000000</td>\n",
       "      <td>0.0833</td>\n",
       "      <td>0.725</td>\n",
       "      <td>123.976</td>\n",
       "      <td>189052</td>\n",
       "    </tr>\n",
       "  </tbody>\n",
       "</table>\n",
       "<p>5 rows × 23 columns</p>\n",
       "</div>"
      ],
      "text/plain": [
       "                 track_id                                         track_name  \\\n",
       "0  6f807x0ima9a1j3VPbc7VN  I Don't Care (with Justin Bieber) - Loud Luxur...   \n",
       "1  0r7CVbZTWZgbTCYdfa2P31                    Memories - Dillon Francis Remix   \n",
       "2  1z1Hg7Vb0AhHDiEmnDE79l                    All the Time - Don Diablo Remix   \n",
       "3  75FpbthrwQmzHlBJLuGdC7                  Call You Mine - Keanu Silva Remix   \n",
       "4  1e8PAfcKUYoKkxPhrHqw4x            Someone You Loved - Future Humans Remix   \n",
       "\n",
       "       track_artist  track_popularity          track_album_id  \\\n",
       "0        Ed Sheeran                66  2oCs0DGTsRO98Gh5ZSl2Cx   \n",
       "1          Maroon 5                67  63rPSO264uRjW1X5E6cWv6   \n",
       "2      Zara Larsson                70  1HoSmj2eLcsrR0vE9gThr4   \n",
       "3  The Chainsmokers                60  1nqYsOef1yKKuGOVchbsk6   \n",
       "4     Lewis Capaldi                69  7m7vv9wlQ4i0LFuJiE2zsQ   \n",
       "\n",
       "                                    track_album_name track_album_release_date  \\\n",
       "0  I Don't Care (with Justin Bieber) [Loud Luxury...               2019-06-14   \n",
       "1                    Memories (Dillon Francis Remix)               2019-12-13   \n",
       "2                    All the Time (Don Diablo Remix)               2019-07-05   \n",
       "3                        Call You Mine - The Remixes               2019-07-19   \n",
       "4            Someone You Loved (Future Humans Remix)               2019-03-05   \n",
       "\n",
       "  playlist_name             playlist_id playlist_genre  ... key  loudness  \\\n",
       "0     Pop Remix  37i9dQZF1DXcZDD7cfEKhW            pop  ...   6    -2.634   \n",
       "1     Pop Remix  37i9dQZF1DXcZDD7cfEKhW            pop  ...  11    -4.969   \n",
       "2     Pop Remix  37i9dQZF1DXcZDD7cfEKhW            pop  ...   1    -3.432   \n",
       "3     Pop Remix  37i9dQZF1DXcZDD7cfEKhW            pop  ...   7    -3.778   \n",
       "4     Pop Remix  37i9dQZF1DXcZDD7cfEKhW            pop  ...   1    -4.672   \n",
       "\n",
       "   mode  speechiness  acousticness  instrumentalness  liveness  valence  \\\n",
       "0     1       0.0583        0.1020          0.000000    0.0653    0.518   \n",
       "1     1       0.0373        0.0724          0.004210    0.3570    0.693   \n",
       "2     0       0.0742        0.0794          0.000023    0.1100    0.613   \n",
       "3     1       0.1020        0.0287          0.000009    0.2040    0.277   \n",
       "4     1       0.0359        0.0803          0.000000    0.0833    0.725   \n",
       "\n",
       "     tempo  duration_ms  \n",
       "0  122.036       194754  \n",
       "1   99.972       162600  \n",
       "2  124.008       176616  \n",
       "3  121.956       169093  \n",
       "4  123.976       189052  \n",
       "\n",
       "[5 rows x 23 columns]"
      ]
     },
     "execution_count": 3,
     "metadata": {},
     "output_type": "execute_result"
    }
   ],
   "source": [
    "spotify.head()"
   ]
  },
  {
   "cell_type": "markdown",
   "id": "25e80b92",
   "metadata": {
    "papermill": {
     "duration": 0.003948,
     "end_time": "2023-10-17T01:39:17.061166",
     "exception": false,
     "start_time": "2023-10-17T01:39:17.057218",
     "status": "completed"
    },
    "tags": []
   },
   "source": [
    "Let's start with the simplest network, a linear model. This model has low capacity.\n",
    "\n",
    "Run this next cell without any changes to train a linear model on the *Spotify* dataset."
   ]
  },
  {
   "cell_type": "code",
   "execution_count": 4,
   "id": "5d02e5ac",
   "metadata": {
    "execution": {
     "iopub.execute_input": "2023-10-17T01:39:17.070380Z",
     "iopub.status.busy": "2023-10-17T01:39:17.070104Z",
     "iopub.status.idle": "2023-10-17T01:39:42.186160Z",
     "shell.execute_reply": "2023-10-17T01:39:42.185251Z"
    },
    "lines_to_next_cell": 0,
    "papermill": {
     "duration": 25.122918,
     "end_time": "2023-10-17T01:39:42.188075",
     "exception": false,
     "start_time": "2023-10-17T01:39:17.065157",
     "status": "completed"
    },
    "tags": []
   },
   "outputs": [
    {
     "name": "stdout",
     "output_type": "stream",
     "text": [
      "Minimum Validation Loss: 0.1934\n"
     ]
    },
    {
     "data": {
      "image/png": "[encoded data removed]",
      "text/plain": [
       "<Figure size 640x480 with 1 Axes>"
      ]
     },
     "metadata": {},
     "output_type": "display_data"
    }
   ],
   "source": [
    "model = keras.Sequential([\n",
    "    layers.Dense(1, input_shape=input_shape),\n",
    "])\n",
    "model.compile(\n",
    "    optimizer='adam',\n",
    "    loss='mae',\n",
    ")\n",
    "history = model.fit(\n",
    "    X_train, y_train,\n",
    "    validation_data=(X_valid, y_valid),\n",
    "    batch_size=512,\n",
    "    epochs=50,\n",
    "    verbose=0, # suppress output since we'll plot the curves\n",
    ")\n",
    "history_df = pd.DataFrame(history.history)\n",
    "history_df.loc[0:, ['loss', 'val_loss']].plot()\n",
    "print(\"Minimum Validation Loss: {:0.4f}\".format(history_df['val_loss'].min()));"
   ]
  },
  {
   "cell_type": "markdown",
   "id": "09fc7cfb",
   "metadata": {
    "papermill": {
     "duration": 0.004692,
     "end_time": "2023-10-17T01:39:42.197686",
     "exception": false,
     "start_time": "2023-10-17T01:39:42.192994",
     "status": "completed"
    },
    "tags": []
   },
   "source": [
    "It's not uncommon for the curves to follow a \"hockey stick\" pattern like you see here. This makes the final part of training hard to see, so let's start at epoch 10 instead:"
   ]
  },
  {
   "cell_type": "code",
   "execution_count": 5,
   "id": "a5cad8df",
   "metadata": {
    "execution": {
     "iopub.execute_input": "2023-10-17T01:39:42.209069Z",
     "iopub.status.busy": "2023-10-17T01:39:42.207945Z",
     "iopub.status.idle": "2023-10-17T01:39:42.598727Z",
     "shell.execute_reply": "2023-10-17T01:39:42.597917Z"
    },
    "papermill": {
     "duration": 0.398602,
     "end_time": "2023-10-17T01:39:42.600969",
     "exception": false,
     "start_time": "2023-10-17T01:39:42.202367",
     "status": "completed"
    },
    "tags": []
   },
   "outputs": [
    {
     "name": "stdout",
     "output_type": "stream",
     "text": [
      "Minimum Validation Loss: 0.1934\n"
     ]
    },
    {
     "data": {
      "image/png": "[encoded data removed]",
      "text/plain": [
       "<Figure size 640x480 with 1 Axes>"
      ]
     },
     "metadata": {},
     "output_type": "display_data"
    }
   ],
   "source": [
    "# Start the plot at epoch 10\n",
    "history_df.loc[10:, ['loss', 'val_loss']].plot()\n",
    "print(\"Minimum Validation Loss: {:0.4f}\".format(history_df['val_loss'].min()));"
   ]
  },
  {
   "cell_type": "markdown",
   "id": "0bd8e71e",
   "metadata": {
    "papermill": {
     "duration": 0.005362,
     "end_time": "2023-10-17T01:39:42.611707",
     "exception": false,
     "start_time": "2023-10-17T01:39:42.606345",
     "status": "completed"
    },
    "tags": []
   },
   "source": [
    "# 1) Evaluate Baseline\n",
    "\n",
    "What do you think? Would you say this model is underfitting, overfitting, just right?"
   ]
  },
  {
   "cell_type": "code",
   "execution_count": 6,
   "id": "e9355cda",
   "metadata": {
    "execution": {
     "iopub.execute_input": "2023-10-17T01:39:42.623964Z",
     "iopub.status.busy": "2023-10-17T01:39:42.623652Z",
     "iopub.status.idle": "2023-10-17T01:39:42.632282Z",
     "shell.execute_reply": "2023-10-17T01:39:42.631258Z"
    },
    "papermill": {
     "duration": 0.016954,
     "end_time": "2023-10-17T01:39:42.634428",
     "exception": false,
     "start_time": "2023-10-17T01:39:42.617474",
     "status": "completed"
    },
    "tags": []
   },
   "outputs": [
    {
     "data": {
      "application/javascript": [
       "parent.postMessage({\"jupyterEvent\": \"custom.exercise_interaction\", \"data\": {\"outcomeType\": 1, \"valueTowardsCompletion\": 0.25, \"interactionType\": 1, \"questionType\": 4, \"questionId\": \"1_Q1\", \"learnToolsVersion\": \"0.3.4\", \"failureMessage\": \"\", \"exceptionClass\": \"\", \"trace\": \"\"}}, \"*\")"
      ],
      "text/plain": [
       "<IPython.core.display.Javascript object>"
      ]
     },
     "metadata": {},
     "output_type": "display_data"
    },
    {
     "data": {
      "text/markdown": [
       "<span style=\"color:#33cc33\">Correct:</span> \n",
       "\n",
       "The gap between these curves is quite small and the validation loss never increases, so it's more likely that the network is underfitting than overfitting. It would be worth experimenting with more capacity to see if that's the case."
      ],
      "text/plain": [
       "Correct: \n",
       "\n",
       "The gap between these curves is quite small and the validation loss never increases, so it's more likely that the network is underfitting than overfitting. It would be worth experimenting with more capacity to see if that's the case."
      ]
     },
     "metadata": {},
     "output_type": "display_data"
    }
   ],
   "source": [
    "# The model is underfitting\n",
    "q_1.check()"
   ]
  },
  {
   "cell_type": "markdown",
   "id": "81df8eec",
   "metadata": {
    "papermill": {
     "duration": 0.005554,
     "end_time": "2023-10-17T01:39:42.646010",
     "exception": false,
     "start_time": "2023-10-17T01:39:42.640456",
     "status": "completed"
    },
    "tags": []
   },
   "source": [
    "Now let's add some capacity to our network. We'll add three hidden layers with 128 units each. Run the next cell to train the network and see the learning curves."
   ]
  },
  {
   "cell_type": "code",
   "execution_count": 7,
   "id": "71cc9ef9",
   "metadata": {
    "execution": {
     "iopub.execute_input": "2023-10-17T01:39:42.660523Z",
     "iopub.status.busy": "2023-10-17T01:39:42.660225Z",
     "iopub.status.idle": "2023-10-17T01:40:04.052602Z",
     "shell.execute_reply": "2023-10-17T01:40:04.051716Z"
    },
    "papermill": {
     "duration": 21.402007,
     "end_time": "2023-10-17T01:40:04.054441",
     "exception": false,
     "start_time": "2023-10-17T01:39:42.652434",
     "status": "completed"
    },
    "tags": []
   },
   "outputs": [
    {
     "name": "stdout",
     "output_type": "stream",
     "text": [
      "Epoch 1/50\n",
      "48/48 [==============================] - 2s 6ms/step - loss: 0.2451 - val_loss: 0.2035\n",
      "Epoch 2/50\n",
      "48/48 [==============================] - 0s 4ms/step - loss: 0.2024 - val_loss: 0.1975\n",
      "Epoch 3/50\n",
      "48/48 [==============================] - 0s 4ms/step - loss: 0.1978 - val_loss: 0.1939\n",
      "Epoch 4/50\n",
      "48/48 [==============================] - 0s 4ms/step - loss: 0.1949 - val_loss: 0.1945\n",
      "Epoch 5/50\n",
      "48/48 [==============================] - 0s 4ms/step - loss: 0.1928 - val_loss: 0.1932\n",
      "Epoch 6/50\n",
      "48/48 [==============================] - 0s 4ms/step - loss: 0.1918 - val_loss: 0.1935\n",
      "Epoch 7/50\n",
      "48/48 [==============================] - 0s 4ms/step - loss: 0.1899 - val_loss: 0.1938\n",
      "Epoch 8/50\n",
      "48/48 [==============================] - 0s 4ms/step - loss: 0.1890 - val_loss: 0.1932\n",
      "Epoch 9/50\n",
      "48/48 [==============================] - 0s 4ms/step - loss: 0.1881 - val_loss: 0.1939\n",
      "Epoch 10/50\n",
      "48/48 [==============================] - 0s 4ms/step - loss: 0.1872 - val_loss: 0.1927\n",
      "Epoch 11/50\n",
      "48/48 [==============================] - 0s 4ms/step - loss: 0.1858 - val_loss: 0.1919\n",
      "Epoch 12/50\n",
      "48/48 [==============================] - 0s 4ms/step - loss: 0.1848 - val_loss: 0.1922\n",
      "Epoch 13/50\n",
      "48/48 [==============================] - 0s 4ms/step - loss: 0.1845 - val_loss: 0.1929\n",
      "Epoch 14/50\n",
      "48/48 [==============================] - 0s 4ms/step - loss: 0.1840 - val_loss: 0.1934\n",
      "Epoch 15/50\n",
      "48/48 [==============================] - 0s 4ms/step - loss: 0.1834 - val_loss: 0.1928\n",
      "Epoch 16/50\n",
      "48/48 [==============================] - 0s 5ms/step - loss: 0.1822 - val_loss: 0.1947\n",
      "Epoch 17/50\n",
      "48/48 [==============================] - 0s 4ms/step - loss: 0.1816 - val_loss: 0.1921\n",
      "Epoch 18/50\n",
      "48/48 [==============================] - 0s 4ms/step - loss: 0.1808 - val_loss: 0.1934\n",
      "Epoch 19/50\n",
      "48/48 [==============================] - 0s 4ms/step - loss: 0.1804 - val_loss: 0.1949\n",
      "Epoch 20/50\n",
      "48/48 [==============================] - 0s 4ms/step - loss: 0.1802 - val_loss: 0.1938\n",
      "Epoch 21/50\n",
      "48/48 [==============================] - 0s 4ms/step - loss: 0.1792 - val_loss: 0.1950\n",
      "Epoch 22/50\n",
      "48/48 [==============================] - 0s 4ms/step - loss: 0.1786 - val_loss: 0.1973\n",
      "Epoch 23/50\n",
      "48/48 [==============================] - 0s 5ms/step - loss: 0.1780 - val_loss: 0.1939\n",
      "Epoch 24/50\n",
      "48/48 [==============================] - 0s 6ms/step - loss: 0.1777 - val_loss: 0.1944\n",
      "Epoch 25/50\n",
      "48/48 [==============================] - 0s 6ms/step - loss: 0.1767 - val_loss: 0.1948\n",
      "Epoch 26/50\n",
      "48/48 [==============================] - 0s 6ms/step - loss: 0.1762 - val_loss: 0.1963\n",
      "Epoch 27/50\n",
      "48/48 [==============================] - 0s 6ms/step - loss: 0.1755 - val_loss: 0.1952\n",
      "Epoch 28/50\n",
      "48/48 [==============================] - 0s 5ms/step - loss: 0.1754 - val_loss: 0.1961\n",
      "Epoch 29/50\n",
      "48/48 [==============================] - 0s 4ms/step - loss: 0.1743 - val_loss: 0.1981\n",
      "Epoch 30/50\n",
      "48/48 [==============================] - 0s 4ms/step - loss: 0.1744 - val_loss: 0.1962\n",
      "Epoch 31/50\n",
      "48/48 [==============================] - 0s 5ms/step - loss: 0.1732 - val_loss: 0.1969\n",
      "Epoch 32/50\n",
      "48/48 [==============================] - 0s 4ms/step - loss: 0.1732 - val_loss: 0.1962\n",
      "Epoch 33/50\n",
      "48/48 [==============================] - 0s 5ms/step - loss: 0.1730 - val_loss: 0.1966\n",
      "Epoch 34/50\n",
      "48/48 [==============================] - 0s 5ms/step - loss: 0.1722 - val_loss: 0.1980\n",
      "Epoch 35/50\n",
      "48/48 [==============================] - 0s 4ms/step - loss: 0.1718 - val_loss: 0.1978\n",
      "Epoch 36/50\n",
      "48/48 [==============================] - 0s 4ms/step - loss: 0.1706 - val_loss: 0.1979\n",
      "Epoch 37/50\n",
      "48/48 [==============================] - 0s 5ms/step - loss: 0.1706 - val_loss: 0.1970\n",
      "Epoch 38/50\n",
      "48/48 [==============================] - 0s 4ms/step - loss: 0.1704 - val_loss: 0.1992\n",
      "Epoch 39/50\n",
      "48/48 [==============================] - 0s 4ms/step - loss: 0.1713 - val_loss: 0.1975\n",
      "Epoch 40/50\n",
      "48/48 [==============================] - 0s 4ms/step - loss: 0.1691 - val_loss: 0.1976\n",
      "Epoch 41/50\n",
      "48/48 [==============================] - 0s 4ms/step - loss: 0.1695 - val_loss: 0.1981\n",
      "Epoch 42/50\n",
      "48/48 [==============================] - 0s 5ms/step - loss: 0.1687 - val_loss: 0.1984\n",
      "Epoch 43/50\n",
      "48/48 [==============================] - 0s 4ms/step - loss: 0.1681 - val_loss: 0.1985\n",
      "Epoch 44/50\n",
      "48/48 [==============================] - 0s 4ms/step - loss: 0.1680 - val_loss: 0.1981\n",
      "Epoch 45/50\n",
      "48/48 [==============================] - 0s 4ms/step - loss: 0.1675 - val_loss: 0.1992\n",
      "Epoch 46/50\n",
      "48/48 [==============================] - 0s 4ms/step - loss: 0.1668 - val_loss: 0.1984\n",
      "Epoch 47/50\n",
      "48/48 [==============================] - 0s 4ms/step - loss: 0.1668 - val_loss: 0.2011\n",
      "Epoch 48/50\n",
      "48/48 [==============================] - 0s 4ms/step - loss: 0.1661 - val_loss: 0.1994\n",
      "Epoch 49/50\n",
      "48/48 [==============================] - 0s 4ms/step - loss: 0.1656 - val_loss: 0.2003\n",
      "Epoch 50/50\n",
      "48/48 [==============================] - 0s 5ms/step - loss: 0.1653 - val_loss: 0.1988\n",
      "Minimum Validation Loss: 0.1919\n"
     ]
    },
    {
     "data": {
      "image/png": "[encoded data removed]",
      "text/plain": [
       "<Figure size 640x480 with 1 Axes>"
      ]
     },
     "metadata": {},
     "output_type": "display_data"
    }
   ],
   "source": [
    "model = keras.Sequential([\n",
    "    layers.Dense(128, activation='relu', input_shape=input_shape),\n",
    "    layers.Dense(64, activation='relu'),\n",
    "    layers.Dense(1)\n",
    "])\n",
    "model.compile(\n",
    "    optimizer='adam',\n",
    "    loss='mae',\n",
    ")\n",
    "history = model.fit(\n",
    "    X_train, y_train,\n",
    "    validation_data=(X_valid, y_valid),\n",
    "    batch_size=512,\n",
    "    epochs=50,\n",
    ")\n",
    "history_df = pd.DataFrame(history.history)\n",
    "history_df.loc[:, ['loss', 'val_loss']].plot()\n",
    "print(\"Minimum Validation Loss: {:0.4f}\".format(history_df['val_loss'].min()));"
   ]
  },
  {
   "cell_type": "markdown",
   "id": "b76a7dfd",
   "metadata": {
    "papermill": {
     "duration": 0.016107,
     "end_time": "2023-10-17T01:40:04.087256",
     "exception": false,
     "start_time": "2023-10-17T01:40:04.071149",
     "status": "completed"
    },
    "tags": []
   },
   "source": [
    "# 2) Add Capacity\n",
    "\n",
    "What is your evaluation of these curves? Underfitting, overfitting, just right?"
   ]
  },
  {
   "cell_type": "code",
   "execution_count": 8,
   "id": "17bf0310",
   "metadata": {
    "execution": {
     "iopub.execute_input": "2023-10-17T01:40:04.121867Z",
     "iopub.status.busy": "2023-10-17T01:40:04.121261Z",
     "iopub.status.idle": "2023-10-17T01:40:04.129060Z",
     "shell.execute_reply": "2023-10-17T01:40:04.128130Z"
    },
    "papermill": {
     "duration": 0.027057,
     "end_time": "2023-10-17T01:40:04.131061",
     "exception": false,
     "start_time": "2023-10-17T01:40:04.104004",
     "status": "completed"
    },
    "tags": []
   },
   "outputs": [
    {
     "data": {
      "application/javascript": [
       "parent.postMessage({\"jupyterEvent\": \"custom.exercise_interaction\", \"data\": {\"outcomeType\": 1, \"valueTowardsCompletion\": 0.25, \"interactionType\": 1, \"questionType\": 4, \"questionId\": \"2_Q2\", \"learnToolsVersion\": \"0.3.4\", \"failureMessage\": \"\", \"exceptionClass\": \"\", \"trace\": \"\"}}, \"*\")"
      ],
      "text/plain": [
       "<IPython.core.display.Javascript object>"
      ]
     },
     "metadata": {},
     "output_type": "display_data"
    },
    {
     "data": {
      "text/markdown": [
       "<span style=\"color:#33cc33\">Correct:</span> \n",
       "\n",
       "Now the validation loss begins to rise very early, while the training loss continues to decrease. This indicates that the network has begun to overfit. At this point, we would need to try something to prevent it, either by reducing the number of units or through a method like early stopping. (We'll see another in the next lesson!)"
      ],
      "text/plain": [
       "Correct: \n",
       "\n",
       "Now the validation loss begins to rise very early, while the training loss continues to decrease. This indicates that the network has begun to overfit. At this point, we would need to try something to prevent it, either by reducing the number of units or through a method like early stopping. (We'll see another in the next lesson!)"
      ]
     },
     "metadata": {},
     "output_type": "display_data"
    }
   ],
   "source": [
    "# Since the validation loss is rising and training loss decreasing the model is overfitting.\n",
    "q_2.check()"
   ]
  },
  {
   "cell_type": "markdown",
   "id": "af46f73d",
   "metadata": {
    "papermill": {
     "duration": 0.016104,
     "end_time": "2023-10-17T01:40:04.163352",
     "exception": false,
     "start_time": "2023-10-17T01:40:04.147248",
     "status": "completed"
    },
    "tags": []
   },
   "source": [
    "# 3) Define Early Stopping Callback\n",
    "\n",
    "Now define an early stopping callback that waits 5 epochs (`patience'`) for a change in validation loss of at least `0.001` (`min_delta`) and keeps the weights with the best loss (`restore_best_weights`)."
   ]
  },
  {
   "cell_type": "code",
   "execution_count": 9,
   "id": "4ff23d02",
   "metadata": {
    "execution": {
     "iopub.execute_input": "2023-10-17T01:40:04.197466Z",
     "iopub.status.busy": "2023-10-17T01:40:04.197158Z",
     "iopub.status.idle": "2023-10-17T01:40:04.206900Z",
     "shell.execute_reply": "2023-10-17T01:40:04.205944Z"
    },
    "lines_to_next_cell": 0,
    "papermill": {
     "duration": 0.028896,
     "end_time": "2023-10-17T01:40:04.208705",
     "exception": false,
     "start_time": "2023-10-17T01:40:04.179809",
     "status": "completed"
    },
    "tags": []
   },
   "outputs": [
    {
     "data": {
      "application/javascript": [
       "parent.postMessage({\"jupyterEvent\": \"custom.exercise_interaction\", \"data\": {\"outcomeType\": 1, \"valueTowardsCompletion\": 0.25, \"interactionType\": 1, \"questionType\": 2, \"questionId\": \"3_Q3\", \"learnToolsVersion\": \"0.3.4\", \"failureMessage\": \"\", \"exceptionClass\": \"\", \"trace\": \"\"}}, \"*\")"
      ],
      "text/plain": [
       "<IPython.core.display.Javascript object>"
      ]
     },
     "metadata": {},
     "output_type": "display_data"
    },
    {
     "data": {
      "text/markdown": [
       "<span style=\"color:#33cc33\">Correct</span>"
      ],
      "text/plain": [
       "Correct"
      ]
     },
     "metadata": {},
     "output_type": "display_data"
    }
   ],
   "source": [
    "from tensorflow.keras.callbacks import EarlyStopping\n",
    "\n",
    "# YOUR CODE HERE: define an early stopping callback\n",
    "early_stopping = EarlyStopping(\n",
    "    min_delta = 0.001, # minimum amount of change to count as an improvment\n",
    "    patience = 5, # the number of epochs before stopping\n",
    "    restore_best_weights = True\n",
    ")\n",
    "\n",
    "# Check your answer\n",
    "q_3.check()"
   ]
  },
  {
   "cell_type": "code",
   "execution_count": 10,
   "id": "e62f684d",
   "metadata": {
    "execution": {
     "iopub.execute_input": "2023-10-17T01:40:04.243069Z",
     "iopub.status.busy": "2023-10-17T01:40:04.242762Z",
     "iopub.status.idle": "2023-10-17T01:40:04.246648Z",
     "shell.execute_reply": "2023-10-17T01:40:04.245753Z"
    },
    "papermill": {
     "duration": 0.02331,
     "end_time": "2023-10-17T01:40:04.248373",
     "exception": false,
     "start_time": "2023-10-17T01:40:04.225063",
     "status": "completed"
    },
    "tags": []
   },
   "outputs": [],
   "source": [
    "# Lines below will give you a hint or solution code\n",
    "#q_3.hint()\n",
    "#q_3.solution()"
   ]
  },
  {
   "cell_type": "markdown",
   "id": "a2b76d34",
   "metadata": {
    "papermill": {
     "duration": 0.01609,
     "end_time": "2023-10-17T01:40:04.281397",
     "exception": false,
     "start_time": "2023-10-17T01:40:04.265307",
     "status": "completed"
    },
    "tags": []
   },
   "source": [
    "Now run this cell to train the model and get the learning curves. Notice the `callbacks` argument in `model.fit`."
   ]
  },
  {
   "cell_type": "code",
   "execution_count": 11,
   "id": "ed4ca5ff",
   "metadata": {
    "execution": {
     "iopub.execute_input": "2023-10-17T01:40:04.359734Z",
     "iopub.status.busy": "2023-10-17T01:40:04.359412Z",
     "iopub.status.idle": "2023-10-17T01:40:07.766698Z",
     "shell.execute_reply": "2023-10-17T01:40:07.765842Z"
    },
    "papermill": {
     "duration": 3.426663,
     "end_time": "2023-10-17T01:40:07.768459",
     "exception": false,
     "start_time": "2023-10-17T01:40:04.341796",
     "status": "completed"
    },
    "tags": []
   },
   "outputs": [
    {
     "name": "stdout",
     "output_type": "stream",
     "text": [
      "Epoch 1/50\n",
      "48/48 [==============================] - 1s 6ms/step - loss: 0.2145 - val_loss: 0.1985\n",
      "Epoch 2/50\n",
      "48/48 [==============================] - 0s 4ms/step - loss: 0.1988 - val_loss: 0.1949\n",
      "Epoch 3/50\n",
      "48/48 [==============================] - 0s 5ms/step - loss: 0.1951 - val_loss: 0.1962\n",
      "Epoch 4/50\n",
      "48/48 [==============================] - 0s 5ms/step - loss: 0.1929 - val_loss: 0.1939\n",
      "Epoch 5/50\n",
      "48/48 [==============================] - 0s 4ms/step - loss: 0.1907 - val_loss: 0.1940\n",
      "Epoch 6/50\n",
      "48/48 [==============================] - 0s 4ms/step - loss: 0.1895 - val_loss: 0.1949\n",
      "Epoch 7/50\n",
      "48/48 [==============================] - 0s 4ms/step - loss: 0.1890 - val_loss: 0.1947\n",
      "Epoch 8/50\n",
      "48/48 [==============================] - 0s 5ms/step - loss: 0.1877 - val_loss: 0.1940\n",
      "Epoch 9/50\n",
      "48/48 [==============================] - 0s 4ms/step - loss: 0.1866 - val_loss: 0.1944\n",
      "Minimum Validation Loss: 0.1939\n"
     ]
    },
    {
     "data": {
      "image/png": "[encoded data removed]",
      "text/plain": [
       "<Figure size 640x480 with 1 Axes>"
      ]
     },
     "metadata": {},
     "output_type": "display_data"
    }
   ],
   "source": [
    "model = keras.Sequential([\n",
    "    layers.Dense(128, activation='relu', input_shape=input_shape),\n",
    "    layers.Dense(64, activation='relu'),    \n",
    "    layers.Dense(1)\n",
    "])\n",
    "model.compile(\n",
    "    optimizer='adam',\n",
    "    loss='mae',\n",
    ")\n",
    "history = model.fit(\n",
    "    X_train, y_train,\n",
    "    validation_data=(X_valid, y_valid),\n",
    "    batch_size=512,\n",
    "    epochs=50,\n",
    "    callbacks=[early_stopping]\n",
    ")\n",
    "history_df = pd.DataFrame(history.history)\n",
    "history_df.loc[:, ['loss', 'val_loss']].plot()\n",
    "print(\"Minimum Validation Loss: {:0.4f}\".format(history_df['val_loss'].min()));"
   ]
  },
  {
   "cell_type": "markdown",
   "id": "abf32fcf",
   "metadata": {
    "papermill": {
     "duration": 0.019078,
     "end_time": "2023-10-17T01:40:07.806893",
     "exception": false,
     "start_time": "2023-10-17T01:40:07.787815",
     "status": "completed"
    },
    "tags": []
   },
   "source": [
    "# 4) Train and Interpret\n",
    "\n",
    "Was this an improvement compared to training without early stopping?"
   ]
  },
  {
   "cell_type": "code",
   "execution_count": 12,
   "id": "a463904a",
   "metadata": {
    "execution": {
     "iopub.execute_input": "2023-10-17T01:40:07.847076Z",
     "iopub.status.busy": "2023-10-17T01:40:07.846390Z",
     "iopub.status.idle": "2023-10-17T01:40:07.854420Z",
     "shell.execute_reply": "2023-10-17T01:40:07.853485Z"
    },
    "papermill": {
     "duration": 0.030964,
     "end_time": "2023-10-17T01:40:07.856746",
     "exception": false,
     "start_time": "2023-10-17T01:40:07.825782",
     "status": "completed"
    },
    "tags": []
   },
   "outputs": [
    {
     "data": {
      "application/javascript": [
       "parent.postMessage({\"jupyterEvent\": \"custom.exercise_interaction\", \"data\": {\"outcomeType\": 1, \"valueTowardsCompletion\": 0.25, \"interactionType\": 1, \"questionType\": 4, \"questionId\": \"4_Q4\", \"learnToolsVersion\": \"0.3.4\", \"failureMessage\": \"\", \"exceptionClass\": \"\", \"trace\": \"\"}}, \"*\")"
      ],
      "text/plain": [
       "<IPython.core.display.Javascript object>"
      ]
     },
     "metadata": {},
     "output_type": "display_data"
    },
    {
     "data": {
      "text/markdown": [
       "<span style=\"color:#33cc33\">Correct:</span> \n",
       "\n",
       "The early stopping callback did stop the training once the network began overfitting. Moreover, by including `restore_best_weights` we still get to keep the model where validation loss was lowest."
      ],
      "text/plain": [
       "Correct: \n",
       "\n",
       "The early stopping callback did stop the training once the network began overfitting. Moreover, by including `restore_best_weights` we still get to keep the model where validation loss was lowest."
      ]
     },
     "metadata": {},
     "output_type": "display_data"
    }
   ],
   "source": [
    "# View the solution \n",
    "q_4.check()"
   ]
  },
  {
   "cell_type": "markdown",
   "id": "707769ce",
   "metadata": {
    "papermill": {
     "duration": 0.018689,
     "end_time": "2023-10-17T01:40:07.894471",
     "exception": false,
     "start_time": "2023-10-17T01:40:07.875782",
     "status": "completed"
    },
    "tags": []
   },
   "source": [
    "If you like, try experimenting with `patience` and `min_delta` to see what difference it might make.\n",
    "\n",
    "# Keep Going #\n",
    "\n",
    "Move on to [**learn about a couple of special layers**](https://www.kaggle.com/ryanholbrook/dropout-and-batch-normalization): batch normalization and dropout."
   ]
  },
  {
   "cell_type": "markdown",
   "id": "f6c2f58f",
   "metadata": {
    "papermill": {
     "duration": 0.018826,
     "end_time": "2023-10-17T01:40:07.932680",
     "exception": false,
     "start_time": "2023-10-17T01:40:07.913854",
     "status": "completed"
    },
    "tags": []
   },
   "source": [
    "---\n",
    "\n",
    "\n",
    "\n",
    "\n",
    "*Have questions or comments? Visit the [course discussion forum](https://www.kaggle.com/learn/intro-to-deep-learning/discussion) to chat with other learners.*"
   ]
  }
 ],
 "metadata": {
  "kernelspec": {
   "display_name": "Python 3",
   "language": "python",
   "name": "python3"
  },
  "language_info": {
   "codemirror_mode": {
    "name": "ipython",
    "version": 3
   },
   "file_extension": ".py",
   "mimetype": "text/x-python",
   "name": "python",
   "nbconvert_exporter": "python",
   "pygments_lexer": "ipython3",
   "version": "3.10.12"
  },
  "papermill": {
   "default_parameters": {},
   "duration": 66.44445,
   "end_time": "2023-10-17T01:40:10.952948",
   "environment_variables": {},
   "exception": null,
   "input_path": "__notebook__.ipynb",
   "output_path": "__notebook__.ipynb",
   "parameters": {},
   "start_time": "2023-10-17T01:39:04.508498",
   "version": "2.4.0"
  }
 },
 "nbformat": 4,
 "nbformat_minor": 5
}
