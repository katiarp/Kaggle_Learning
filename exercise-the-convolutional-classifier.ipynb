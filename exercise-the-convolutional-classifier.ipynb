{
 "cells": [
  {
   "cell_type": "markdown",
   "id": "7c34610e",
   "metadata": {
    "papermill": {
     "duration": 0.003834,
     "end_time": "2023-10-18T20:42:21.041344",
     "exception": false,
     "start_time": "2023-10-18T20:42:21.037510",
     "status": "completed"
    },
    "tags": []
   },
   "source": [
    "**This notebook is an exercise in the [Computer Vision](https://www.kaggle.com/learn/computer-vision) course.  You can reference the tutorial at [this link](https://www.kaggle.com/ryanholbrook/the-convolutional-classifier).**\n",
    "\n",
    "---\n"
   ]
  },
  {
   "cell_type": "markdown",
   "id": "53f81a75",
   "metadata": {
    "papermill": {
     "duration": 0.003228,
     "end_time": "2023-10-18T20:42:21.048122",
     "exception": false,
     "start_time": "2023-10-18T20:42:21.044894",
     "status": "completed"
    },
    "tags": []
   },
   "source": [
    "<blockquote style=\"margin-right:auto; margin-left:auto; background-color: #ebf9ff; padding: 1em; margin:24px;\">\n",
    "    <strong>Accelerate Training with a Kaggle GPU!</strong><br>\n",
    "Did you know Kaggle offers free time with a GPU accelerator? You can speed up training neural networks in this course by switching to <strong>GPU</strong> in the <em>Accelerator</em> option on the right. (It may already be turned on.) Two things to be aware of:\n",
    "<ul>\n",
    "<li>Changing the <em>Accelerator</em> option will cause the notebook session to restart. You'll need to rerun any setup code.\n",
    "<li>You can have only one GPU session at a time, so be sure to shut the notebook down after you've finished the exercise.\n",
    "</ul>\n",
    "</blockquote>"
   ]
  },
  {
   "cell_type": "markdown",
   "id": "687ffae2",
   "metadata": {
    "papermill": {
     "duration": 0.003026,
     "end_time": "2023-10-18T20:42:21.054380",
     "exception": false,
     "start_time": "2023-10-18T20:42:21.051354",
     "status": "completed"
    },
    "tags": []
   },
   "source": [
    "# Introduction #\n",
    "\n",
    "In the tutorial, we saw how to build an image classifier by attaching a head of dense layers to a pretrained base. The base we used was from a model called **VGG16**. We saw that the VGG16 architecture was prone to overfitting this dataset. Over this course, you'll learn a number of ways you can improve upon this initial attempt.\n",
    "\n",
    "The first way you'll see is to use a base more appropriate to the dataset. The base this model comes from is called **InceptionV1** (also known as GoogLeNet). InceptionV1 was one of the early winners of the ImageNet competition. One of its successors, InceptionV4, is among the state of the art today.\n",
    "\n",
    "To get started, run the code cell below to set everything up."
   ]
  },
  {
   "cell_type": "code",
   "execution_count": 1,
   "id": "c3f12d4f",
   "metadata": {
    "execution": {
     "iopub.execute_input": "2023-10-18T20:42:21.062429Z",
     "iopub.status.busy": "2023-10-18T20:42:21.062169Z",
     "iopub.status.idle": "2023-10-18T20:42:38.754454Z",
     "shell.execute_reply": "2023-10-18T20:42:38.753209Z"
    },
    "lines_to_next_cell": 2,
    "papermill": {
     "duration": 17.699144,
     "end_time": "2023-10-18T20:42:38.756791",
     "exception": false,
     "start_time": "2023-10-18T20:42:21.057647",
     "status": "completed"
    },
    "tags": []
   },
   "outputs": [
    {
     "name": "stderr",
     "output_type": "stream",
     "text": [
      "/opt/conda/lib/python3.10/site-packages/scipy/__init__.py:146: UserWarning: A NumPy version >=1.16.5 and <1.23.0 is required for this version of SciPy (detected version 1.23.5\n",
      "  warnings.warn(f\"A NumPy version >={np_minversion} and <{np_maxversion}\"\n"
     ]
    },
    {
     "name": "stdout",
     "output_type": "stream",
     "text": [
      "Found 5117 files belonging to 2 classes.\n",
      "Found 5051 files belonging to 2 classes.\n"
     ]
    }
   ],
   "source": [
    "# Setup feedback system\n",
    "from learntools.core import binder\n",
    "binder.bind(globals())\n",
    "from learntools.computer_vision.ex1 import *\n",
    "\n",
    "# Imports\n",
    "import os, warnings\n",
    "import matplotlib.pyplot as plt\n",
    "from matplotlib import gridspec\n",
    "\n",
    "import numpy as np\n",
    "import tensorflow as tf\n",
    "from tensorflow.keras.preprocessing import image_dataset_from_directory\n",
    "\n",
    "# Reproducibility\n",
    "def set_seed(seed=31415):\n",
    "    np.random.seed(seed)\n",
    "    tf.random.set_seed(seed)\n",
    "    os.environ['PYTHONHASHSEED'] = str(seed)\n",
    "    os.environ['TF_DETERMINISTIC_OPS'] = '1'\n",
    "set_seed()\n",
    "\n",
    "# Set Matplotlib defaults\n",
    "plt.rc('figure', autolayout=True)\n",
    "plt.rc('axes', labelweight='bold', labelsize='large',\n",
    "       titleweight='bold', titlesize=18, titlepad=10)\n",
    "plt.rc('image', cmap='magma')\n",
    "warnings.filterwarnings(\"ignore\") # to clean up output cells\n",
    "\n",
    "\n",
    "# Load training and validation sets\n",
    "ds_train_ = image_dataset_from_directory(\n",
    "    '../input/car-or-truck/train',\n",
    "    labels='inferred',\n",
    "    label_mode='binary',\n",
    "    image_size=[128, 128],\n",
    "    interpolation='nearest',\n",
    "    batch_size=64,\n",
    "    shuffle=True,\n",
    ")\n",
    "ds_valid_ = image_dataset_from_directory(\n",
    "    '../input/car-or-truck/valid',\n",
    "    labels='inferred',\n",
    "    label_mode='binary',\n",
    "    image_size=[128, 128],\n",
    "    interpolation='nearest',\n",
    "    batch_size=64,\n",
    "    shuffle=False,\n",
    ")\n",
    "\n",
    "# Data Pipeline\n",
    "def convert_to_float(image, label):\n",
    "    image = tf.image.convert_image_dtype(image, dtype=tf.float32)\n",
    "    return image, label\n",
    "\n",
    "AUTOTUNE = tf.data.experimental.AUTOTUNE\n",
    "ds_train = (\n",
    "    ds_train_\n",
    "    .map(convert_to_float)\n",
    "    .cache()\n",
    "    .prefetch(buffer_size=AUTOTUNE)\n",
    ")\n",
    "ds_valid = (\n",
    "    ds_valid_\n",
    "    .map(convert_to_float)\n",
    "    .cache()\n",
    "    .prefetch(buffer_size=AUTOTUNE)\n",
    ")\n"
   ]
  },
  {
   "cell_type": "markdown",
   "id": "aebc98b2",
   "metadata": {
    "papermill": {
     "duration": 0.003198,
     "end_time": "2023-10-18T20:42:38.763882",
     "exception": false,
     "start_time": "2023-10-18T20:42:38.760684",
     "status": "completed"
    },
    "tags": []
   },
   "source": [
    "The **InceptionV1** model pretrained on ImageNet is available in the [TensorFlow Hub](https://www.tensorflow.org/hub/) repository, but we'll load it from a local copy. Run this cell to load InceptionV1 for your base."
   ]
  },
  {
   "cell_type": "code",
   "execution_count": 2,
   "id": "b66eb04c",
   "metadata": {
    "execution": {
     "iopub.execute_input": "2023-10-18T20:42:38.771652Z",
     "iopub.status.busy": "2023-10-18T20:42:38.771428Z",
     "iopub.status.idle": "2023-10-18T20:42:41.444560Z",
     "shell.execute_reply": "2023-10-18T20:42:41.443854Z"
    },
    "lines_to_next_cell": 0,
    "papermill": {
     "duration": 2.679095,
     "end_time": "2023-10-18T20:42:41.446454",
     "exception": false,
     "start_time": "2023-10-18T20:42:38.767359",
     "status": "completed"
    },
    "tags": []
   },
   "outputs": [],
   "source": [
    "import tensorflow_hub as hub\n",
    "\n",
    "pretrained_base = tf.keras.models.load_model(\n",
    "    '../input/cv-course-models/cv-course-models/inceptionv1'\n",
    ")"
   ]
  },
  {
   "cell_type": "markdown",
   "id": "f3de000a",
   "metadata": {
    "papermill": {
     "duration": 0.003393,
     "end_time": "2023-10-18T20:42:41.453642",
     "exception": false,
     "start_time": "2023-10-18T20:42:41.450249",
     "status": "completed"
    },
    "tags": []
   },
   "source": [
    "# 1) Define Pretrained Base #\n",
    "\n",
    "Now that you have a pretrained base to do our feature extraction, decide whether this base should be trainable or not."
   ]
  },
  {
   "cell_type": "code",
   "execution_count": 3,
   "id": "2a148e7b",
   "metadata": {
    "execution": {
     "iopub.execute_input": "2023-10-18T20:42:41.461464Z",
     "iopub.status.busy": "2023-10-18T20:42:41.461213Z",
     "iopub.status.idle": "2023-10-18T20:42:41.470445Z",
     "shell.execute_reply": "2023-10-18T20:42:41.469817Z"
    },
    "lines_to_next_cell": 0,
    "papermill": {
     "duration": 0.014814,
     "end_time": "2023-10-18T20:42:41.471816",
     "exception": false,
     "start_time": "2023-10-18T20:42:41.457002",
     "status": "completed"
    },
    "tags": []
   },
   "outputs": [
    {
     "data": {
      "application/javascript": [
       "parent.postMessage({\"jupyterEvent\": \"custom.exercise_interaction\", \"data\": {\"outcomeType\": 1, \"valueTowardsCompletion\": 0.25, \"interactionType\": 1, \"questionType\": 2, \"questionId\": \"1_Q1\", \"learnToolsVersion\": \"0.3.4\", \"failureMessage\": \"\", \"exceptionClass\": \"\", \"trace\": \"\"}}, \"*\")"
      ],
      "text/plain": [
       "<IPython.core.display.Javascript object>"
      ]
     },
     "metadata": {},
     "output_type": "display_data"
    },
    {
     "data": {
      "text/markdown": [
       "<span style=\"color:#33cc33\">Correct:</span> When doing transfer learning, it's generally not a good idea to retrain the entire base -- at least not without some care. The reason is that the random weights in the head will initially create large gradient updates, which propogate back into the base layers and destroy much of the pretraining. Using techniques known as **fine tuning** it's possible to further train the base on new data, but this requires some care to do well."
      ],
      "text/plain": [
       "Correct: When doing transfer learning, it's generally not a good idea to retrain the entire base -- at least not without some care. The reason is that the random weights in the head will initially create large gradient updates, which propogate back into the base layers and destroy much of the pretraining. Using techniques known as **fine tuning** it's possible to further train the base on new data, but this requires some care to do well."
      ]
     },
     "metadata": {},
     "output_type": "display_data"
    }
   ],
   "source": [
    "# YOUR_CODE_HERE\n",
    "pretrained_base.trainable = False\n",
    "\n",
    "# Check your answer\n",
    "q_1.check()"
   ]
  },
  {
   "cell_type": "code",
   "execution_count": 4,
   "id": "1b244b5f",
   "metadata": {
    "execution": {
     "iopub.execute_input": "2023-10-18T20:42:41.480301Z",
     "iopub.status.busy": "2023-10-18T20:42:41.480090Z",
     "iopub.status.idle": "2023-10-18T20:42:41.482989Z",
     "shell.execute_reply": "2023-10-18T20:42:41.482337Z"
    },
    "papermill": {
     "duration": 0.008944,
     "end_time": "2023-10-18T20:42:41.484612",
     "exception": false,
     "start_time": "2023-10-18T20:42:41.475668",
     "status": "completed"
    },
    "tags": []
   },
   "outputs": [],
   "source": [
    "# Lines below will give you a hint or solution code\n",
    "#q_1.hint()\n",
    "#q_1.solution()"
   ]
  },
  {
   "cell_type": "markdown",
   "id": "da462d37",
   "metadata": {
    "papermill": {
     "duration": 0.003477,
     "end_time": "2023-10-18T20:42:41.491661",
     "exception": false,
     "start_time": "2023-10-18T20:42:41.488184",
     "status": "completed"
    },
    "tags": []
   },
   "source": [
    "# 2) Attach Head #\n",
    "\n",
    "Now that the base is defined to do the feature extraction, create a head of `Dense` layers to perform the classification, following this diagram:\n",
    "\n",
    "<figure>\n",
    "<img src=\"https://storage.googleapis.com/kaggle-media/learn/images/i5VU7Ry.png\" alt=\"Diagram of the dense head.\">\n",
    "</figure>\n"
   ]
  },
  {
   "cell_type": "code",
   "execution_count": 5,
   "id": "7c56453b",
   "metadata": {
    "execution": {
     "iopub.execute_input": "2023-10-18T20:42:41.499692Z",
     "iopub.status.busy": "2023-10-18T20:42:41.499492Z",
     "iopub.status.idle": "2023-10-18T20:42:41.516363Z",
     "shell.execute_reply": "2023-10-18T20:42:41.515696Z"
    },
    "lines_to_next_cell": 0,
    "papermill": {
     "duration": 0.022742,
     "end_time": "2023-10-18T20:42:41.517977",
     "exception": false,
     "start_time": "2023-10-18T20:42:41.495235",
     "status": "completed"
    },
    "tags": []
   },
   "outputs": [
    {
     "data": {
      "application/javascript": [
       "parent.postMessage({\"jupyterEvent\": \"custom.exercise_interaction\", \"data\": {\"outcomeType\": 1, \"valueTowardsCompletion\": 0.25, \"interactionType\": 1, \"questionType\": 2, \"questionId\": \"2_Q2\", \"learnToolsVersion\": \"0.3.4\", \"failureMessage\": \"\", \"exceptionClass\": \"\", \"trace\": \"\"}}, \"*\")"
      ],
      "text/plain": [
       "<IPython.core.display.Javascript object>"
      ]
     },
     "metadata": {},
     "output_type": "display_data"
    },
    {
     "data": {
      "text/markdown": [
       "<span style=\"color:#33cc33\">Correct</span>"
      ],
      "text/plain": [
       "Correct"
      ]
     },
     "metadata": {},
     "output_type": "display_data"
    }
   ],
   "source": [
    "from tensorflow import keras\n",
    "from tensorflow.keras import layers\n",
    "\n",
    "model = keras.Sequential([\n",
    "    pretrained_base,\n",
    "    layers.Flatten(),\n",
    "    layers.Dense(6, activation = 'relu'),\n",
    "    layers.Dense(1, activation = 'sigmoid'), # classification\n",
    "])\n",
    "\n",
    "# Check your answer\n",
    "q_2.check()"
   ]
  },
  {
   "cell_type": "code",
   "execution_count": 6,
   "id": "7208c389",
   "metadata": {
    "execution": {
     "iopub.execute_input": "2023-10-18T20:42:41.526163Z",
     "iopub.status.busy": "2023-10-18T20:42:41.525957Z",
     "iopub.status.idle": "2023-10-18T20:42:41.528652Z",
     "shell.execute_reply": "2023-10-18T20:42:41.528007Z"
    },
    "papermill": {
     "duration": 0.008434,
     "end_time": "2023-10-18T20:42:41.530157",
     "exception": false,
     "start_time": "2023-10-18T20:42:41.521723",
     "status": "completed"
    },
    "tags": []
   },
   "outputs": [],
   "source": [
    "# Lines below will give you a hint or solution code\n",
    "#q_2.hint()\n",
    "#q_2.solution()"
   ]
  },
  {
   "cell_type": "markdown",
   "id": "a9ac85a7",
   "metadata": {
    "papermill": {
     "duration": 0.00356,
     "end_time": "2023-10-18T20:42:41.537378",
     "exception": false,
     "start_time": "2023-10-18T20:42:41.533818",
     "status": "completed"
    },
    "tags": []
   },
   "source": [
    "# 3) Train #\n",
    "\n",
    "Before training a model in Keras, you need to specify an *optimizer* to perform the gradient descent, a *loss function* to be minimized, and (optionally) any *performance metrics*. The optimization algorithm we'll use for this course is called [\"Adam\"](https://keras.io/api/optimizers/adam/), which generally performs well regardless of what kind of problem you're trying to solve.\n",
    "\n",
    "The loss and the metrics, however, need to match the kind of problem you're trying to solve. Our problem is a **binary classification** problem: `Car` coded as 0, and `Truck` coded as 1. Choose an appropriate loss and an appropriate accuracy metric for binary classification."
   ]
  },
  {
   "cell_type": "code",
   "execution_count": 7,
   "id": "baaf5325",
   "metadata": {
    "execution": {
     "iopub.execute_input": "2023-10-18T20:42:41.545507Z",
     "iopub.status.busy": "2023-10-18T20:42:41.545309Z",
     "iopub.status.idle": "2023-10-18T20:42:41.567333Z",
     "shell.execute_reply": "2023-10-18T20:42:41.566687Z"
    },
    "lines_to_next_cell": 0,
    "papermill": {
     "duration": 0.027734,
     "end_time": "2023-10-18T20:42:41.568782",
     "exception": false,
     "start_time": "2023-10-18T20:42:41.541048",
     "status": "completed"
    },
    "tags": []
   },
   "outputs": [
    {
     "data": {
      "application/javascript": [
       "parent.postMessage({\"jupyterEvent\": \"custom.exercise_interaction\", \"data\": {\"outcomeType\": 1, \"valueTowardsCompletion\": 0.25, \"interactionType\": 1, \"questionType\": 2, \"questionId\": \"3_Q3\", \"learnToolsVersion\": \"0.3.4\", \"failureMessage\": \"\", \"exceptionClass\": \"\", \"trace\": \"\"}}, \"*\")"
      ],
      "text/plain": [
       "<IPython.core.display.Javascript object>"
      ]
     },
     "metadata": {},
     "output_type": "display_data"
    },
    {
     "data": {
      "text/markdown": [
       "<span style=\"color:#33cc33\">Correct</span>"
      ],
      "text/plain": [
       "Correct"
      ]
     },
     "metadata": {},
     "output_type": "display_data"
    }
   ],
   "source": [
    "# YOUR CODE HERE: what loss function should you use for a binary\n",
    "# classification problem? (Your answer for each should be a string.)\n",
    "optimizer = tf.keras.optimizers.Adam(epsilon=0.01)\n",
    "model.compile(\n",
    "    optimizer=optimizer,\n",
    "    loss = 'binary_crossentropy',\n",
    "    metrics=['binary_accuracy'],\n",
    ")\n",
    "\n",
    "# Check your answer\n",
    "q_3.check()"
   ]
  },
  {
   "cell_type": "code",
   "execution_count": 8,
   "id": "838e2467",
   "metadata": {
    "execution": {
     "iopub.execute_input": "2023-10-18T20:42:41.577256Z",
     "iopub.status.busy": "2023-10-18T20:42:41.577052Z",
     "iopub.status.idle": "2023-10-18T20:42:41.579771Z",
     "shell.execute_reply": "2023-10-18T20:42:41.579125Z"
    },
    "lines_to_next_cell": 0,
    "papermill": {
     "duration": 0.008503,
     "end_time": "2023-10-18T20:42:41.581126",
     "exception": false,
     "start_time": "2023-10-18T20:42:41.572623",
     "status": "completed"
    },
    "tags": []
   },
   "outputs": [],
   "source": [
    "# Lines below will give you a hint or solution code\n",
    "#q_3.hint()\n",
    "#q_3.solution()"
   ]
  },
  {
   "cell_type": "code",
   "execution_count": 9,
   "id": "70237895",
   "metadata": {
    "execution": {
     "iopub.execute_input": "2023-10-18T20:42:41.589667Z",
     "iopub.status.busy": "2023-10-18T20:42:41.589467Z",
     "iopub.status.idle": "2023-10-18T20:45:02.416024Z",
     "shell.execute_reply": "2023-10-18T20:45:02.415294Z"
    },
    "papermill": {
     "duration": 140.832681,
     "end_time": "2023-10-18T20:45:02.417702",
     "exception": false,
     "start_time": "2023-10-18T20:42:41.585021",
     "status": "completed"
    },
    "tags": []
   },
   "outputs": [
    {
     "name": "stdout",
     "output_type": "stream",
     "text": [
      "Epoch 1/30\n",
      "80/80 [==============================] - 36s 316ms/step - loss: 0.5926 - binary_accuracy: 0.6682 - val_loss: 0.4573 - val_binary_accuracy: 0.8006\n",
      "Epoch 2/30\n",
      "80/80 [==============================] - 3s 40ms/step - loss: 0.4317 - binary_accuracy: 0.8077 - val_loss: 0.3980 - val_binary_accuracy: 0.8287\n",
      "Epoch 3/30\n",
      "80/80 [==============================] - 3s 41ms/step - loss: 0.3949 - binary_accuracy: 0.8204 - val_loss: 0.3805 - val_binary_accuracy: 0.8331\n",
      "Epoch 4/30\n",
      "80/80 [==============================] - 3s 41ms/step - loss: 0.3766 - binary_accuracy: 0.8345 - val_loss: 0.3706 - val_binary_accuracy: 0.8394\n",
      "Epoch 5/30\n",
      "80/80 [==============================] - 3s 41ms/step - loss: 0.3638 - binary_accuracy: 0.8421 - val_loss: 0.3641 - val_binary_accuracy: 0.8424\n",
      "Epoch 6/30\n",
      "80/80 [==============================] - 3s 41ms/step - loss: 0.3536 - binary_accuracy: 0.8468 - val_loss: 0.3593 - val_binary_accuracy: 0.8448\n",
      "Epoch 7/30\n",
      "80/80 [==============================] - 3s 41ms/step - loss: 0.3450 - binary_accuracy: 0.8505 - val_loss: 0.3557 - val_binary_accuracy: 0.8480\n",
      "Epoch 8/30\n",
      "80/80 [==============================] - 3s 41ms/step - loss: 0.3376 - binary_accuracy: 0.8558 - val_loss: 0.3530 - val_binary_accuracy: 0.8491\n",
      "Epoch 9/30\n",
      "80/80 [==============================] - 3s 42ms/step - loss: 0.3314 - binary_accuracy: 0.8601 - val_loss: 0.3504 - val_binary_accuracy: 0.8503\n",
      "Epoch 10/30\n",
      "80/80 [==============================] - 3s 41ms/step - loss: 0.3253 - binary_accuracy: 0.8616 - val_loss: 0.3488 - val_binary_accuracy: 0.8499\n",
      "Epoch 11/30\n",
      "80/80 [==============================] - 3s 42ms/step - loss: 0.3196 - binary_accuracy: 0.8646 - val_loss: 0.3468 - val_binary_accuracy: 0.8495\n",
      "Epoch 12/30\n",
      "80/80 [==============================] - 3s 41ms/step - loss: 0.3146 - binary_accuracy: 0.8677 - val_loss: 0.3457 - val_binary_accuracy: 0.8509\n",
      "Epoch 13/30\n",
      "80/80 [==============================] - 3s 41ms/step - loss: 0.3099 - binary_accuracy: 0.8691 - val_loss: 0.3445 - val_binary_accuracy: 0.8513\n",
      "Epoch 14/30\n",
      "80/80 [==============================] - 3s 41ms/step - loss: 0.3053 - binary_accuracy: 0.8712 - val_loss: 0.3435 - val_binary_accuracy: 0.8523\n",
      "Epoch 15/30\n",
      "80/80 [==============================] - 3s 41ms/step - loss: 0.3004 - binary_accuracy: 0.8753 - val_loss: 0.3421 - val_binary_accuracy: 0.8539\n",
      "Epoch 16/30\n",
      "80/80 [==============================] - 3s 41ms/step - loss: 0.2965 - binary_accuracy: 0.8773 - val_loss: 0.3416 - val_binary_accuracy: 0.8549\n",
      "Epoch 17/30\n",
      "80/80 [==============================] - 3s 42ms/step - loss: 0.2928 - binary_accuracy: 0.8788 - val_loss: 0.3410 - val_binary_accuracy: 0.8557\n",
      "Epoch 18/30\n",
      "80/80 [==============================] - 3s 42ms/step - loss: 0.2893 - binary_accuracy: 0.8810 - val_loss: 0.3400 - val_binary_accuracy: 0.8569\n",
      "Epoch 19/30\n",
      "80/80 [==============================] - 3s 41ms/step - loss: 0.2861 - binary_accuracy: 0.8825 - val_loss: 0.3396 - val_binary_accuracy: 0.8559\n",
      "Epoch 20/30\n",
      "80/80 [==============================] - 3s 41ms/step - loss: 0.2826 - binary_accuracy: 0.8847 - val_loss: 0.3379 - val_binary_accuracy: 0.8571\n",
      "Epoch 21/30\n",
      "80/80 [==============================] - 3s 41ms/step - loss: 0.2795 - binary_accuracy: 0.8855 - val_loss: 0.3374 - val_binary_accuracy: 0.8565\n",
      "Epoch 22/30\n",
      "80/80 [==============================] - 3s 41ms/step - loss: 0.2768 - binary_accuracy: 0.8867 - val_loss: 0.3368 - val_binary_accuracy: 0.8569\n",
      "Epoch 23/30\n",
      "80/80 [==============================] - 3s 41ms/step - loss: 0.2742 - binary_accuracy: 0.8878 - val_loss: 0.3372 - val_binary_accuracy: 0.8565\n",
      "Epoch 24/30\n",
      "80/80 [==============================] - 3s 41ms/step - loss: 0.2716 - binary_accuracy: 0.8892 - val_loss: 0.3368 - val_binary_accuracy: 0.8573\n",
      "Epoch 25/30\n",
      "80/80 [==============================] - 3s 41ms/step - loss: 0.2695 - binary_accuracy: 0.8906 - val_loss: 0.3358 - val_binary_accuracy: 0.8577\n",
      "Epoch 26/30\n",
      "80/80 [==============================] - 3s 41ms/step - loss: 0.2667 - binary_accuracy: 0.8921 - val_loss: 0.3357 - val_binary_accuracy: 0.8577\n",
      "Epoch 27/30\n",
      "80/80 [==============================] - 3s 41ms/step - loss: 0.2642 - binary_accuracy: 0.8929 - val_loss: 0.3362 - val_binary_accuracy: 0.8575\n",
      "Epoch 28/30\n",
      "80/80 [==============================] - 3s 41ms/step - loss: 0.2621 - binary_accuracy: 0.8937 - val_loss: 0.3361 - val_binary_accuracy: 0.8578\n",
      "Epoch 29/30\n",
      "80/80 [==============================] - 3s 42ms/step - loss: 0.2599 - binary_accuracy: 0.8943 - val_loss: 0.3363 - val_binary_accuracy: 0.8578\n",
      "Epoch 30/30\n",
      "80/80 [==============================] - 3s 42ms/step - loss: 0.2576 - binary_accuracy: 0.8972 - val_loss: 0.3351 - val_binary_accuracy: 0.8578\n"
     ]
    }
   ],
   "source": [
    "history = model.fit(\n",
    "    ds_train,\n",
    "    validation_data=ds_valid,\n",
    "    epochs=30,\n",
    ")"
   ]
  },
  {
   "cell_type": "markdown",
   "id": "10972e82",
   "metadata": {
    "papermill": {
     "duration": 0.042028,
     "end_time": "2023-10-18T20:45:02.547197",
     "exception": false,
     "start_time": "2023-10-18T20:45:02.505169",
     "status": "completed"
    },
    "tags": []
   },
   "source": [
    "Run the cell below to plot the loss and metric curves for this training run."
   ]
  },
  {
   "cell_type": "code",
   "execution_count": 10,
   "id": "00c8c736",
   "metadata": {
    "execution": {
     "iopub.execute_input": "2023-10-18T20:45:02.631311Z",
     "iopub.status.busy": "2023-10-18T20:45:02.630624Z",
     "iopub.status.idle": "2023-10-18T20:45:03.203285Z",
     "shell.execute_reply": "2023-10-18T20:45:03.202592Z"
    },
    "papermill": {
     "duration": 0.616778,
     "end_time": "2023-10-18T20:45:03.205023",
     "exception": false,
     "start_time": "2023-10-18T20:45:02.588245",
     "status": "completed"
    },
    "tags": []
   },
   "outputs": [
    {
     "data": {
      "image/png": "[encoded data removed]",
      "text/plain": [
       "<Figure size 640x480 with 1 Axes>"
      ]
     },
     "metadata": {},
     "output_type": "display_data"
    },
    {
     "data": {
      "image/png": "[encoded data removed]",
      "text/plain": [
       "<Figure size 640x480 with 1 Axes>"
      ]
     },
     "metadata": {},
     "output_type": "display_data"
    }
   ],
   "source": [
    "import pandas as pd\n",
    "history_frame = pd.DataFrame(history.history)\n",
    "history_frame.loc[:, ['loss', 'val_loss']].plot()\n",
    "history_frame.loc[:, ['binary_accuracy', 'val_binary_accuracy']].plot();"
   ]
  },
  {
   "cell_type": "markdown",
   "id": "101cd781",
   "metadata": {
    "papermill": {
     "duration": 0.04178,
     "end_time": "2023-10-18T20:45:03.292214",
     "exception": false,
     "start_time": "2023-10-18T20:45:03.250434",
     "status": "completed"
    },
    "tags": []
   },
   "source": [
    "# 4) Examine Loss and Accuracy #\n",
    "\n",
    "Do you notice a difference between these learning curves and the curves for VGG16 from the tutorial? What does this difference tell you about what this model (InceptionV2) learned compared to VGG16? Are there ways in which one is better than the other? Worse?\n",
    "\n",
    "After you've thought about it, run the cell below to see the answer."
   ]
  },
  {
   "cell_type": "code",
   "execution_count": 11,
   "id": "08383b38",
   "metadata": {
    "execution": {
     "iopub.execute_input": "2023-10-18T20:45:03.380151Z",
     "iopub.status.busy": "2023-10-18T20:45:03.379350Z",
     "iopub.status.idle": "2023-10-18T20:45:03.384878Z",
     "shell.execute_reply": "2023-10-18T20:45:03.384340Z"
    },
    "papermill": {
     "duration": 0.050836,
     "end_time": "2023-10-18T20:45:03.386191",
     "exception": false,
     "start_time": "2023-10-18T20:45:03.335355",
     "status": "completed"
    },
    "tags": []
   },
   "outputs": [
    {
     "data": {
      "application/javascript": [
       "parent.postMessage({\"jupyterEvent\": \"custom.exercise_interaction\", \"data\": {\"outcomeType\": 1, \"valueTowardsCompletion\": 0.25, \"interactionType\": 1, \"questionType\": 4, \"questionId\": \"4_Q4\", \"learnToolsVersion\": \"0.3.4\", \"failureMessage\": \"\", \"exceptionClass\": \"\", \"trace\": \"\"}}, \"*\")"
      ],
      "text/plain": [
       "<IPython.core.display.Javascript object>"
      ]
     },
     "metadata": {},
     "output_type": "display_data"
    },
    {
     "data": {
      "text/markdown": [
       "<span style=\"color:#33cc33\">Correct:</span> \n",
       "\n",
       "That the training loss and validation loss stay fairly close is evidence that the model isn't just memorizing the training data, but rather learning general properties of the two classes. But, because this model converges at a loss greater than the VGG16 model, it's likely that it is underfitting some, and could benefit from some extra capacity.\n"
      ],
      "text/plain": [
       "Correct: \n",
       "\n",
       "That the training loss and validation loss stay fairly close is evidence that the model isn't just memorizing the training data, but rather learning general properties of the two classes. But, because this model converges at a loss greater than the VGG16 model, it's likely that it is underfitting some, and could benefit from some extra capacity."
      ]
     },
     "metadata": {},
     "output_type": "display_data"
    }
   ],
   "source": [
    "# View the solution (Run this code cell to receive credit!)\n",
    "q_4.check()"
   ]
  },
  {
   "cell_type": "markdown",
   "id": "e45f8951",
   "metadata": {
    "papermill": {
     "duration": 0.04322,
     "end_time": "2023-10-18T20:45:03.473638",
     "exception": false,
     "start_time": "2023-10-18T20:45:03.430418",
     "status": "completed"
    },
    "tags": []
   },
   "source": [
    "# Conclusion #\n",
    "\n",
    "In this first lesson, you learned the basics of **convolutional image classifiers**, that they consist of a **base** for extracting features from images, and a **head** which uses the features to decide the image's class. You also saw how to build a classifier with **transfer learning** on pretrained base. "
   ]
  },
  {
   "cell_type": "markdown",
   "id": "7a4cbc4b",
   "metadata": {
    "papermill": {
     "duration": 0.042002,
     "end_time": "2023-10-18T20:45:03.558027",
     "exception": false,
     "start_time": "2023-10-18T20:45:03.516025",
     "status": "completed"
    },
    "tags": []
   },
   "source": [
    "# Keep Going #\n",
    "\n",
    "Move on to [**Lesson 2**](https://www.kaggle.com/ryanholbrook/convolution-and-relu) for a detailed look at how the base does this feature extraction. (It's really cool!)"
   ]
  },
  {
   "cell_type": "markdown",
   "id": "d79302b1",
   "metadata": {
    "papermill": {
     "duration": 0.042733,
     "end_time": "2023-10-18T20:45:03.643042",
     "exception": false,
     "start_time": "2023-10-18T20:45:03.600309",
     "status": "completed"
    },
    "tags": []
   },
   "source": [
    "---\n",
    "\n",
    "\n",
    "\n",
    "\n",
    "*Have questions or comments? Visit the [course discussion forum](https://www.kaggle.com/learn/computer-vision/discussion) to chat with other learners.*"
   ]
  }
 ],
 "metadata": {
  "kernelspec": {
   "display_name": "Python 3",
   "language": "python",
   "name": "python3"
  },
  "language_info": {
   "codemirror_mode": {
    "name": "ipython",
    "version": 3
   },
   "file_extension": ".py",
   "mimetype": "text/x-python",
   "name": "python",
   "nbconvert_exporter": "python",
   "pygments_lexer": "ipython3",
   "version": "3.10.12"
  },
  "papermill": {
   "default_parameters": {},
   "duration": 169.387356,
   "end_time": "2023-10-18T20:45:07.633003",
   "environment_variables": {},
   "exception": null,
   "input_path": "__notebook__.ipynb",
   "output_path": "__notebook__.ipynb",
   "parameters": {},
   "start_time": "2023-10-18T20:42:18.245647",
   "version": "2.4.0"
  }
 },
 "nbformat": 4,
 "nbformat_minor": 5
}
