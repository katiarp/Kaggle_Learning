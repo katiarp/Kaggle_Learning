{
 "cells": [
  {
   "cell_type": "markdown",
   "id": "cbccae8a",
   "metadata": {
    "papermill": {
     "duration": 0.009985,
     "end_time": "2023-09-05T01:20:42.703381",
     "exception": false,
     "start_time": "2023-09-05T01:20:42.693396",
     "status": "completed"
    },
    "tags": []
   },
   "source": [
    "**This notebook is an exercise in the [Data Cleaning](https://www.kaggle.com/learn/data-cleaning) course.  You can reference the tutorial at [this link](https://www.kaggle.com/alexisbcook/handling-missing-values).**\n",
    "\n",
    "---\n"
   ]
  },
  {
   "cell_type": "markdown",
   "id": "c7d8bcf9",
   "metadata": {
    "papermill": {
     "duration": 0.008923,
     "end_time": "2023-09-05T01:20:42.721777",
     "exception": false,
     "start_time": "2023-09-05T01:20:42.712854",
     "status": "completed"
    },
    "tags": []
   },
   "source": [
    "In this exercise, you'll apply what you learned in the **Handling missing values** tutorial.\n",
    "\n",
    "# Setup\n",
    "\n",
    "The questions below will give you feedback on your work. Run the following cell to set up the feedback system."
   ]
  },
  {
   "cell_type": "code",
   "execution_count": 1,
   "id": "829bd895",
   "metadata": {
    "execution": {
     "iopub.execute_input": "2023-09-05T01:20:42.743034Z",
     "iopub.status.busy": "2023-09-05T01:20:42.742236Z",
     "iopub.status.idle": "2023-09-05T01:20:47.058532Z",
     "shell.execute_reply": "2023-09-05T01:20:47.057256Z"
    },
    "papermill": {
     "duration": 4.32991,
     "end_time": "2023-09-05T01:20:47.060870",
     "exception": false,
     "start_time": "2023-09-05T01:20:42.730960",
     "status": "completed"
    },
    "tags": []
   },
   "outputs": [
    {
     "name": "stderr",
     "output_type": "stream",
     "text": [
      "/opt/conda/lib/python3.10/site-packages/learntools/data_cleaning/ex1.py:6: DtypeWarning: Columns (22,32) have mixed types. Specify dtype option on import or set low_memory=False.\n",
      "  sf_permits = pd.read_csv(\"../input/building-permit-applications-data/Building_Permits.csv\")\n"
     ]
    },
    {
     "name": "stdout",
     "output_type": "stream",
     "text": [
      "Setup Complete\n"
     ]
    }
   ],
   "source": [
    "from learntools.core import binder\n",
    "binder.bind(globals())\n",
    "from learntools.data_cleaning.ex1 import *\n",
    "print(\"Setup Complete\")"
   ]
  },
  {
   "cell_type": "markdown",
   "id": "d504874c",
   "metadata": {
    "papermill": {
     "duration": 0.009155,
     "end_time": "2023-09-05T01:20:47.079988",
     "exception": false,
     "start_time": "2023-09-05T01:20:47.070833",
     "status": "completed"
    },
    "tags": []
   },
   "source": [
    "# 1) Take a first look at the data\n",
    "\n",
    "Run the next code cell to load in the libraries and dataset you'll use to complete the exercise."
   ]
  },
  {
   "cell_type": "code",
   "execution_count": 2,
   "id": "f873532d",
   "metadata": {
    "execution": {
     "iopub.execute_input": "2023-09-05T01:20:47.101037Z",
     "iopub.status.busy": "2023-09-05T01:20:47.100614Z",
     "iopub.status.idle": "2023-09-05T01:20:49.059446Z",
     "shell.execute_reply": "2023-09-05T01:20:49.058515Z"
    },
    "papermill": {
     "duration": 1.972522,
     "end_time": "2023-09-05T01:20:49.062047",
     "exception": false,
     "start_time": "2023-09-05T01:20:47.089525",
     "status": "completed"
    },
    "tags": []
   },
   "outputs": [
    {
     "name": "stderr",
     "output_type": "stream",
     "text": [
      "/tmp/ipykernel_20/3534875831.py:6: DtypeWarning: Columns (22,32) have mixed types. Specify dtype option on import or set low_memory=False.\n",
      "  sf_permits = pd.read_csv(\"../input/building-permit-applications-data/Building_Permits.csv\")\n"
     ]
    }
   ],
   "source": [
    "# modules we'll use\n",
    "import pandas as pd\n",
    "import numpy as np\n",
    "\n",
    "# read in all our data\n",
    "sf_permits = pd.read_csv(\"../input/building-permit-applications-data/Building_Permits.csv\")\n",
    "\n",
    "# set seed for reproducibility\n",
    "np.random.seed(0) "
   ]
  },
  {
   "cell_type": "markdown",
   "id": "7d78bdeb",
   "metadata": {
    "papermill": {
     "duration": 0.009665,
     "end_time": "2023-09-05T01:20:49.081929",
     "exception": false,
     "start_time": "2023-09-05T01:20:49.072264",
     "status": "completed"
    },
    "tags": []
   },
   "source": [
    "Use the code cell below to print the first five rows of the `sf_permits` DataFrame."
   ]
  },
  {
   "cell_type": "code",
   "execution_count": 3,
   "id": "96a21f71",
   "metadata": {
    "execution": {
     "iopub.execute_input": "2023-09-05T01:20:49.103487Z",
     "iopub.status.busy": "2023-09-05T01:20:49.103080Z",
     "iopub.status.idle": "2023-09-05T01:20:49.133573Z",
     "shell.execute_reply": "2023-09-05T01:20:49.132319Z"
    },
    "papermill": {
     "duration": 0.043891,
     "end_time": "2023-09-05T01:20:49.135835",
     "exception": false,
     "start_time": "2023-09-05T01:20:49.091944",
     "status": "completed"
    },
    "tags": []
   },
   "outputs": [
    {
     "data": {
      "text/html": [
       "<div>\n",
       "<style scoped>\n",
       "    .dataframe tbody tr th:only-of-type {\n",
       "        vertical-align: middle;\n",
       "    }\n",
       "\n",
       "    .dataframe tbody tr th {\n",
       "        vertical-align: top;\n",
       "    }\n",
       "\n",
       "    .dataframe thead th {\n",
       "        text-align: right;\n",
       "    }\n",
       "</style>\n",
       "<table border=\"1\" class=\"dataframe\">\n",
       "  <thead>\n",
       "    <tr style=\"text-align: right;\">\n",
       "      <th></th>\n",
       "      <th>Permit Number</th>\n",
       "      <th>Permit Type</th>\n",
       "      <th>Permit Type Definition</th>\n",
       "      <th>Permit Creation Date</th>\n",
       "      <th>Block</th>\n",
       "      <th>Lot</th>\n",
       "      <th>Street Number</th>\n",
       "      <th>Street Number Suffix</th>\n",
       "      <th>Street Name</th>\n",
       "      <th>Street Suffix</th>\n",
       "      <th>...</th>\n",
       "      <th>Existing Construction Type</th>\n",
       "      <th>Existing Construction Type Description</th>\n",
       "      <th>Proposed Construction Type</th>\n",
       "      <th>Proposed Construction Type Description</th>\n",
       "      <th>Site Permit</th>\n",
       "      <th>Supervisor District</th>\n",
       "      <th>Neighborhoods - Analysis Boundaries</th>\n",
       "      <th>Zipcode</th>\n",
       "      <th>Location</th>\n",
       "      <th>Record ID</th>\n",
       "    </tr>\n",
       "  </thead>\n",
       "  <tbody>\n",
       "    <tr>\n",
       "      <th>0</th>\n",
       "      <td>201505065519</td>\n",
       "      <td>4</td>\n",
       "      <td>sign - erect</td>\n",
       "      <td>05/06/2015</td>\n",
       "      <td>0326</td>\n",
       "      <td>023</td>\n",
       "      <td>140</td>\n",
       "      <td>NaN</td>\n",
       "      <td>Ellis</td>\n",
       "      <td>St</td>\n",
       "      <td>...</td>\n",
       "      <td>3.0</td>\n",
       "      <td>constr type 3</td>\n",
       "      <td>NaN</td>\n",
       "      <td>NaN</td>\n",
       "      <td>NaN</td>\n",
       "      <td>3.0</td>\n",
       "      <td>Tenderloin</td>\n",
       "      <td>94102.0</td>\n",
       "      <td>(37.785719256680785, -122.40852313194863)</td>\n",
       "      <td>1380611233945</td>\n",
       "    </tr>\n",
       "    <tr>\n",
       "      <th>1</th>\n",
       "      <td>201604195146</td>\n",
       "      <td>4</td>\n",
       "      <td>sign - erect</td>\n",
       "      <td>04/19/2016</td>\n",
       "      <td>0306</td>\n",
       "      <td>007</td>\n",
       "      <td>440</td>\n",
       "      <td>NaN</td>\n",
       "      <td>Geary</td>\n",
       "      <td>St</td>\n",
       "      <td>...</td>\n",
       "      <td>3.0</td>\n",
       "      <td>constr type 3</td>\n",
       "      <td>NaN</td>\n",
       "      <td>NaN</td>\n",
       "      <td>NaN</td>\n",
       "      <td>3.0</td>\n",
       "      <td>Tenderloin</td>\n",
       "      <td>94102.0</td>\n",
       "      <td>(37.78733980600732, -122.41063199757738)</td>\n",
       "      <td>1420164406718</td>\n",
       "    </tr>\n",
       "    <tr>\n",
       "      <th>2</th>\n",
       "      <td>201605278609</td>\n",
       "      <td>3</td>\n",
       "      <td>additions alterations or repairs</td>\n",
       "      <td>05/27/2016</td>\n",
       "      <td>0595</td>\n",
       "      <td>203</td>\n",
       "      <td>1647</td>\n",
       "      <td>NaN</td>\n",
       "      <td>Pacific</td>\n",
       "      <td>Av</td>\n",
       "      <td>...</td>\n",
       "      <td>1.0</td>\n",
       "      <td>constr type 1</td>\n",
       "      <td>1.0</td>\n",
       "      <td>constr type 1</td>\n",
       "      <td>NaN</td>\n",
       "      <td>3.0</td>\n",
       "      <td>Russian Hill</td>\n",
       "      <td>94109.0</td>\n",
       "      <td>(37.7946573324287, -122.42232562979227)</td>\n",
       "      <td>1424856504716</td>\n",
       "    </tr>\n",
       "    <tr>\n",
       "      <th>3</th>\n",
       "      <td>201611072166</td>\n",
       "      <td>8</td>\n",
       "      <td>otc alterations permit</td>\n",
       "      <td>11/07/2016</td>\n",
       "      <td>0156</td>\n",
       "      <td>011</td>\n",
       "      <td>1230</td>\n",
       "      <td>NaN</td>\n",
       "      <td>Pacific</td>\n",
       "      <td>Av</td>\n",
       "      <td>...</td>\n",
       "      <td>5.0</td>\n",
       "      <td>wood frame (5)</td>\n",
       "      <td>5.0</td>\n",
       "      <td>wood frame (5)</td>\n",
       "      <td>NaN</td>\n",
       "      <td>3.0</td>\n",
       "      <td>Nob Hill</td>\n",
       "      <td>94109.0</td>\n",
       "      <td>(37.79595867909168, -122.41557405519474)</td>\n",
       "      <td>1443574295566</td>\n",
       "    </tr>\n",
       "    <tr>\n",
       "      <th>4</th>\n",
       "      <td>201611283529</td>\n",
       "      <td>6</td>\n",
       "      <td>demolitions</td>\n",
       "      <td>11/28/2016</td>\n",
       "      <td>0342</td>\n",
       "      <td>001</td>\n",
       "      <td>950</td>\n",
       "      <td>NaN</td>\n",
       "      <td>Market</td>\n",
       "      <td>St</td>\n",
       "      <td>...</td>\n",
       "      <td>3.0</td>\n",
       "      <td>constr type 3</td>\n",
       "      <td>NaN</td>\n",
       "      <td>NaN</td>\n",
       "      <td>NaN</td>\n",
       "      <td>6.0</td>\n",
       "      <td>Tenderloin</td>\n",
       "      <td>94102.0</td>\n",
       "      <td>(37.78315261897309, -122.40950883997789)</td>\n",
       "      <td>144548169992</td>\n",
       "    </tr>\n",
       "  </tbody>\n",
       "</table>\n",
       "<p>5 rows × 43 columns</p>\n",
       "</div>"
      ],
      "text/plain": [
       "  Permit Number  Permit Type            Permit Type Definition  \\\n",
       "0  201505065519            4                      sign - erect   \n",
       "1  201604195146            4                      sign - erect   \n",
       "2  201605278609            3  additions alterations or repairs   \n",
       "3  201611072166            8            otc alterations permit   \n",
       "4  201611283529            6                       demolitions   \n",
       "\n",
       "  Permit Creation Date Block  Lot  Street Number Street Number Suffix  \\\n",
       "0           05/06/2015  0326  023            140                  NaN   \n",
       "1           04/19/2016  0306  007            440                  NaN   \n",
       "2           05/27/2016  0595  203           1647                  NaN   \n",
       "3           11/07/2016  0156  011           1230                  NaN   \n",
       "4           11/28/2016  0342  001            950                  NaN   \n",
       "\n",
       "  Street Name Street Suffix  ...  Existing Construction Type  \\\n",
       "0       Ellis            St  ...                         3.0   \n",
       "1       Geary            St  ...                         3.0   \n",
       "2     Pacific            Av  ...                         1.0   \n",
       "3     Pacific            Av  ...                         5.0   \n",
       "4      Market            St  ...                         3.0   \n",
       "\n",
       "  Existing Construction Type Description Proposed Construction Type  \\\n",
       "0                          constr type 3                        NaN   \n",
       "1                          constr type 3                        NaN   \n",
       "2                          constr type 1                        1.0   \n",
       "3                         wood frame (5)                        5.0   \n",
       "4                          constr type 3                        NaN   \n",
       "\n",
       "  Proposed Construction Type Description Site Permit Supervisor District  \\\n",
       "0                                    NaN         NaN                 3.0   \n",
       "1                                    NaN         NaN                 3.0   \n",
       "2                          constr type 1         NaN                 3.0   \n",
       "3                         wood frame (5)         NaN                 3.0   \n",
       "4                                    NaN         NaN                 6.0   \n",
       "\n",
       "  Neighborhoods - Analysis Boundaries  Zipcode  \\\n",
       "0                          Tenderloin  94102.0   \n",
       "1                          Tenderloin  94102.0   \n",
       "2                        Russian Hill  94109.0   \n",
       "3                            Nob Hill  94109.0   \n",
       "4                          Tenderloin  94102.0   \n",
       "\n",
       "                                    Location      Record ID  \n",
       "0  (37.785719256680785, -122.40852313194863)  1380611233945  \n",
       "1   (37.78733980600732, -122.41063199757738)  1420164406718  \n",
       "2    (37.7946573324287, -122.42232562979227)  1424856504716  \n",
       "3   (37.79595867909168, -122.41557405519474)  1443574295566  \n",
       "4   (37.78315261897309, -122.40950883997789)   144548169992  \n",
       "\n",
       "[5 rows x 43 columns]"
      ]
     },
     "execution_count": 3,
     "metadata": {},
     "output_type": "execute_result"
    }
   ],
   "source": [
    "# TODO: Your code here!\n",
    "sf_permits.head()"
   ]
  },
  {
   "cell_type": "markdown",
   "id": "c7859541",
   "metadata": {
    "papermill": {
     "duration": 0.010101,
     "end_time": "2023-09-05T01:20:49.156497",
     "exception": false,
     "start_time": "2023-09-05T01:20:49.146396",
     "status": "completed"
    },
    "tags": []
   },
   "source": [
    "Yes, it does contain missing values on 'street number...', 'proposed contruction type', 'proposed construction description', etc."
   ]
  },
  {
   "cell_type": "markdown",
   "id": "29ba65b2",
   "metadata": {
    "papermill": {
     "duration": 0.009632,
     "end_time": "2023-09-05T01:20:49.176170",
     "exception": false,
     "start_time": "2023-09-05T01:20:49.166538",
     "status": "completed"
    },
    "tags": []
   },
   "source": [
    "Does the dataset have any missing values?  Once you have an answer, run the code cell below to get credit for your work."
   ]
  },
  {
   "cell_type": "code",
   "execution_count": 4,
   "id": "1bc93c43",
   "metadata": {
    "execution": {
     "iopub.execute_input": "2023-09-05T01:20:49.198897Z",
     "iopub.status.busy": "2023-09-05T01:20:49.197795Z",
     "iopub.status.idle": "2023-09-05T01:20:49.207074Z",
     "shell.execute_reply": "2023-09-05T01:20:49.206001Z"
    },
    "papermill": {
     "duration": 0.022963,
     "end_time": "2023-09-05T01:20:49.209306",
     "exception": false,
     "start_time": "2023-09-05T01:20:49.186343",
     "status": "completed"
    },
    "tags": []
   },
   "outputs": [
    {
     "data": {
      "application/javascript": [
       "parent.postMessage({\"jupyterEvent\": \"custom.exercise_interaction\", \"data\": {\"outcomeType\": 1, \"valueTowardsCompletion\": 0.16666666666666666, \"interactionType\": 1, \"questionType\": 4, \"questionId\": \"1_TakeFirstLook\", \"learnToolsVersion\": \"0.3.4\", \"failureMessage\": \"\", \"exceptionClass\": \"\", \"trace\": \"\"}}, \"*\")"
      ],
      "text/plain": [
       "<IPython.core.display.Javascript object>"
      ]
     },
     "metadata": {},
     "output_type": "display_data"
    },
    {
     "data": {
      "text/markdown": [
       "<span style=\"color:#33cc33\">Correct:</span> \n",
       "\n",
       "The first five rows of the data does show that several columns have missing values.  You can see this in the \"Street Number Suffix\", \"Proposed Construction Type\" and \"Site Permit\" columns, among others."
      ],
      "text/plain": [
       "Correct: \n",
       "\n",
       "The first five rows of the data does show that several columns have missing values.  You can see this in the \"Street Number Suffix\", \"Proposed Construction Type\" and \"Site Permit\" columns, among others."
      ]
     },
     "metadata": {},
     "output_type": "display_data"
    }
   ],
   "source": [
    "# Check your answer (Run this code cell to receive credit!)\n",
    "q1.check()"
   ]
  },
  {
   "cell_type": "code",
   "execution_count": 5,
   "id": "959de61c",
   "metadata": {
    "execution": {
     "iopub.execute_input": "2023-09-05T01:20:49.231879Z",
     "iopub.status.busy": "2023-09-05T01:20:49.231502Z",
     "iopub.status.idle": "2023-09-05T01:20:49.235972Z",
     "shell.execute_reply": "2023-09-05T01:20:49.235000Z"
    },
    "papermill": {
     "duration": 0.018314,
     "end_time": "2023-09-05T01:20:49.238127",
     "exception": false,
     "start_time": "2023-09-05T01:20:49.219813",
     "status": "completed"
    },
    "tags": []
   },
   "outputs": [],
   "source": [
    "# Line below will give you a hint\n",
    "#q1.hint()"
   ]
  },
  {
   "cell_type": "markdown",
   "id": "b6f09c84",
   "metadata": {
    "papermill": {
     "duration": 0.009853,
     "end_time": "2023-09-05T01:20:49.258462",
     "exception": false,
     "start_time": "2023-09-05T01:20:49.248609",
     "status": "completed"
    },
    "tags": []
   },
   "source": [
    "# 2) How many missing data points do we have?\n",
    "\n",
    "What percentage of the values in the dataset are missing?  Your answer should be a number between 0 and 100.  (If 1/4 of the values in the dataset are missing, the answer is 25.)"
   ]
  },
  {
   "cell_type": "code",
   "execution_count": 6,
   "id": "c69f385c",
   "metadata": {
    "execution": {
     "iopub.execute_input": "2023-09-05T01:20:49.281119Z",
     "iopub.status.busy": "2023-09-05T01:20:49.280696Z",
     "iopub.status.idle": "2023-09-05T01:20:49.518015Z",
     "shell.execute_reply": "2023-09-05T01:20:49.516370Z"
    },
    "papermill": {
     "duration": 0.251966,
     "end_time": "2023-09-05T01:20:49.520637",
     "exception": false,
     "start_time": "2023-09-05T01:20:49.268671",
     "status": "completed"
    },
    "tags": []
   },
   "outputs": [
    {
     "data": {
      "text/plain": [
       "Permit Number                                  0\n",
       "Permit Type                                    0\n",
       "Permit Type Definition                         0\n",
       "Permit Creation Date                           0\n",
       "Block                                          0\n",
       "Lot                                            0\n",
       "Street Number                                  0\n",
       "Street Number Suffix                      196684\n",
       "Street Name                                    0\n",
       "Street Suffix                               2768\n",
       "Unit                                      169421\n",
       "Unit Suffix                               196939\n",
       "Description                                  290\n",
       "Current Status                                 0\n",
       "Current Status Date                            0\n",
       "Filed Date                                     0\n",
       "Issued Date                                14940\n",
       "Completed Date                            101709\n",
       "First Construction Document Date           14946\n",
       "Structural Notification                   191978\n",
       "Number of Existing Stories                 42784\n",
       "Number of Proposed Stories                 42868\n",
       "Voluntary Soft-Story Retrofit             198865\n",
       "Fire Only Permit                          180073\n",
       "Permit Expiration Date                     51880\n",
       "Estimated Cost                             38066\n",
       "Revised Cost                                6066\n",
       "Existing Use                               41114\n",
       "Existing Units                             51538\n",
       "Proposed Use                               42439\n",
       "Proposed Units                             50911\n",
       "Plansets                                   37309\n",
       "TIDF Compliance                           198898\n",
       "Existing Construction Type                 43366\n",
       "Existing Construction Type Description     43366\n",
       "Proposed Construction Type                 43162\n",
       "Proposed Construction Type Description     43162\n",
       "Site Permit                               193541\n",
       "Supervisor District                         1717\n",
       "Neighborhoods - Analysis Boundaries         1725\n",
       "Zipcode                                     1716\n",
       "Location                                    1700\n",
       "Record ID                                      0\n",
       "dtype: int64"
      ]
     },
     "execution_count": 6,
     "metadata": {},
     "output_type": "execute_result"
    }
   ],
   "source": [
    "missing_values_count = sf_permits.isnull().sum()\n",
    "missing_values_count"
   ]
  },
  {
   "cell_type": "code",
   "execution_count": 7,
   "id": "f0a425d5",
   "metadata": {
    "execution": {
     "iopub.execute_input": "2023-09-05T01:20:49.544988Z",
     "iopub.status.busy": "2023-09-05T01:20:49.543967Z",
     "iopub.status.idle": "2023-09-05T01:20:49.552389Z",
     "shell.execute_reply": "2023-09-05T01:20:49.551123Z"
    },
    "papermill": {
     "duration": 0.024032,
     "end_time": "2023-09-05T01:20:49.555191",
     "exception": false,
     "start_time": "2023-09-05T01:20:49.531159",
     "status": "completed"
    },
    "tags": []
   },
   "outputs": [
    {
     "data": {
      "text/plain": [
       "8552700"
      ]
     },
     "execution_count": 7,
     "metadata": {},
     "output_type": "execute_result"
    }
   ],
   "source": [
    "total_cells = np.product(sf_permits.shape)\n",
    "total_cells"
   ]
  },
  {
   "cell_type": "code",
   "execution_count": 8,
   "id": "65ce717b",
   "metadata": {
    "execution": {
     "iopub.execute_input": "2023-09-05T01:20:49.584344Z",
     "iopub.status.busy": "2023-09-05T01:20:49.582906Z",
     "iopub.status.idle": "2023-09-05T01:20:49.591058Z",
     "shell.execute_reply": "2023-09-05T01:20:49.590291Z"
    },
    "papermill": {
     "duration": 0.026776,
     "end_time": "2023-09-05T01:20:49.594097",
     "exception": false,
     "start_time": "2023-09-05T01:20:49.567321",
     "status": "completed"
    },
    "tags": []
   },
   "outputs": [
    {
     "data": {
      "text/plain": [
       "2245941"
      ]
     },
     "execution_count": 8,
     "metadata": {},
     "output_type": "execute_result"
    }
   ],
   "source": [
    "total_missing = missing_values_count.sum()\n",
    "total_missing"
   ]
  },
  {
   "cell_type": "code",
   "execution_count": 9,
   "id": "a5860912",
   "metadata": {
    "execution": {
     "iopub.execute_input": "2023-09-05T01:20:49.624205Z",
     "iopub.status.busy": "2023-09-05T01:20:49.622502Z",
     "iopub.status.idle": "2023-09-05T01:20:49.631513Z",
     "shell.execute_reply": "2023-09-05T01:20:49.630444Z"
    },
    "papermill": {
     "duration": 0.027396,
     "end_time": "2023-09-05T01:20:49.633522",
     "exception": false,
     "start_time": "2023-09-05T01:20:49.606126",
     "status": "completed"
    },
    "tags": []
   },
   "outputs": [
    {
     "data": {
      "text/plain": [
       "26.26002315058403"
      ]
     },
     "execution_count": 9,
     "metadata": {},
     "output_type": "execute_result"
    }
   ],
   "source": [
    "# TODO: Your code here!\n",
    "percent_missing = (total_missing/total_cells) * 100\n",
    "percent_missing"
   ]
  },
  {
   "cell_type": "markdown",
   "id": "f4bcb691",
   "metadata": {
    "papermill": {
     "duration": 0.010457,
     "end_time": "2023-09-05T01:20:49.654950",
     "exception": false,
     "start_time": "2023-09-05T01:20:49.644493",
     "status": "completed"
    },
    "tags": []
   },
   "source": [
    "More than 1/4 is missing!"
   ]
  },
  {
   "cell_type": "code",
   "execution_count": 10,
   "id": "cde621e1",
   "metadata": {
    "execution": {
     "iopub.execute_input": "2023-09-05T01:20:49.677698Z",
     "iopub.status.busy": "2023-09-05T01:20:49.677290Z",
     "iopub.status.idle": "2023-09-05T01:20:49.684474Z",
     "shell.execute_reply": "2023-09-05T01:20:49.683755Z"
    },
    "papermill": {
     "duration": 0.020745,
     "end_time": "2023-09-05T01:20:49.686366",
     "exception": false,
     "start_time": "2023-09-05T01:20:49.665621",
     "status": "completed"
    },
    "tags": []
   },
   "outputs": [
    {
     "data": {
      "application/javascript": [
       "parent.postMessage({\"jupyterEvent\": \"custom.exercise_interaction\", \"data\": {\"outcomeType\": 1, \"valueTowardsCompletion\": 0.16666666666666666, \"interactionType\": 1, \"questionType\": 1, \"questionId\": \"2_PercentMissingValues\", \"learnToolsVersion\": \"0.3.4\", \"failureMessage\": \"\", \"exceptionClass\": \"\", \"trace\": \"\"}}, \"*\")"
      ],
      "text/plain": [
       "<IPython.core.display.Javascript object>"
      ]
     },
     "metadata": {},
     "output_type": "display_data"
    },
    {
     "data": {
      "text/markdown": [
       "<span style=\"color:#33cc33\">Correct</span>"
      ],
      "text/plain": [
       "Correct"
      ]
     },
     "metadata": {},
     "output_type": "display_data"
    }
   ],
   "source": [
    "# Check your answer\n",
    "q2.check()"
   ]
  },
  {
   "cell_type": "code",
   "execution_count": 11,
   "id": "f855f2fb",
   "metadata": {
    "execution": {
     "iopub.execute_input": "2023-09-05T01:20:49.710570Z",
     "iopub.status.busy": "2023-09-05T01:20:49.710127Z",
     "iopub.status.idle": "2023-09-05T01:20:49.714822Z",
     "shell.execute_reply": "2023-09-05T01:20:49.713778Z"
    },
    "papermill": {
     "duration": 0.019007,
     "end_time": "2023-09-05T01:20:49.716803",
     "exception": false,
     "start_time": "2023-09-05T01:20:49.697796",
     "status": "completed"
    },
    "tags": []
   },
   "outputs": [],
   "source": [
    "# Lines below will give you a hint or solution code\n",
    "# q2.hint()\n",
    "#q2.solution()"
   ]
  },
  {
   "cell_type": "markdown",
   "id": "d9791bca",
   "metadata": {
    "papermill": {
     "duration": 0.010615,
     "end_time": "2023-09-05T01:20:49.738514",
     "exception": false,
     "start_time": "2023-09-05T01:20:49.727899",
     "status": "completed"
    },
    "tags": []
   },
   "source": [
    "# 3) Figure out why the data is missing\n",
    "\n",
    "Look at the columns **\"Street Number Suffix\"** and **\"Zipcode\"** from the [San Francisco Building Permits dataset](https://www.kaggle.com/aparnashastry/building-permit-applications-data). Both of these contain missing values. \n",
    "- Which, if either, are missing because they don't exist? \n",
    "- Which, if either, are missing because they weren't recorded?  \n",
    "\n",
    "Once you have an answer, run the code cell below."
   ]
  },
  {
   "cell_type": "code",
   "execution_count": 12,
   "id": "107ba66e",
   "metadata": {
    "execution": {
     "iopub.execute_input": "2023-09-05T01:20:49.762015Z",
     "iopub.status.busy": "2023-09-05T01:20:49.761604Z",
     "iopub.status.idle": "2023-09-05T01:20:49.769599Z",
     "shell.execute_reply": "2023-09-05T01:20:49.768851Z"
    },
    "papermill": {
     "duration": 0.022042,
     "end_time": "2023-09-05T01:20:49.771522",
     "exception": false,
     "start_time": "2023-09-05T01:20:49.749480",
     "status": "completed"
    },
    "tags": []
   },
   "outputs": [
    {
     "data": {
      "application/javascript": [
       "parent.postMessage({\"jupyterEvent\": \"custom.exercise_interaction\", \"data\": {\"outcomeType\": 1, \"valueTowardsCompletion\": 0.16666666666666666, \"interactionType\": 1, \"questionType\": 4, \"questionId\": \"3_WhyDataMissing\", \"learnToolsVersion\": \"0.3.4\", \"failureMessage\": \"\", \"exceptionClass\": \"\", \"trace\": \"\"}}, \"*\")"
      ],
      "text/plain": [
       "<IPython.core.display.Javascript object>"
      ]
     },
     "metadata": {},
     "output_type": "display_data"
    },
    {
     "data": {
      "text/markdown": [
       "<span style=\"color:#33cc33\">Correct:</span> \n",
       "\n",
       "If a value in the \"Street Number Suffix\" column is missing, it is likely because it does not exist. If a value in the \"Zipcode\" column is missing, it was not recorded."
      ],
      "text/plain": [
       "Correct: \n",
       "\n",
       "If a value in the \"Street Number Suffix\" column is missing, it is likely because it does not exist. If a value in the \"Zipcode\" column is missing, it was not recorded."
      ]
     },
     "metadata": {},
     "output_type": "display_data"
    }
   ],
   "source": [
    "# Check your answer (Run this code cell to receive credit!)\n",
    "q3.check()"
   ]
  },
  {
   "cell_type": "code",
   "execution_count": 13,
   "id": "d29bd72b",
   "metadata": {
    "execution": {
     "iopub.execute_input": "2023-09-05T01:20:49.795847Z",
     "iopub.status.busy": "2023-09-05T01:20:49.795486Z",
     "iopub.status.idle": "2023-09-05T01:20:49.799050Z",
     "shell.execute_reply": "2023-09-05T01:20:49.798190Z"
    },
    "papermill": {
     "duration": 0.018548,
     "end_time": "2023-09-05T01:20:49.801300",
     "exception": false,
     "start_time": "2023-09-05T01:20:49.782752",
     "status": "completed"
    },
    "tags": []
   },
   "outputs": [],
   "source": [
    "# Line below will give you a hint\n",
    "# q3.hint()"
   ]
  },
  {
   "cell_type": "markdown",
   "id": "b29c0c33",
   "metadata": {
    "papermill": {
     "duration": 0.011333,
     "end_time": "2023-09-05T01:20:49.824202",
     "exception": false,
     "start_time": "2023-09-05T01:20:49.812869",
     "status": "completed"
    },
    "tags": []
   },
   "source": [
    "# 4) Drop missing values: rows\n",
    "\n",
    "If you removed all of the rows of `sf_permits` with missing values, how many rows are left?\n",
    "\n",
    "**Note**: Do not change the value of `sf_permits` when checking this.  "
   ]
  },
  {
   "cell_type": "code",
   "execution_count": 14,
   "id": "d6fe9175",
   "metadata": {
    "execution": {
     "iopub.execute_input": "2023-09-05T01:20:49.923585Z",
     "iopub.status.busy": "2023-09-05T01:20:49.922958Z",
     "iopub.status.idle": "2023-09-05T01:20:50.161127Z",
     "shell.execute_reply": "2023-09-05T01:20:50.159801Z"
    },
    "papermill": {
     "duration": 0.254179,
     "end_time": "2023-09-05T01:20:50.163616",
     "exception": false,
     "start_time": "2023-09-05T01:20:49.909437",
     "status": "completed"
    },
    "tags": []
   },
   "outputs": [
    {
     "data": {
      "text/html": [
       "<div>\n",
       "<style scoped>\n",
       "    .dataframe tbody tr th:only-of-type {\n",
       "        vertical-align: middle;\n",
       "    }\n",
       "\n",
       "    .dataframe tbody tr th {\n",
       "        vertical-align: top;\n",
       "    }\n",
       "\n",
       "    .dataframe thead th {\n",
       "        text-align: right;\n",
       "    }\n",
       "</style>\n",
       "<table border=\"1\" class=\"dataframe\">\n",
       "  <thead>\n",
       "    <tr style=\"text-align: right;\">\n",
       "      <th></th>\n",
       "      <th>Permit Number</th>\n",
       "      <th>Permit Type</th>\n",
       "      <th>Permit Type Definition</th>\n",
       "      <th>Permit Creation Date</th>\n",
       "      <th>Block</th>\n",
       "      <th>Lot</th>\n",
       "      <th>Street Number</th>\n",
       "      <th>Street Number Suffix</th>\n",
       "      <th>Street Name</th>\n",
       "      <th>Street Suffix</th>\n",
       "      <th>...</th>\n",
       "      <th>Existing Construction Type</th>\n",
       "      <th>Existing Construction Type Description</th>\n",
       "      <th>Proposed Construction Type</th>\n",
       "      <th>Proposed Construction Type Description</th>\n",
       "      <th>Site Permit</th>\n",
       "      <th>Supervisor District</th>\n",
       "      <th>Neighborhoods - Analysis Boundaries</th>\n",
       "      <th>Zipcode</th>\n",
       "      <th>Location</th>\n",
       "      <th>Record ID</th>\n",
       "    </tr>\n",
       "  </thead>\n",
       "  <tbody>\n",
       "  </tbody>\n",
       "</table>\n",
       "<p>0 rows × 43 columns</p>\n",
       "</div>"
      ],
      "text/plain": [
       "Empty DataFrame\n",
       "Columns: [Permit Number, Permit Type, Permit Type Definition, Permit Creation Date, Block, Lot, Street Number, Street Number Suffix, Street Name, Street Suffix, Unit, Unit Suffix, Description, Current Status, Current Status Date, Filed Date, Issued Date, Completed Date, First Construction Document Date, Structural Notification, Number of Existing Stories, Number of Proposed Stories, Voluntary Soft-Story Retrofit, Fire Only Permit, Permit Expiration Date, Estimated Cost, Revised Cost, Existing Use, Existing Units, Proposed Use, Proposed Units, Plansets, TIDF Compliance, Existing Construction Type, Existing Construction Type Description, Proposed Construction Type, Proposed Construction Type Description, Site Permit, Supervisor District, Neighborhoods - Analysis Boundaries, Zipcode, Location, Record ID]\n",
       "Index: []\n",
       "\n",
       "[0 rows x 43 columns]"
      ]
     },
     "execution_count": 14,
     "metadata": {},
     "output_type": "execute_result"
    }
   ],
   "source": [
    "# TODO: Your code here!\n",
    "sf_permits.dropna()"
   ]
  },
  {
   "cell_type": "markdown",
   "id": "a2bd5fcd",
   "metadata": {
    "papermill": {
     "duration": 0.011734,
     "end_time": "2023-09-05T01:20:50.187190",
     "exception": false,
     "start_time": "2023-09-05T01:20:50.175456",
     "status": "completed"
    },
    "tags": []
   },
   "source": [
    "Once you have an answer, run the code cell below."
   ]
  },
  {
   "cell_type": "code",
   "execution_count": 15,
   "id": "5afd4bf4",
   "metadata": {
    "execution": {
     "iopub.execute_input": "2023-09-05T01:20:50.212888Z",
     "iopub.status.busy": "2023-09-05T01:20:50.212516Z",
     "iopub.status.idle": "2023-09-05T01:20:50.220404Z",
     "shell.execute_reply": "2023-09-05T01:20:50.219675Z"
    },
    "papermill": {
     "duration": 0.023047,
     "end_time": "2023-09-05T01:20:50.222331",
     "exception": false,
     "start_time": "2023-09-05T01:20:50.199284",
     "status": "completed"
    },
    "tags": []
   },
   "outputs": [
    {
     "data": {
      "application/javascript": [
       "parent.postMessage({\"jupyterEvent\": \"custom.exercise_interaction\", \"data\": {\"outcomeType\": 1, \"valueTowardsCompletion\": 0.16666666666666666, \"interactionType\": 1, \"questionType\": 4, \"questionId\": \"4_DropMissingRows\", \"learnToolsVersion\": \"0.3.4\", \"failureMessage\": \"\", \"exceptionClass\": \"\", \"trace\": \"\"}}, \"*\")"
      ],
      "text/plain": [
       "<IPython.core.display.Javascript object>"
      ]
     },
     "metadata": {},
     "output_type": "display_data"
    },
    {
     "data": {
      "text/markdown": [
       "<span style=\"color:#33cc33\">Correct:</span> \n",
       "\n",
       "There are no rows remaining in the dataset!"
      ],
      "text/plain": [
       "Correct: \n",
       "\n",
       "There are no rows remaining in the dataset!"
      ]
     },
     "metadata": {},
     "output_type": "display_data"
    }
   ],
   "source": [
    "# Check your answer (Run this code cell to receive credit!)\n",
    "q4.check()"
   ]
  },
  {
   "cell_type": "code",
   "execution_count": 16,
   "id": "638b74f6",
   "metadata": {
    "execution": {
     "iopub.execute_input": "2023-09-05T01:20:50.247995Z",
     "iopub.status.busy": "2023-09-05T01:20:50.247585Z",
     "iopub.status.idle": "2023-09-05T01:20:50.252098Z",
     "shell.execute_reply": "2023-09-05T01:20:50.250709Z"
    },
    "papermill": {
     "duration": 0.020563,
     "end_time": "2023-09-05T01:20:50.254969",
     "exception": false,
     "start_time": "2023-09-05T01:20:50.234406",
     "status": "completed"
    },
    "tags": []
   },
   "outputs": [],
   "source": [
    "# Line below will give you a hint\n",
    "#q4.hint()"
   ]
  },
  {
   "cell_type": "markdown",
   "id": "99dda44c",
   "metadata": {
    "papermill": {
     "duration": 0.013444,
     "end_time": "2023-09-05T01:20:50.282454",
     "exception": false,
     "start_time": "2023-09-05T01:20:50.269010",
     "status": "completed"
    },
    "tags": []
   },
   "source": [
    "# 5) Drop missing values: columns\n",
    "\n",
    "Now try removing all the columns with empty values.  \n",
    "- Create a new DataFrame called `sf_permits_with_na_dropped` that has all of the columns with empty values removed.  \n",
    "- How many columns were removed from the original `sf_permits` DataFrame? Use this number to set the value of the `dropped_columns` variable below."
   ]
  },
  {
   "cell_type": "code",
   "execution_count": 17,
   "id": "2501a45e",
   "metadata": {
    "execution": {
     "iopub.execute_input": "2023-09-05T01:20:50.310364Z",
     "iopub.status.busy": "2023-09-05T01:20:50.309457Z",
     "iopub.status.idle": "2023-09-05T01:20:50.574878Z",
     "shell.execute_reply": "2023-09-05T01:20:50.573740Z"
    },
    "papermill": {
     "duration": 0.280909,
     "end_time": "2023-09-05T01:20:50.577270",
     "exception": false,
     "start_time": "2023-09-05T01:20:50.296361",
     "status": "completed"
    },
    "tags": []
   },
   "outputs": [
    {
     "data": {
      "text/html": [
       "<div>\n",
       "<style scoped>\n",
       "    .dataframe tbody tr th:only-of-type {\n",
       "        vertical-align: middle;\n",
       "    }\n",
       "\n",
       "    .dataframe tbody tr th {\n",
       "        vertical-align: top;\n",
       "    }\n",
       "\n",
       "    .dataframe thead th {\n",
       "        text-align: right;\n",
       "    }\n",
       "</style>\n",
       "<table border=\"1\" class=\"dataframe\">\n",
       "  <thead>\n",
       "    <tr style=\"text-align: right;\">\n",
       "      <th></th>\n",
       "      <th>Permit Number</th>\n",
       "      <th>Permit Type</th>\n",
       "      <th>Permit Type Definition</th>\n",
       "      <th>Permit Creation Date</th>\n",
       "      <th>Block</th>\n",
       "      <th>Lot</th>\n",
       "      <th>Street Number</th>\n",
       "      <th>Street Name</th>\n",
       "      <th>Current Status</th>\n",
       "      <th>Current Status Date</th>\n",
       "      <th>Filed Date</th>\n",
       "      <th>Record ID</th>\n",
       "    </tr>\n",
       "  </thead>\n",
       "  <tbody>\n",
       "    <tr>\n",
       "      <th>0</th>\n",
       "      <td>201505065519</td>\n",
       "      <td>4</td>\n",
       "      <td>sign - erect</td>\n",
       "      <td>05/06/2015</td>\n",
       "      <td>0326</td>\n",
       "      <td>023</td>\n",
       "      <td>140</td>\n",
       "      <td>Ellis</td>\n",
       "      <td>expired</td>\n",
       "      <td>12/21/2017</td>\n",
       "      <td>05/06/2015</td>\n",
       "      <td>1380611233945</td>\n",
       "    </tr>\n",
       "    <tr>\n",
       "      <th>1</th>\n",
       "      <td>201604195146</td>\n",
       "      <td>4</td>\n",
       "      <td>sign - erect</td>\n",
       "      <td>04/19/2016</td>\n",
       "      <td>0306</td>\n",
       "      <td>007</td>\n",
       "      <td>440</td>\n",
       "      <td>Geary</td>\n",
       "      <td>issued</td>\n",
       "      <td>08/03/2017</td>\n",
       "      <td>04/19/2016</td>\n",
       "      <td>1420164406718</td>\n",
       "    </tr>\n",
       "    <tr>\n",
       "      <th>2</th>\n",
       "      <td>201605278609</td>\n",
       "      <td>3</td>\n",
       "      <td>additions alterations or repairs</td>\n",
       "      <td>05/27/2016</td>\n",
       "      <td>0595</td>\n",
       "      <td>203</td>\n",
       "      <td>1647</td>\n",
       "      <td>Pacific</td>\n",
       "      <td>withdrawn</td>\n",
       "      <td>09/26/2017</td>\n",
       "      <td>05/27/2016</td>\n",
       "      <td>1424856504716</td>\n",
       "    </tr>\n",
       "    <tr>\n",
       "      <th>3</th>\n",
       "      <td>201611072166</td>\n",
       "      <td>8</td>\n",
       "      <td>otc alterations permit</td>\n",
       "      <td>11/07/2016</td>\n",
       "      <td>0156</td>\n",
       "      <td>011</td>\n",
       "      <td>1230</td>\n",
       "      <td>Pacific</td>\n",
       "      <td>complete</td>\n",
       "      <td>07/24/2017</td>\n",
       "      <td>11/07/2016</td>\n",
       "      <td>1443574295566</td>\n",
       "    </tr>\n",
       "    <tr>\n",
       "      <th>4</th>\n",
       "      <td>201611283529</td>\n",
       "      <td>6</td>\n",
       "      <td>demolitions</td>\n",
       "      <td>11/28/2016</td>\n",
       "      <td>0342</td>\n",
       "      <td>001</td>\n",
       "      <td>950</td>\n",
       "      <td>Market</td>\n",
       "      <td>issued</td>\n",
       "      <td>12/01/2017</td>\n",
       "      <td>11/28/2016</td>\n",
       "      <td>144548169992</td>\n",
       "    </tr>\n",
       "    <tr>\n",
       "      <th>...</th>\n",
       "      <td>...</td>\n",
       "      <td>...</td>\n",
       "      <td>...</td>\n",
       "      <td>...</td>\n",
       "      <td>...</td>\n",
       "      <td>...</td>\n",
       "      <td>...</td>\n",
       "      <td>...</td>\n",
       "      <td>...</td>\n",
       "      <td>...</td>\n",
       "      <td>...</td>\n",
       "      <td>...</td>\n",
       "    </tr>\n",
       "    <tr>\n",
       "      <th>198895</th>\n",
       "      <td>M862628</td>\n",
       "      <td>8</td>\n",
       "      <td>otc alterations permit</td>\n",
       "      <td>12/05/2017</td>\n",
       "      <td>0113</td>\n",
       "      <td>017A</td>\n",
       "      <td>1228</td>\n",
       "      <td>Montgomery</td>\n",
       "      <td>issued</td>\n",
       "      <td>12/05/2017</td>\n",
       "      <td>12/05/2017</td>\n",
       "      <td>1489337276729</td>\n",
       "    </tr>\n",
       "    <tr>\n",
       "      <th>198896</th>\n",
       "      <td>201712055595</td>\n",
       "      <td>8</td>\n",
       "      <td>otc alterations permit</td>\n",
       "      <td>12/05/2017</td>\n",
       "      <td>0271</td>\n",
       "      <td>014</td>\n",
       "      <td>580</td>\n",
       "      <td>Bush</td>\n",
       "      <td>issued</td>\n",
       "      <td>12/06/2017</td>\n",
       "      <td>12/05/2017</td>\n",
       "      <td>1489462354993</td>\n",
       "    </tr>\n",
       "    <tr>\n",
       "      <th>198897</th>\n",
       "      <td>M863507</td>\n",
       "      <td>8</td>\n",
       "      <td>otc alterations permit</td>\n",
       "      <td>12/06/2017</td>\n",
       "      <td>4318</td>\n",
       "      <td>019</td>\n",
       "      <td>1568</td>\n",
       "      <td>Indiana</td>\n",
       "      <td>issued</td>\n",
       "      <td>12/06/2017</td>\n",
       "      <td>12/06/2017</td>\n",
       "      <td>1489539379952</td>\n",
       "    </tr>\n",
       "    <tr>\n",
       "      <th>198898</th>\n",
       "      <td>M863747</td>\n",
       "      <td>8</td>\n",
       "      <td>otc alterations permit</td>\n",
       "      <td>12/06/2017</td>\n",
       "      <td>0298</td>\n",
       "      <td>029</td>\n",
       "      <td>795</td>\n",
       "      <td>Sutter</td>\n",
       "      <td>issued</td>\n",
       "      <td>12/06/2017</td>\n",
       "      <td>12/06/2017</td>\n",
       "      <td>1489608233656</td>\n",
       "    </tr>\n",
       "    <tr>\n",
       "      <th>198899</th>\n",
       "      <td>M864287</td>\n",
       "      <td>8</td>\n",
       "      <td>otc alterations permit</td>\n",
       "      <td>12/07/2017</td>\n",
       "      <td>0160</td>\n",
       "      <td>006</td>\n",
       "      <td>838</td>\n",
       "      <td>Pacific</td>\n",
       "      <td>issued</td>\n",
       "      <td>12/07/2017</td>\n",
       "      <td>12/07/2017</td>\n",
       "      <td>1489796283803</td>\n",
       "    </tr>\n",
       "  </tbody>\n",
       "</table>\n",
       "<p>198900 rows × 12 columns</p>\n",
       "</div>"
      ],
      "text/plain": [
       "       Permit Number  Permit Type            Permit Type Definition  \\\n",
       "0       201505065519            4                      sign - erect   \n",
       "1       201604195146            4                      sign - erect   \n",
       "2       201605278609            3  additions alterations or repairs   \n",
       "3       201611072166            8            otc alterations permit   \n",
       "4       201611283529            6                       demolitions   \n",
       "...              ...          ...                               ...   \n",
       "198895       M862628            8            otc alterations permit   \n",
       "198896  201712055595            8            otc alterations permit   \n",
       "198897       M863507            8            otc alterations permit   \n",
       "198898       M863747            8            otc alterations permit   \n",
       "198899       M864287            8            otc alterations permit   \n",
       "\n",
       "       Permit Creation Date Block   Lot  Street Number Street Name  \\\n",
       "0                05/06/2015  0326   023            140       Ellis   \n",
       "1                04/19/2016  0306   007            440       Geary   \n",
       "2                05/27/2016  0595   203           1647     Pacific   \n",
       "3                11/07/2016  0156   011           1230     Pacific   \n",
       "4                11/28/2016  0342   001            950      Market   \n",
       "...                     ...   ...   ...            ...         ...   \n",
       "198895           12/05/2017  0113  017A           1228  Montgomery   \n",
       "198896           12/05/2017  0271   014            580        Bush   \n",
       "198897           12/06/2017  4318   019           1568     Indiana   \n",
       "198898           12/06/2017  0298   029            795      Sutter   \n",
       "198899           12/07/2017  0160   006            838     Pacific   \n",
       "\n",
       "       Current Status Current Status Date  Filed Date      Record ID  \n",
       "0             expired          12/21/2017  05/06/2015  1380611233945  \n",
       "1              issued          08/03/2017  04/19/2016  1420164406718  \n",
       "2           withdrawn          09/26/2017  05/27/2016  1424856504716  \n",
       "3            complete          07/24/2017  11/07/2016  1443574295566  \n",
       "4              issued          12/01/2017  11/28/2016   144548169992  \n",
       "...               ...                 ...         ...            ...  \n",
       "198895         issued          12/05/2017  12/05/2017  1489337276729  \n",
       "198896         issued          12/06/2017  12/05/2017  1489462354993  \n",
       "198897         issued          12/06/2017  12/06/2017  1489539379952  \n",
       "198898         issued          12/06/2017  12/06/2017  1489608233656  \n",
       "198899         issued          12/07/2017  12/07/2017  1489796283803  \n",
       "\n",
       "[198900 rows x 12 columns]"
      ]
     },
     "execution_count": 17,
     "metadata": {},
     "output_type": "execute_result"
    }
   ],
   "source": [
    "sf_permits_with_na_dropped = sf_permits.dropna(axis = 1)\n",
    "sf_permits_with_na_dropped"
   ]
  },
  {
   "cell_type": "code",
   "execution_count": 18,
   "id": "d6e34b7e",
   "metadata": {
    "execution": {
     "iopub.execute_input": "2023-09-05T01:20:50.603467Z",
     "iopub.status.busy": "2023-09-05T01:20:50.603072Z",
     "iopub.status.idle": "2023-09-05T01:20:50.849157Z",
     "shell.execute_reply": "2023-09-05T01:20:50.848156Z"
    },
    "papermill": {
     "duration": 0.261802,
     "end_time": "2023-09-05T01:20:50.851412",
     "exception": false,
     "start_time": "2023-09-05T01:20:50.589610",
     "status": "completed"
    },
    "tags": []
   },
   "outputs": [
    {
     "data": {
      "application/javascript": [
       "parent.postMessage({\"jupyterEvent\": \"custom.exercise_interaction\", \"data\": {\"outcomeType\": 1, \"valueTowardsCompletion\": 0.16666666666666666, \"interactionType\": 1, \"questionType\": 1, \"questionId\": \"5_DropMissingCols\", \"learnToolsVersion\": \"0.3.4\", \"failureMessage\": \"\", \"exceptionClass\": \"\", \"trace\": \"\"}}, \"*\")"
      ],
      "text/plain": [
       "<IPython.core.display.Javascript object>"
      ]
     },
     "metadata": {},
     "output_type": "display_data"
    },
    {
     "data": {
      "text/markdown": [
       "<span style=\"color:#33cc33\">Correct</span>"
      ],
      "text/plain": [
       "Correct"
      ]
     },
     "metadata": {},
     "output_type": "display_data"
    }
   ],
   "source": [
    "# TODO: Your code here\n",
    "sf_permits_with_na_dropped = sf_permits.dropna(axis = 1)\n",
    "cols_in_original = sf_permits.shape[1]\n",
    "cols_in_dropped = sf_permits_with_na_dropped.shape[1]\n",
    "dropped_columns = cols_in_original - cols_in_dropped\n",
    "\n",
    "\n",
    "# Check your answer\n",
    "q5.check()"
   ]
  },
  {
   "cell_type": "code",
   "execution_count": 19,
   "id": "e7f26fb1",
   "metadata": {
    "execution": {
     "iopub.execute_input": "2023-09-05T01:20:50.879112Z",
     "iopub.status.busy": "2023-09-05T01:20:50.878704Z",
     "iopub.status.idle": "2023-09-05T01:20:50.886050Z",
     "shell.execute_reply": "2023-09-05T01:20:50.884853Z"
    },
    "papermill": {
     "duration": 0.024334,
     "end_time": "2023-09-05T01:20:50.888273",
     "exception": false,
     "start_time": "2023-09-05T01:20:50.863939",
     "status": "completed"
    },
    "tags": []
   },
   "outputs": [
    {
     "data": {
      "text/plain": [
       "31"
      ]
     },
     "execution_count": 19,
     "metadata": {},
     "output_type": "execute_result"
    }
   ],
   "source": [
    "dropped_columns"
   ]
  },
  {
   "cell_type": "code",
   "execution_count": 20,
   "id": "f1c1ed49",
   "metadata": {
    "execution": {
     "iopub.execute_input": "2023-09-05T01:20:50.915905Z",
     "iopub.status.busy": "2023-09-05T01:20:50.915557Z",
     "iopub.status.idle": "2023-09-05T01:20:50.919982Z",
     "shell.execute_reply": "2023-09-05T01:20:50.918847Z"
    },
    "papermill": {
     "duration": 0.02098,
     "end_time": "2023-09-05T01:20:50.922230",
     "exception": false,
     "start_time": "2023-09-05T01:20:50.901250",
     "status": "completed"
    },
    "tags": []
   },
   "outputs": [],
   "source": [
    "# Lines below will give you a hint or solution code\n",
    "# q5.hint()\n",
    "# q5.solution()"
   ]
  },
  {
   "cell_type": "markdown",
   "id": "264177b5",
   "metadata": {
    "papermill": {
     "duration": 0.012333,
     "end_time": "2023-09-05T01:20:50.947946",
     "exception": false,
     "start_time": "2023-09-05T01:20:50.935613",
     "status": "completed"
    },
    "tags": []
   },
   "source": [
    "# 6) Fill in missing values automatically\n",
    "\n",
    "Try replacing all the NaN's in the `sf_permits` data with the one that comes directly after it and then replacing any remaining NaN's with 0.  Set the result to a new DataFrame `sf_permits_with_na_imputed`."
   ]
  },
  {
   "cell_type": "code",
   "execution_count": 21,
   "id": "a576c229",
   "metadata": {
    "execution": {
     "iopub.execute_input": "2023-09-05T01:20:50.974888Z",
     "iopub.status.busy": "2023-09-05T01:20:50.974533Z",
     "iopub.status.idle": "2023-09-05T01:20:50.987822Z",
     "shell.execute_reply": "2023-09-05T01:20:50.986782Z"
    },
    "papermill": {
     "duration": 0.029387,
     "end_time": "2023-09-05T01:20:50.989850",
     "exception": false,
     "start_time": "2023-09-05T01:20:50.960463",
     "status": "completed"
    },
    "tags": []
   },
   "outputs": [
    {
     "data": {
      "text/html": [
       "<div>\n",
       "<style scoped>\n",
       "    .dataframe tbody tr th:only-of-type {\n",
       "        vertical-align: middle;\n",
       "    }\n",
       "\n",
       "    .dataframe tbody tr th {\n",
       "        vertical-align: top;\n",
       "    }\n",
       "\n",
       "    .dataframe thead th {\n",
       "        text-align: right;\n",
       "    }\n",
       "</style>\n",
       "<table border=\"1\" class=\"dataframe\">\n",
       "  <thead>\n",
       "    <tr style=\"text-align: right;\">\n",
       "      <th></th>\n",
       "      <th>A</th>\n",
       "      <th>B</th>\n",
       "      <th>C</th>\n",
       "    </tr>\n",
       "  </thead>\n",
       "  <tbody>\n",
       "    <tr>\n",
       "      <th>0</th>\n",
       "      <td>NaN</td>\n",
       "      <td>11.0</td>\n",
       "      <td>NaN</td>\n",
       "    </tr>\n",
       "    <tr>\n",
       "      <th>1</th>\n",
       "      <td>1.0</td>\n",
       "      <td>5.0</td>\n",
       "      <td>5.0</td>\n",
       "    </tr>\n",
       "    <tr>\n",
       "      <th>2</th>\n",
       "      <td>2.0</td>\n",
       "      <td>NaN</td>\n",
       "      <td>10.0</td>\n",
       "    </tr>\n",
       "    <tr>\n",
       "      <th>3</th>\n",
       "      <td>3.0</td>\n",
       "      <td>NaN</td>\n",
       "      <td>11.0</td>\n",
       "    </tr>\n",
       "    <tr>\n",
       "      <th>4</th>\n",
       "      <td>NaN</td>\n",
       "      <td>NaN</td>\n",
       "      <td>NaN</td>\n",
       "    </tr>\n",
       "    <tr>\n",
       "      <th>5</th>\n",
       "      <td>NaN</td>\n",
       "      <td>8.0</td>\n",
       "      <td>8.0</td>\n",
       "    </tr>\n",
       "  </tbody>\n",
       "</table>\n",
       "</div>"
      ],
      "text/plain": [
       "     A     B     C\n",
       "0  NaN  11.0   NaN\n",
       "1  1.0   5.0   5.0\n",
       "2  2.0   NaN  10.0\n",
       "3  3.0   NaN  11.0\n",
       "4  NaN   NaN   NaN\n",
       "5  NaN   8.0   8.0"
      ]
     },
     "execution_count": 21,
     "metadata": {},
     "output_type": "execute_result"
    }
   ],
   "source": [
    "df = pd.DataFrame({\"A\":[None, 1, 2, 3, None, None], \n",
    "                   \"B\":[11, 5, None, None, None, 8],\n",
    "                   \"C\":[None, 5, 10, 11, None, 8]})\n",
    "df"
   ]
  },
  {
   "cell_type": "code",
   "execution_count": 22,
   "id": "859eb812",
   "metadata": {
    "execution": {
     "iopub.execute_input": "2023-09-05T01:20:51.017599Z",
     "iopub.status.busy": "2023-09-05T01:20:51.017208Z",
     "iopub.status.idle": "2023-09-05T01:20:51.029314Z",
     "shell.execute_reply": "2023-09-05T01:20:51.028325Z"
    },
    "papermill": {
     "duration": 0.028851,
     "end_time": "2023-09-05T01:20:51.031383",
     "exception": false,
     "start_time": "2023-09-05T01:20:51.002532",
     "status": "completed"
    },
    "tags": []
   },
   "outputs": [
    {
     "data": {
      "text/html": [
       "<div>\n",
       "<style scoped>\n",
       "    .dataframe tbody tr th:only-of-type {\n",
       "        vertical-align: middle;\n",
       "    }\n",
       "\n",
       "    .dataframe tbody tr th {\n",
       "        vertical-align: top;\n",
       "    }\n",
       "\n",
       "    .dataframe thead th {\n",
       "        text-align: right;\n",
       "    }\n",
       "</style>\n",
       "<table border=\"1\" class=\"dataframe\">\n",
       "  <thead>\n",
       "    <tr style=\"text-align: right;\">\n",
       "      <th></th>\n",
       "      <th>A</th>\n",
       "      <th>B</th>\n",
       "      <th>C</th>\n",
       "    </tr>\n",
       "  </thead>\n",
       "  <tbody>\n",
       "    <tr>\n",
       "      <th>0</th>\n",
       "      <td>1.0</td>\n",
       "      <td>11.0</td>\n",
       "      <td>5.0</td>\n",
       "    </tr>\n",
       "    <tr>\n",
       "      <th>1</th>\n",
       "      <td>1.0</td>\n",
       "      <td>5.0</td>\n",
       "      <td>5.0</td>\n",
       "    </tr>\n",
       "    <tr>\n",
       "      <th>2</th>\n",
       "      <td>2.0</td>\n",
       "      <td>8.0</td>\n",
       "      <td>10.0</td>\n",
       "    </tr>\n",
       "    <tr>\n",
       "      <th>3</th>\n",
       "      <td>3.0</td>\n",
       "      <td>8.0</td>\n",
       "      <td>11.0</td>\n",
       "    </tr>\n",
       "    <tr>\n",
       "      <th>4</th>\n",
       "      <td>NaN</td>\n",
       "      <td>8.0</td>\n",
       "      <td>8.0</td>\n",
       "    </tr>\n",
       "    <tr>\n",
       "      <th>5</th>\n",
       "      <td>NaN</td>\n",
       "      <td>8.0</td>\n",
       "      <td>8.0</td>\n",
       "    </tr>\n",
       "  </tbody>\n",
       "</table>\n",
       "</div>"
      ],
      "text/plain": [
       "     A     B     C\n",
       "0  1.0  11.0   5.0\n",
       "1  1.0   5.0   5.0\n",
       "2  2.0   8.0  10.0\n",
       "3  3.0   8.0  11.0\n",
       "4  NaN   8.0   8.0\n",
       "5  NaN   8.0   8.0"
      ]
     },
     "execution_count": 22,
     "metadata": {},
     "output_type": "execute_result"
    }
   ],
   "source": [
    "df = df.fillna(method = 'bfill', axis = 0)\n",
    "df"
   ]
  },
  {
   "cell_type": "code",
   "execution_count": 23,
   "id": "6e485676",
   "metadata": {
    "execution": {
     "iopub.execute_input": "2023-09-05T01:20:51.059255Z",
     "iopub.status.busy": "2023-09-05T01:20:51.058869Z",
     "iopub.status.idle": "2023-09-05T01:20:51.071490Z",
     "shell.execute_reply": "2023-09-05T01:20:51.070346Z"
    },
    "papermill": {
     "duration": 0.029423,
     "end_time": "2023-09-05T01:20:51.073768",
     "exception": false,
     "start_time": "2023-09-05T01:20:51.044345",
     "status": "completed"
    },
    "tags": []
   },
   "outputs": [
    {
     "data": {
      "text/html": [
       "<div>\n",
       "<style scoped>\n",
       "    .dataframe tbody tr th:only-of-type {\n",
       "        vertical-align: middle;\n",
       "    }\n",
       "\n",
       "    .dataframe tbody tr th {\n",
       "        vertical-align: top;\n",
       "    }\n",
       "\n",
       "    .dataframe thead th {\n",
       "        text-align: right;\n",
       "    }\n",
       "</style>\n",
       "<table border=\"1\" class=\"dataframe\">\n",
       "  <thead>\n",
       "    <tr style=\"text-align: right;\">\n",
       "      <th></th>\n",
       "      <th>A</th>\n",
       "      <th>B</th>\n",
       "      <th>C</th>\n",
       "    </tr>\n",
       "  </thead>\n",
       "  <tbody>\n",
       "    <tr>\n",
       "      <th>0</th>\n",
       "      <td>1.0</td>\n",
       "      <td>11.0</td>\n",
       "      <td>5.0</td>\n",
       "    </tr>\n",
       "    <tr>\n",
       "      <th>1</th>\n",
       "      <td>1.0</td>\n",
       "      <td>5.0</td>\n",
       "      <td>5.0</td>\n",
       "    </tr>\n",
       "    <tr>\n",
       "      <th>2</th>\n",
       "      <td>2.0</td>\n",
       "      <td>8.0</td>\n",
       "      <td>10.0</td>\n",
       "    </tr>\n",
       "    <tr>\n",
       "      <th>3</th>\n",
       "      <td>3.0</td>\n",
       "      <td>8.0</td>\n",
       "      <td>11.0</td>\n",
       "    </tr>\n",
       "    <tr>\n",
       "      <th>4</th>\n",
       "      <td>0.0</td>\n",
       "      <td>8.0</td>\n",
       "      <td>8.0</td>\n",
       "    </tr>\n",
       "    <tr>\n",
       "      <th>5</th>\n",
       "      <td>0.0</td>\n",
       "      <td>8.0</td>\n",
       "      <td>8.0</td>\n",
       "    </tr>\n",
       "  </tbody>\n",
       "</table>\n",
       "</div>"
      ],
      "text/plain": [
       "     A     B     C\n",
       "0  1.0  11.0   5.0\n",
       "1  1.0   5.0   5.0\n",
       "2  2.0   8.0  10.0\n",
       "3  3.0   8.0  11.0\n",
       "4  0.0   8.0   8.0\n",
       "5  0.0   8.0   8.0"
      ]
     },
     "execution_count": 23,
     "metadata": {},
     "output_type": "execute_result"
    }
   ],
   "source": [
    "df = df.fillna(0)\n",
    "df"
   ]
  },
  {
   "cell_type": "code",
   "execution_count": 24,
   "id": "d1f5b412",
   "metadata": {
    "execution": {
     "iopub.execute_input": "2023-09-05T01:20:51.102485Z",
     "iopub.status.busy": "2023-09-05T01:20:51.101711Z",
     "iopub.status.idle": "2023-09-05T01:20:51.824672Z",
     "shell.execute_reply": "2023-09-05T01:20:51.823402Z"
    },
    "papermill": {
     "duration": 0.73995,
     "end_time": "2023-09-05T01:20:51.827067",
     "exception": false,
     "start_time": "2023-09-05T01:20:51.087117",
     "status": "completed"
    },
    "tags": []
   },
   "outputs": [
    {
     "data": {
      "application/javascript": [
       "parent.postMessage({\"jupyterEvent\": \"custom.exercise_interaction\", \"data\": {\"outcomeType\": 1, \"valueTowardsCompletion\": 0.16666666666666666, \"interactionType\": 1, \"questionType\": 1, \"questionId\": \"6_ImputeAutomatically\", \"learnToolsVersion\": \"0.3.4\", \"failureMessage\": \"\", \"exceptionClass\": \"\", \"trace\": \"\"}}, \"*\")"
      ],
      "text/plain": [
       "<IPython.core.display.Javascript object>"
      ]
     },
     "metadata": {},
     "output_type": "display_data"
    },
    {
     "data": {
      "text/markdown": [
       "<span style=\"color:#33cc33\">Correct</span>"
      ],
      "text/plain": [
       "Correct"
      ]
     },
     "metadata": {},
     "output_type": "display_data"
    }
   ],
   "source": [
    "# TODO: Your code here\n",
    "sf_permits_with_na_imputed = sf_permits.fillna(method='bfill', axis = 0)\n",
    "sf_permits_with_na_imputed = sf_permits_with_na_imputed.fillna(0)\n",
    "\n",
    "# Check your answer\n",
    "q6.check()"
   ]
  },
  {
   "cell_type": "code",
   "execution_count": 25,
   "id": "a5b2fa70",
   "metadata": {
    "execution": {
     "iopub.execute_input": "2023-09-05T01:20:51.856898Z",
     "iopub.status.busy": "2023-09-05T01:20:51.856488Z",
     "iopub.status.idle": "2023-09-05T01:20:51.861377Z",
     "shell.execute_reply": "2023-09-05T01:20:51.860277Z"
    },
    "papermill": {
     "duration": 0.022325,
     "end_time": "2023-09-05T01:20:51.863366",
     "exception": false,
     "start_time": "2023-09-05T01:20:51.841041",
     "status": "completed"
    },
    "tags": []
   },
   "outputs": [],
   "source": [
    "# Lines below will give you a hint or solution code\n",
    "# q6.hint()\n",
    "# q6.solution()"
   ]
  },
  {
   "cell_type": "markdown",
   "id": "dfb56256",
   "metadata": {
    "papermill": {
     "duration": 0.013314,
     "end_time": "2023-09-05T01:20:51.890726",
     "exception": false,
     "start_time": "2023-09-05T01:20:51.877412",
     "status": "completed"
    },
    "tags": []
   },
   "source": [
    "# More practice\n",
    "\n",
    "If you're looking for more practice handling missing values:\n",
    "\n",
    "* Check out [this noteboook](https://www.kaggle.com/alexisbcook/missing-values) on handling missing values using scikit-learn's imputer. \n",
    "* Look back at the \"Zipcode\" column in the `sf_permits` dataset, which has some missing values. How would you go about figuring out what the actual zipcode of each address should be? (You might try using another dataset. You can search for datasets about San Fransisco on the [Datasets listing](https://www.kaggle.com/datasets).) \n",
    "\n",
    "# Keep going\n",
    "\n",
    "In the next lesson, learn how to [**apply scaling and normalization**](https://www.kaggle.com/alexisbcook/scaling-and-normalization) to transform your data."
   ]
  },
  {
   "cell_type": "markdown",
   "id": "f5b5425c",
   "metadata": {
    "papermill": {
     "duration": 0.013864,
     "end_time": "2023-09-05T01:20:51.918718",
     "exception": false,
     "start_time": "2023-09-05T01:20:51.904854",
     "status": "completed"
    },
    "tags": []
   },
   "source": [
    "---\n",
    "\n",
    "\n",
    "\n",
    "\n",
    "*Have questions or comments? Visit the [course discussion forum](https://www.kaggle.com/learn/data-cleaning/discussion) to chat with other learners.*"
   ]
  }
 ],
 "kernelspec": {
  "display_name": "Python 3",
  "language": "python",
  "name": "python3"
 },
 "language_info": {
  "codemirror_mode": {
   "name": "ipython",
   "version": 3
  },
  "file_extension": ".py",
  "mimetype": "text/x-python",
  "name": "python",
  "nbconvert_exporter": "python",
  "pygments_lexer": "ipython3",
  "version": "3.6.4"
 },
 "metadata": {
  "kernelspec": {
   "display_name": "Python 3",
   "language": "python",
   "name": "python3"
  },
  "language_info": {
   "codemirror_mode": {
    "name": "ipython",
    "version": 3
   },
   "file_extension": ".py",
   "mimetype": "text/x-python",
   "name": "python",
   "nbconvert_exporter": "python",
   "pygments_lexer": "ipython3",
   "version": "3.10.12"
  },
  "papermill": {
   "default_parameters": {},
   "duration": 13.036364,
   "end_time": "2023-09-05T01:20:52.553565",
   "environment_variables": {},
   "exception": null,
   "input_path": "__notebook__.ipynb",
   "output_path": "__notebook__.ipynb",
   "parameters": {},
   "start_time": "2023-09-05T01:20:39.517201",
   "version": "2.4.0"
  }
 },
 "nbformat": 4,
 "nbformat_minor": 5
}
