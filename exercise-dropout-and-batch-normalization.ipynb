{
 "cells": [
  {
   "cell_type": "markdown",
   "id": "b8f53fce",
   "metadata": {
    "papermill": {
     "duration": 0.004149,
     "end_time": "2023-10-17T03:59:53.695250",
     "exception": false,
     "start_time": "2023-10-17T03:59:53.691101",
     "status": "completed"
    },
    "tags": []
   },
   "source": [
    "**This notebook is an exercise in the [Intro to Deep Learning](https://www.kaggle.com/learn/intro-to-deep-learning) course.  You can reference the tutorial at [this link](https://www.kaggle.com/ryanholbrook/dropout-and-batch-normalization).**\n",
    "\n",
    "---\n"
   ]
  },
  {
   "cell_type": "markdown",
   "id": "5e2d5d21",
   "metadata": {
    "papermill": {
     "duration": 0.003425,
     "end_time": "2023-10-17T03:59:53.702438",
     "exception": false,
     "start_time": "2023-10-17T03:59:53.699013",
     "status": "completed"
    },
    "tags": []
   },
   "source": [
    "# Introduction #\n",
    "\n",
    "In this exercise, you'll add dropout to the *Spotify* model from Exercise 4 and see how batch normalization can let you successfully train models on difficult datasets.\n",
    "\n",
    "Run the next cell to get started!"
   ]
  },
  {
   "cell_type": "code",
   "execution_count": 1,
   "id": "6c019e0f",
   "metadata": {
    "execution": {
     "iopub.execute_input": "2023-10-17T03:59:53.711255Z",
     "iopub.status.busy": "2023-10-17T03:59:53.710956Z",
     "iopub.status.idle": "2023-10-17T03:59:54.390319Z",
     "shell.execute_reply": "2023-10-17T03:59:54.389416Z"
    },
    "papermill": {
     "duration": 0.686406,
     "end_time": "2023-10-17T03:59:54.392400",
     "exception": false,
     "start_time": "2023-10-17T03:59:53.705994",
     "status": "completed"
    },
    "tags": []
   },
   "outputs": [
    {
     "name": "stderr",
     "output_type": "stream",
     "text": [
      "/tmp/ipykernel_23/195640296.py:3: MatplotlibDeprecationWarning: The seaborn styles shipped by Matplotlib are deprecated since 3.6, as they no longer correspond to the styles shipped by seaborn. However, they will remain available as 'seaborn-v0_8-<style>'. Alternatively, directly use the seaborn API instead.\n",
      "  plt.style.use('seaborn-whitegrid')\n"
     ]
    }
   ],
   "source": [
    "# Setup plotting\n",
    "import matplotlib.pyplot as plt\n",
    "plt.style.use('seaborn-whitegrid')\n",
    "# Set Matplotlib defaults\n",
    "plt.rc('figure', autolayout=True)\n",
    "plt.rc('axes', labelweight='bold', labelsize='large',\n",
    "       titleweight='bold', titlesize=18, titlepad=10)\n",
    "plt.rc('animation', html='html5')\n",
    "\n",
    "# Setup feedback system\n",
    "from learntools.core import binder\n",
    "binder.bind(globals())\n",
    "from learntools.deep_learning_intro.ex5 import *"
   ]
  },
  {
   "cell_type": "markdown",
   "id": "f75d2e68",
   "metadata": {
    "papermill": {
     "duration": 0.003535,
     "end_time": "2023-10-17T03:59:54.399838",
     "exception": false,
     "start_time": "2023-10-17T03:59:54.396303",
     "status": "completed"
    },
    "tags": []
   },
   "source": [
    "First load the *Spotify* dataset."
   ]
  },
  {
   "cell_type": "code",
   "execution_count": 2,
   "id": "a592bec5",
   "metadata": {
    "execution": {
     "iopub.execute_input": "2023-10-17T03:59:54.408385Z",
     "iopub.status.busy": "2023-10-17T03:59:54.408048Z",
     "iopub.status.idle": "2023-10-17T04:00:03.323572Z",
     "shell.execute_reply": "2023-10-17T04:00:03.322504Z"
    },
    "papermill": {
     "duration": 8.922135,
     "end_time": "2023-10-17T04:00:03.325601",
     "exception": false,
     "start_time": "2023-10-17T03:59:54.403466",
     "status": "completed"
    },
    "tags": []
   },
   "outputs": [
    {
     "name": "stderr",
     "output_type": "stream",
     "text": [
      "/opt/conda/lib/python3.10/site-packages/scipy/__init__.py:146: UserWarning: A NumPy version >=1.16.5 and <1.23.0 is required for this version of SciPy (detected version 1.23.5\n",
      "  warnings.warn(f\"A NumPy version >={np_minversion} and <{np_maxversion}\"\n"
     ]
    },
    {
     "name": "stdout",
     "output_type": "stream",
     "text": [
      "Input shape: [18]\n"
     ]
    }
   ],
   "source": [
    "import pandas as pd\n",
    "from sklearn.preprocessing import StandardScaler, OneHotEncoder\n",
    "from sklearn.compose import make_column_transformer\n",
    "from sklearn.model_selection import GroupShuffleSplit\n",
    "\n",
    "from tensorflow import keras\n",
    "from tensorflow.keras import layers\n",
    "from tensorflow.keras import callbacks\n",
    "\n",
    "spotify = pd.read_csv('../input/dl-course-data/spotify.csv')\n",
    "\n",
    "X = spotify.copy().dropna()\n",
    "y = X.pop('track_popularity')\n",
    "artists = X['track_artist']\n",
    "\n",
    "features_num = ['danceability', 'energy', 'key', 'loudness', 'mode',\n",
    "                'speechiness', 'acousticness', 'instrumentalness',\n",
    "                'liveness', 'valence', 'tempo', 'duration_ms']\n",
    "features_cat = ['playlist_genre']\n",
    "\n",
    "preprocessor = make_column_transformer(\n",
    "    (StandardScaler(), features_num),\n",
    "    (OneHotEncoder(), features_cat),\n",
    ")\n",
    "\n",
    "def group_split(X, y, group, train_size=0.75):\n",
    "    splitter = GroupShuffleSplit(train_size=train_size)\n",
    "    train, test = next(splitter.split(X, y, groups=group))\n",
    "    return (X.iloc[train], X.iloc[test], y.iloc[train], y.iloc[test])\n",
    "\n",
    "X_train, X_valid, y_train, y_valid = group_split(X, y, artists)\n",
    "\n",
    "X_train = preprocessor.fit_transform(X_train)\n",
    "X_valid = preprocessor.transform(X_valid)\n",
    "y_train = y_train / 100\n",
    "y_valid = y_valid / 100\n",
    "\n",
    "input_shape = [X_train.shape[1]]\n",
    "print(\"Input shape: {}\".format(input_shape))"
   ]
  },
  {
   "cell_type": "markdown",
   "id": "d72198c2",
   "metadata": {
    "papermill": {
     "duration": 0.003668,
     "end_time": "2023-10-17T04:00:03.333242",
     "exception": false,
     "start_time": "2023-10-17T04:00:03.329574",
     "status": "completed"
    },
    "tags": []
   },
   "source": [
    "# 1) Add Dropout to Spotify Model\n",
    "\n",
    "Here is the last model from Exercise 4. Add two dropout layers, one after the `Dense` layer with 128 units, and one after the `Dense` layer with 64 units. Set the dropout rate on both to `0.3`."
   ]
  },
  {
   "cell_type": "code",
   "execution_count": 3,
   "id": "fcf9b4d4",
   "metadata": {
    "execution": {
     "iopub.execute_input": "2023-10-17T04:00:03.341889Z",
     "iopub.status.busy": "2023-10-17T04:00:03.341595Z",
     "iopub.status.idle": "2023-10-17T04:00:06.737283Z",
     "shell.execute_reply": "2023-10-17T04:00:06.736408Z"
    },
    "lines_to_next_cell": 2,
    "papermill": {
     "duration": 3.402019,
     "end_time": "2023-10-17T04:00:06.739054",
     "exception": false,
     "start_time": "2023-10-17T04:00:03.337035",
     "status": "completed"
    },
    "tags": []
   },
   "outputs": [
    {
     "data": {
      "application/javascript": [
       "parent.postMessage({\"jupyterEvent\": \"custom.exercise_interaction\", \"data\": {\"outcomeType\": 1, \"valueTowardsCompletion\": 0.25, \"interactionType\": 1, \"questionType\": 2, \"questionId\": \"1_Q1\", \"learnToolsVersion\": \"0.3.4\", \"failureMessage\": \"\", \"exceptionClass\": \"\", \"trace\": \"\"}}, \"*\")"
      ],
      "text/plain": [
       "<IPython.core.display.Javascript object>"
      ]
     },
     "metadata": {},
     "output_type": "display_data"
    },
    {
     "data": {
      "text/markdown": [
       "<span style=\"color:#33cc33\">Correct</span>"
      ],
      "text/plain": [
       "Correct"
      ]
     },
     "metadata": {},
     "output_type": "display_data"
    }
   ],
   "source": [
    "# YOUR CODE HERE: Add two 30% dropout layers, one after 128 and one after 64\n",
    "model = keras.Sequential([\n",
    "    layers.Dense(128, activation='relu', input_shape=input_shape),\n",
    "    layers.Dropout(0.3),\n",
    "    layers.Dense(64, activation='relu'),\n",
    "    layers.Dropout(0.3),\n",
    "    layers.Dense(1)\n",
    "])\n",
    "\n",
    "# Check your answer\n",
    "q_1.check()"
   ]
  },
  {
   "cell_type": "markdown",
   "id": "996a204c",
   "metadata": {
    "papermill": {
     "duration": 0.003917,
     "end_time": "2023-10-17T04:00:06.747059",
     "exception": false,
     "start_time": "2023-10-17T04:00:06.743142",
     "status": "completed"
    },
    "tags": []
   },
   "source": [
    "Dropout() works as an ensamble of small networks. Similar to an ensemble of decision trees in Random Forests, the small networks improve the model's predictions."
   ]
  },
  {
   "cell_type": "code",
   "execution_count": 4,
   "id": "56b91c44",
   "metadata": {
    "execution": {
     "iopub.execute_input": "2023-10-17T04:00:06.756085Z",
     "iopub.status.busy": "2023-10-17T04:00:06.755532Z",
     "iopub.status.idle": "2023-10-17T04:00:06.759596Z",
     "shell.execute_reply": "2023-10-17T04:00:06.758778Z"
    },
    "papermill": {
     "duration": 0.010391,
     "end_time": "2023-10-17T04:00:06.761305",
     "exception": false,
     "start_time": "2023-10-17T04:00:06.750914",
     "status": "completed"
    },
    "tags": []
   },
   "outputs": [],
   "source": [
    "# Lines below will give you a hint or solution code\n",
    "#q_1.hint()\n",
    "#q_1.solution()"
   ]
  },
  {
   "cell_type": "markdown",
   "id": "200196b3",
   "metadata": {
    "papermill": {
     "duration": 0.003703,
     "end_time": "2023-10-17T04:00:06.768895",
     "exception": false,
     "start_time": "2023-10-17T04:00:06.765192",
     "status": "completed"
    },
    "tags": []
   },
   "source": [
    "Now run this next cell to train the model see the effect of adding dropout."
   ]
  },
  {
   "cell_type": "code",
   "execution_count": 5,
   "id": "c334a710",
   "metadata": {
    "execution": {
     "iopub.execute_input": "2023-10-17T04:00:06.778269Z",
     "iopub.status.busy": "2023-10-17T04:00:06.777525Z",
     "iopub.status.idle": "2023-10-17T04:00:28.680605Z",
     "shell.execute_reply": "2023-10-17T04:00:28.679736Z"
    },
    "papermill": {
     "duration": 21.910285,
     "end_time": "2023-10-17T04:00:28.683064",
     "exception": false,
     "start_time": "2023-10-17T04:00:06.772779",
     "status": "completed"
    },
    "tags": []
   },
   "outputs": [
    {
     "name": "stdout",
     "output_type": "stream",
     "text": [
      "Minimum Validation Loss: 0.1942\n"
     ]
    },
    {
     "data": {
      "image/png": "[encoded data removed]",
      "text/plain": [
       "<Figure size 640x480 with 1 Axes>"
      ]
     },
     "metadata": {},
     "output_type": "display_data"
    }
   ],
   "source": [
    "model.compile(\n",
    "    optimizer='adam',\n",
    "    loss='mae',\n",
    ")\n",
    "history = model.fit(\n",
    "    X_train, y_train,\n",
    "    validation_data=(X_valid, y_valid),\n",
    "    batch_size=512,\n",
    "    epochs=50,\n",
    "    verbose=0,\n",
    ")\n",
    "history_df = pd.DataFrame(history.history)\n",
    "history_df.loc[:, ['loss', 'val_loss']].plot()\n",
    "print(\"Minimum Validation Loss: {:0.4f}\".format(history_df['val_loss'].min()))"
   ]
  },
  {
   "cell_type": "markdown",
   "id": "35b17f42",
   "metadata": {
    "papermill": {
     "duration": 0.007788,
     "end_time": "2023-10-17T04:00:28.699558",
     "exception": false,
     "start_time": "2023-10-17T04:00:28.691770",
     "status": "completed"
    },
    "tags": []
   },
   "source": [
    "# 2) Evaluate Dropout\n",
    "\n",
    "Recall from Exercise 4 that this model tended to overfit the data around epoch 5. Did adding dropout seem to help prevent overfitting this time?"
   ]
  },
  {
   "cell_type": "code",
   "execution_count": 6,
   "id": "1fb5a2a3",
   "metadata": {
    "execution": {
     "iopub.execute_input": "2023-10-17T04:00:28.716925Z",
     "iopub.status.busy": "2023-10-17T04:00:28.716490Z",
     "iopub.status.idle": "2023-10-17T04:00:28.723994Z",
     "shell.execute_reply": "2023-10-17T04:00:28.723233Z"
    },
    "papermill": {
     "duration": 0.022326,
     "end_time": "2023-10-17T04:00:28.729995",
     "exception": false,
     "start_time": "2023-10-17T04:00:28.707669",
     "status": "completed"
    },
    "tags": []
   },
   "outputs": [
    {
     "data": {
      "application/javascript": [
       "parent.postMessage({\"jupyterEvent\": \"custom.exercise_interaction\", \"data\": {\"outcomeType\": 1, \"valueTowardsCompletion\": 0.25, \"interactionType\": 1, \"questionType\": 4, \"questionId\": \"2_Q2\", \"learnToolsVersion\": \"0.3.4\", \"failureMessage\": \"\", \"exceptionClass\": \"\", \"trace\": \"\"}}, \"*\")"
      ],
      "text/plain": [
       "<IPython.core.display.Javascript object>"
      ]
     },
     "metadata": {},
     "output_type": "display_data"
    },
    {
     "data": {
      "text/markdown": [
       "<span style=\"color:#33cc33\">Correct:</span> \n",
       "\n",
       "\n",
       "From the learning curves, you can see that the validation loss remains near a constant minimum even though the training loss continues to decrease. So we can see that adding dropout did prevent overfitting this time. Moreover, by making it harder for the network to fit spurious patterns, dropout may have encouraged the network to seek out more of the true patterns, possibly improving the validation loss some as well).\n"
      ],
      "text/plain": [
       "Correct: \n",
       "\n",
       "\n",
       "From the learning curves, you can see that the validation loss remains near a constant minimum even though the training loss continues to decrease. So we can see that adding dropout did prevent overfitting this time. Moreover, by making it harder for the network to fit spurious patterns, dropout may have encouraged the network to seek out more of the true patterns, possibly improving the validation loss some as well)."
      ]
     },
     "metadata": {},
     "output_type": "display_data"
    }
   ],
   "source": [
    "q_2.check()"
   ]
  },
  {
   "cell_type": "markdown",
   "id": "dd0c9b3d",
   "metadata": {
    "papermill": {
     "duration": 0.007992,
     "end_time": "2023-10-17T04:00:28.746150",
     "exception": false,
     "start_time": "2023-10-17T04:00:28.738158",
     "status": "completed"
    },
    "tags": []
   },
   "source": [
    "Now, we'll switch topics to explore how batch normalization can fix problems in training.\n",
    "\n",
    "Load the *Concrete* dataset. We won't do any standardization this time. This will make the effect of batch normalization much more apparent."
   ]
  },
  {
   "cell_type": "code",
   "execution_count": 7,
   "id": "86054b37",
   "metadata": {
    "execution": {
     "iopub.execute_input": "2023-10-17T04:00:28.764551Z",
     "iopub.status.busy": "2023-10-17T04:00:28.763650Z",
     "iopub.status.idle": "2023-10-17T04:00:28.784181Z",
     "shell.execute_reply": "2023-10-17T04:00:28.783412Z"
    },
    "papermill": {
     "duration": 0.032099,
     "end_time": "2023-10-17T04:00:28.786554",
     "exception": false,
     "start_time": "2023-10-17T04:00:28.754455",
     "status": "completed"
    },
    "tags": []
   },
   "outputs": [],
   "source": [
    "import pandas as pd\n",
    "\n",
    "concrete = pd.read_csv('../input/dl-course-data/concrete.csv')\n",
    "df = concrete.copy()\n",
    "\n",
    "df_train = df.sample(frac=0.7, random_state=0)\n",
    "df_valid = df.drop(df_train.index)\n",
    "\n",
    "X_train = df_train.drop('CompressiveStrength', axis=1)\n",
    "X_valid = df_valid.drop('CompressiveStrength', axis=1)\n",
    "y_train = df_train['CompressiveStrength']\n",
    "y_valid = df_valid['CompressiveStrength']\n",
    "\n",
    "input_shape = [X_train.shape[1]]"
   ]
  },
  {
   "cell_type": "markdown",
   "id": "551f8ba5",
   "metadata": {
    "papermill": {
     "duration": 0.007998,
     "end_time": "2023-10-17T04:00:28.804182",
     "exception": false,
     "start_time": "2023-10-17T04:00:28.796184",
     "status": "completed"
    },
    "tags": []
   },
   "source": [
    "Run the following cell to train the network on the unstandardized *Concrete* data."
   ]
  },
  {
   "cell_type": "code",
   "execution_count": 8,
   "id": "d3f80160",
   "metadata": {
    "execution": {
     "iopub.execute_input": "2023-10-17T04:00:28.822551Z",
     "iopub.status.busy": "2023-10-17T04:00:28.822162Z",
     "iopub.status.idle": "2023-10-17T04:00:36.614916Z",
     "shell.execute_reply": "2023-10-17T04:00:36.613931Z"
    },
    "papermill": {
     "duration": 7.803968,
     "end_time": "2023-10-17T04:00:36.616757",
     "exception": false,
     "start_time": "2023-10-17T04:00:28.812789",
     "status": "completed"
    },
    "tags": []
   },
   "outputs": [
    {
     "name": "stdout",
     "output_type": "stream",
     "text": [
      "Minimum Validation Loss: nan\n"
     ]
    },
    {
     "data": {
      "image/png": "[encoded data removed]",
      "text/plain": [
       "<Figure size 640x480 with 1 Axes>"
      ]
     },
     "metadata": {},
     "output_type": "display_data"
    }
   ],
   "source": [
    "model = keras.Sequential([\n",
    "    layers.Dense(512, activation='relu', input_shape=input_shape),\n",
    "    layers.Dense(512, activation='relu'),    \n",
    "    layers.Dense(512, activation='relu'),\n",
    "    layers.Dense(1),\n",
    "])\n",
    "model.compile(\n",
    "    optimizer='sgd', # SGD is more sensitive to differences of scale\n",
    "    loss='mae',\n",
    "    metrics=['mae'],\n",
    ")\n",
    "history = model.fit(\n",
    "    X_train, y_train,\n",
    "    validation_data=(X_valid, y_valid),\n",
    "    batch_size=64,\n",
    "    epochs=100,\n",
    "    verbose=0,\n",
    ")\n",
    "\n",
    "history_df = pd.DataFrame(history.history)\n",
    "history_df.loc[0:, ['loss', 'val_loss']].plot()\n",
    "print((\"Minimum Validation Loss: {:0.4f}\").format(history_df['val_loss'].min()))"
   ]
  },
  {
   "cell_type": "markdown",
   "id": "b2f403bb",
   "metadata": {
    "papermill": {
     "duration": 0.004738,
     "end_time": "2023-10-17T04:00:36.626680",
     "exception": false,
     "start_time": "2023-10-17T04:00:36.621942",
     "status": "completed"
    },
    "tags": []
   },
   "source": [
    "Did you end up with a blank graph? Trying to train this network on this dataset will usually fail. Even when it does converge (due to a lucky weight initialization), it tends to converge to a very large number.\n",
    "\n",
    "# 3) Add Batch Normalization Layers\n",
    "\n",
    "Batch normalization can help correct problems like this.\n",
    "\n",
    "Add four `BatchNormalization` layers, one before each of the dense layers. (Remember to move the `input_shape` argument to the new first layer.)"
   ]
  },
  {
   "cell_type": "code",
   "execution_count": 9,
   "id": "f1e5d8cf",
   "metadata": {
    "execution": {
     "iopub.execute_input": "2023-10-17T04:00:36.637985Z",
     "iopub.status.busy": "2023-10-17T04:00:36.637183Z",
     "iopub.status.idle": "2023-10-17T04:00:36.656724Z",
     "shell.execute_reply": "2023-10-17T04:00:36.655794Z"
    },
    "lines_to_next_cell": 0,
    "papermill": {
     "duration": 0.026922,
     "end_time": "2023-10-17T04:00:36.658452",
     "exception": false,
     "start_time": "2023-10-17T04:00:36.631530",
     "status": "completed"
    },
    "tags": []
   },
   "outputs": [
    {
     "data": {
      "application/javascript": [
       "parent.postMessage({\"jupyterEvent\": \"custom.exercise_interaction\", \"data\": {\"outcomeType\": 1, \"valueTowardsCompletion\": 0.25, \"interactionType\": 1, \"questionType\": 2, \"questionId\": \"3_Q3\", \"learnToolsVersion\": \"0.3.4\", \"failureMessage\": \"\", \"exceptionClass\": \"\", \"trace\": \"\"}}, \"*\")"
      ],
      "text/plain": [
       "<IPython.core.display.Javascript object>"
      ]
     },
     "metadata": {},
     "output_type": "display_data"
    },
    {
     "data": {
      "text/markdown": [
       "<span style=\"color:#33cc33\">Correct</span>"
      ],
      "text/plain": [
       "Correct"
      ]
     },
     "metadata": {},
     "output_type": "display_data"
    }
   ],
   "source": [
    "# YOUR CODE HERE: Add a BatchNormalization layer before each Dense layer\n",
    "model = keras.Sequential([\n",
    "    layers.BatchNormalization(),\n",
    "    layers.Dense(512, activation='relu', input_shape=input_shape),\n",
    "    layers.BatchNormalization(),\n",
    "    layers.Dense(512, activation='relu'),\n",
    "    layers.BatchNormalization(),\n",
    "    layers.Dense(512, activation='relu'),\n",
    "    layers.BatchNormalization(),\n",
    "    layers.Dense(1),\n",
    "])\n",
    "\n",
    "# Check your answer\n",
    "q_3.check()"
   ]
  },
  {
   "cell_type": "code",
   "execution_count": 10,
   "id": "f8c61f35",
   "metadata": {
    "execution": {
     "iopub.execute_input": "2023-10-17T04:00:36.670273Z",
     "iopub.status.busy": "2023-10-17T04:00:36.669181Z",
     "iopub.status.idle": "2023-10-17T04:00:36.673167Z",
     "shell.execute_reply": "2023-10-17T04:00:36.672355Z"
    },
    "papermill": {
     "duration": 0.011557,
     "end_time": "2023-10-17T04:00:36.674900",
     "exception": false,
     "start_time": "2023-10-17T04:00:36.663343",
     "status": "completed"
    },
    "tags": []
   },
   "outputs": [],
   "source": [
    "# Lines below will give you a hint or solution code\n",
    "#q_3.hint()\n",
    "#q_3.solution()"
   ]
  },
  {
   "cell_type": "markdown",
   "id": "5b31d25e",
   "metadata": {
    "papermill": {
     "duration": 0.004696,
     "end_time": "2023-10-17T04:00:36.684603",
     "exception": false,
     "start_time": "2023-10-17T04:00:36.679907",
     "status": "completed"
    },
    "tags": []
   },
   "source": [
    "Run the next cell to see if batch normalization will let us train the model."
   ]
  },
  {
   "cell_type": "code",
   "execution_count": 11,
   "id": "8caff97f",
   "metadata": {
    "execution": {
     "iopub.execute_input": "2023-10-17T04:00:36.695292Z",
     "iopub.status.busy": "2023-10-17T04:00:36.695067Z",
     "iopub.status.idle": "2023-10-17T04:00:48.480229Z",
     "shell.execute_reply": "2023-10-17T04:00:48.479343Z"
    },
    "papermill": {
     "duration": 11.792674,
     "end_time": "2023-10-17T04:00:48.482125",
     "exception": false,
     "start_time": "2023-10-17T04:00:36.689451",
     "status": "completed"
    },
    "tags": []
   },
   "outputs": [
    {
     "name": "stdout",
     "output_type": "stream",
     "text": [
      "Minimum Validation Loss: 3.9575\n"
     ]
    },
    {
     "data": {
      "image/png": "[encoded data removed]",
      "text/plain": [
       "<Figure size 640x480 with 1 Axes>"
      ]
     },
     "metadata": {},
     "output_type": "display_data"
    }
   ],
   "source": [
    "model.compile(\n",
    "    optimizer='sgd',\n",
    "    loss='mae',\n",
    "    metrics=['mae'],\n",
    ")\n",
    "EPOCHS = 100\n",
    "history = model.fit(\n",
    "    X_train, y_train,\n",
    "    validation_data=(X_valid, y_valid),\n",
    "    batch_size=64,\n",
    "    epochs=EPOCHS,\n",
    "    verbose=0,\n",
    ")\n",
    "\n",
    "history_df = pd.DataFrame(history.history)\n",
    "history_df.loc[0:, ['loss', 'val_loss']].plot()\n",
    "print((\"Minimum Validation Loss: {:0.4f}\").format(history_df['val_loss'].min()))"
   ]
  },
  {
   "cell_type": "markdown",
   "id": "574d0117",
   "metadata": {
    "papermill": {
     "duration": 0.005433,
     "end_time": "2023-10-17T04:00:48.493584",
     "exception": false,
     "start_time": "2023-10-17T04:00:48.488151",
     "status": "completed"
    },
    "tags": []
   },
   "source": [
    "# 4) Evaluate Batch Normalization\n",
    "\n",
    "Did adding batch normalization help?"
   ]
  },
  {
   "cell_type": "code",
   "execution_count": 12,
   "id": "df919a12",
   "metadata": {
    "execution": {
     "iopub.execute_input": "2023-10-17T04:00:48.505780Z",
     "iopub.status.busy": "2023-10-17T04:00:48.505513Z",
     "iopub.status.idle": "2023-10-17T04:00:48.512763Z",
     "shell.execute_reply": "2023-10-17T04:00:48.511942Z"
    },
    "lines_to_next_cell": 0,
    "papermill": {
     "duration": 0.015463,
     "end_time": "2023-10-17T04:00:48.514561",
     "exception": false,
     "start_time": "2023-10-17T04:00:48.499098",
     "status": "completed"
    },
    "tags": []
   },
   "outputs": [
    {
     "data": {
      "application/javascript": [
       "parent.postMessage({\"jupyterEvent\": \"custom.exercise_interaction\", \"data\": {\"outcomeType\": 1, \"valueTowardsCompletion\": 0.25, \"interactionType\": 1, \"questionType\": 4, \"questionId\": \"4_Q4\", \"learnToolsVersion\": \"0.3.4\", \"failureMessage\": \"\", \"exceptionClass\": \"\", \"trace\": \"\"}}, \"*\")"
      ],
      "text/plain": [
       "<IPython.core.display.Javascript object>"
      ]
     },
     "metadata": {},
     "output_type": "display_data"
    },
    {
     "data": {
      "text/markdown": [
       "<span style=\"color:#33cc33\">Correct:</span> \n",
       "\n",
       "\n",
       "You can see that adding batch normalization was a big improvement on the first attempt! By adaptively scaling the data as it passes through the network, batch normalization can let you train models on difficult datasets.\n"
      ],
      "text/plain": [
       "Correct: \n",
       "\n",
       "\n",
       "You can see that adding batch normalization was a big improvement on the first attempt! By adaptively scaling the data as it passes through the network, batch normalization can let you train models on difficult datasets."
      ]
     },
     "metadata": {},
     "output_type": "display_data"
    }
   ],
   "source": [
    "q_4.check()"
   ]
  },
  {
   "cell_type": "markdown",
   "id": "abc758ca",
   "metadata": {
    "papermill": {
     "duration": 0.005522,
     "end_time": "2023-10-17T04:00:48.525779",
     "exception": false,
     "start_time": "2023-10-17T04:00:48.520257",
     "status": "completed"
    },
    "tags": []
   },
   "source": [
    "# Keep Going #\n",
    "\n",
    "[**Create neural networks**](https://www.kaggle.com/ryanholbrook/binary-classification) for binary classification."
   ]
  },
  {
   "cell_type": "markdown",
   "id": "38771858",
   "metadata": {
    "papermill": {
     "duration": 0.00545,
     "end_time": "2023-10-17T04:00:48.536799",
     "exception": false,
     "start_time": "2023-10-17T04:00:48.531349",
     "status": "completed"
    },
    "tags": []
   },
   "source": [
    "---\n",
    "\n",
    "\n",
    "\n",
    "\n",
    "*Have questions or comments? Visit the [course discussion forum](https://www.kaggle.com/learn/intro-to-deep-learning/discussion) to chat with other learners.*"
   ]
  }
 ],
 "metadata": {
  "kernelspec": {
   "display_name": "Python 3",
   "language": "python",
   "name": "python3"
  },
  "language_info": {
   "codemirror_mode": {
    "name": "ipython",
    "version": 3
   },
   "file_extension": ".py",
   "mimetype": "text/x-python",
   "name": "python",
   "nbconvert_exporter": "python",
   "pygments_lexer": "ipython3",
   "version": "3.10.12"
  },
  "papermill": {
   "default_parameters": {},
   "duration": 60.423472,
   "end_time": "2023-10-17T04:00:51.156075",
   "environment_variables": {},
   "exception": null,
   "input_path": "__notebook__.ipynb",
   "output_path": "__notebook__.ipynb",
   "parameters": {},
   "start_time": "2023-10-17T03:59:50.732603",
   "version": "2.4.0"
  }
 },
 "nbformat": 4,
 "nbformat_minor": 5
}
