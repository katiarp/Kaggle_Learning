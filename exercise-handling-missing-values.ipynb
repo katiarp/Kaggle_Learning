{
 "cells": [
  {
   "cell_type": "markdown",
   "id": "cbc0dcdf",
   "metadata": {
    "papermill": {
     "duration": 0.010284,
     "end_time": "2023-09-05T01:31:19.726468",
     "exception": false,
     "start_time": "2023-09-05T01:31:19.716184",
     "status": "completed"
    },
    "tags": []
   },
   "source": [
    "**This notebook is an exercise in the [Data Cleaning](https://www.kaggle.com/learn/data-cleaning) course.  You can reference the tutorial at [this link](https://www.kaggle.com/alexisbcook/handling-missing-values).**\n",
    "\n",
    "---\n"
   ]
  },
  {
   "cell_type": "markdown",
   "id": "3ef3c603",
   "metadata": {
    "papermill": {
     "duration": 0.008921,
     "end_time": "2023-09-05T01:31:19.745507",
     "exception": false,
     "start_time": "2023-09-05T01:31:19.736586",
     "status": "completed"
    },
    "tags": []
   },
   "source": [
    "In this exercise, you'll apply what you learned in the **Handling missing values** tutorial.\n",
    "\n",
    "# Setup\n",
    "\n",
    "The questions below will give you feedback on your work. Run the following cell to set up the feedback system."
   ]
  },
  {
   "cell_type": "code",
   "execution_count": 1,
   "id": "47c953b6",
   "metadata": {
    "execution": {
     "iopub.execute_input": "2023-09-05T01:31:19.765597Z",
     "iopub.status.busy": "2023-09-05T01:31:19.765203Z",
     "iopub.status.idle": "2023-09-05T01:31:23.860709Z",
     "shell.execute_reply": "2023-09-05T01:31:23.859517Z"
    },
    "papermill": {
     "duration": 4.108273,
     "end_time": "2023-09-05T01:31:23.862973",
     "exception": false,
     "start_time": "2023-09-05T01:31:19.754700",
     "status": "completed"
    },
    "tags": []
   },
   "outputs": [
    {
     "name": "stderr",
     "output_type": "stream",
     "text": [
      "/opt/conda/lib/python3.10/site-packages/learntools/data_cleaning/ex1.py:6: DtypeWarning: Columns (22,32) have mixed types. Specify dtype option on import or set low_memory=False.\n",
      "  sf_permits = pd.read_csv(\"../input/building-permit-applications-data/Building_Permits.csv\")\n"
     ]
    },
    {
     "name": "stdout",
     "output_type": "stream",
     "text": [
      "Setup Complete\n"
     ]
    }
   ],
   "source": [
    "from learntools.core import binder\n",
    "binder.bind(globals())\n",
    "from learntools.data_cleaning.ex1 import *\n",
    "print(\"Setup Complete\")"
   ]
  },
  {
   "cell_type": "markdown",
   "id": "396bfc34",
   "metadata": {
    "papermill": {
     "duration": 0.00919,
     "end_time": "2023-09-05T01:31:23.881974",
     "exception": false,
     "start_time": "2023-09-05T01:31:23.872784",
     "status": "completed"
    },
    "tags": []
   },
   "source": [
    "# 1) Take a first look at the data\n",
    "\n",
    "Run the next code cell to load in the libraries and dataset you'll use to complete the exercise."
   ]
  },
  {
   "cell_type": "code",
   "execution_count": 2,
   "id": "59f6ab8d",
   "metadata": {
    "execution": {
     "iopub.execute_input": "2023-09-05T01:31:23.902769Z",
     "iopub.status.busy": "2023-09-05T01:31:23.902132Z",
     "iopub.status.idle": "2023-09-05T01:31:25.643539Z",
     "shell.execute_reply": "2023-09-05T01:31:25.642485Z"
    },
    "papermill": {
     "duration": 1.754631,
     "end_time": "2023-09-05T01:31:25.646007",
     "exception": false,
     "start_time": "2023-09-05T01:31:23.891376",
     "status": "completed"
    },
    "tags": []
   },
   "outputs": [
    {
     "name": "stderr",
     "output_type": "stream",
     "text": [
      "/tmp/ipykernel_20/3534875831.py:6: DtypeWarning: Columns (22,32) have mixed types. Specify dtype option on import or set low_memory=False.\n",
      "  sf_permits = pd.read_csv(\"../input/building-permit-applications-data/Building_Permits.csv\")\n"
     ]
    }
   ],
   "source": [
    "# modules we'll use\n",
    "import pandas as pd\n",
    "import numpy as np\n",
    "\n",
    "# read in all our data\n",
    "sf_permits = pd.read_csv(\"../input/building-permit-applications-data/Building_Permits.csv\")\n",
    "\n",
    "# set seed for reproducibility\n",
    "np.random.seed(0) "
   ]
  },
  {
   "cell_type": "markdown",
   "id": "2dcbae97",
   "metadata": {
    "papermill": {
     "duration": 0.010406,
     "end_time": "2023-09-05T01:31:25.666529",
     "exception": false,
     "start_time": "2023-09-05T01:31:25.656123",
     "status": "completed"
    },
    "tags": []
   },
   "source": [
    "Use the code cell below to print the first five rows of the `sf_permits` DataFrame."
   ]
  },
  {
   "cell_type": "code",
   "execution_count": 3,
   "id": "e23a2a2c",
   "metadata": {
    "execution": {
     "iopub.execute_input": "2023-09-05T01:31:25.689502Z",
     "iopub.status.busy": "2023-09-05T01:31:25.688940Z",
     "iopub.status.idle": "2023-09-05T01:31:25.721765Z",
     "shell.execute_reply": "2023-09-05T01:31:25.720554Z"
    },
    "papermill": {
     "duration": 0.048616,
     "end_time": "2023-09-05T01:31:25.724960",
     "exception": false,
     "start_time": "2023-09-05T01:31:25.676344",
     "status": "completed"
    },
    "tags": []
   },
   "outputs": [
    {
     "data": {
      "text/html": [
       "<div>\n",
       "<style scoped>\n",
       "    .dataframe tbody tr th:only-of-type {\n",
       "        vertical-align: middle;\n",
       "    }\n",
       "\n",
       "    .dataframe tbody tr th {\n",
       "        vertical-align: top;\n",
       "    }\n",
       "\n",
       "    .dataframe thead th {\n",
       "        text-align: right;\n",
       "    }\n",
       "</style>\n",
       "<table border=\"1\" class=\"dataframe\">\n",
       "  <thead>\n",
       "    <tr style=\"text-align: right;\">\n",
       "      <th></th>\n",
       "      <th>Permit Number</th>\n",
       "      <th>Permit Type</th>\n",
       "      <th>Permit Type Definition</th>\n",
       "      <th>Permit Creation Date</th>\n",
       "      <th>Block</th>\n",
       "      <th>Lot</th>\n",
       "      <th>Street Number</th>\n",
       "      <th>Street Number Suffix</th>\n",
       "      <th>Street Name</th>\n",
       "      <th>Street Suffix</th>\n",
       "      <th>...</th>\n",
       "      <th>Existing Construction Type</th>\n",
       "      <th>Existing Construction Type Description</th>\n",
       "      <th>Proposed Construction Type</th>\n",
       "      <th>Proposed Construction Type Description</th>\n",
       "      <th>Site Permit</th>\n",
       "      <th>Supervisor District</th>\n",
       "      <th>Neighborhoods - Analysis Boundaries</th>\n",
       "      <th>Zipcode</th>\n",
       "      <th>Location</th>\n",
       "      <th>Record ID</th>\n",
       "    </tr>\n",
       "  </thead>\n",
       "  <tbody>\n",
       "    <tr>\n",
       "      <th>0</th>\n",
       "      <td>201505065519</td>\n",
       "      <td>4</td>\n",
       "      <td>sign - erect</td>\n",
       "      <td>05/06/2015</td>\n",
       "      <td>0326</td>\n",
       "      <td>023</td>\n",
       "      <td>140</td>\n",
       "      <td>NaN</td>\n",
       "      <td>Ellis</td>\n",
       "      <td>St</td>\n",
       "      <td>...</td>\n",
       "      <td>3.0</td>\n",
       "      <td>constr type 3</td>\n",
       "      <td>NaN</td>\n",
       "      <td>NaN</td>\n",
       "      <td>NaN</td>\n",
       "      <td>3.0</td>\n",
       "      <td>Tenderloin</td>\n",
       "      <td>94102.0</td>\n",
       "      <td>(37.785719256680785, -122.40852313194863)</td>\n",
       "      <td>1380611233945</td>\n",
       "    </tr>\n",
       "    <tr>\n",
       "      <th>1</th>\n",
       "      <td>201604195146</td>\n",
       "      <td>4</td>\n",
       "      <td>sign - erect</td>\n",
       "      <td>04/19/2016</td>\n",
       "      <td>0306</td>\n",
       "      <td>007</td>\n",
       "      <td>440</td>\n",
       "      <td>NaN</td>\n",
       "      <td>Geary</td>\n",
       "      <td>St</td>\n",
       "      <td>...</td>\n",
       "      <td>3.0</td>\n",
       "      <td>constr type 3</td>\n",
       "      <td>NaN</td>\n",
       "      <td>NaN</td>\n",
       "      <td>NaN</td>\n",
       "      <td>3.0</td>\n",
       "      <td>Tenderloin</td>\n",
       "      <td>94102.0</td>\n",
       "      <td>(37.78733980600732, -122.41063199757738)</td>\n",
       "      <td>1420164406718</td>\n",
       "    </tr>\n",
       "    <tr>\n",
       "      <th>2</th>\n",
       "      <td>201605278609</td>\n",
       "      <td>3</td>\n",
       "      <td>additions alterations or repairs</td>\n",
       "      <td>05/27/2016</td>\n",
       "      <td>0595</td>\n",
       "      <td>203</td>\n",
       "      <td>1647</td>\n",
       "      <td>NaN</td>\n",
       "      <td>Pacific</td>\n",
       "      <td>Av</td>\n",
       "      <td>...</td>\n",
       "      <td>1.0</td>\n",
       "      <td>constr type 1</td>\n",
       "      <td>1.0</td>\n",
       "      <td>constr type 1</td>\n",
       "      <td>NaN</td>\n",
       "      <td>3.0</td>\n",
       "      <td>Russian Hill</td>\n",
       "      <td>94109.0</td>\n",
       "      <td>(37.7946573324287, -122.42232562979227)</td>\n",
       "      <td>1424856504716</td>\n",
       "    </tr>\n",
       "    <tr>\n",
       "      <th>3</th>\n",
       "      <td>201611072166</td>\n",
       "      <td>8</td>\n",
       "      <td>otc alterations permit</td>\n",
       "      <td>11/07/2016</td>\n",
       "      <td>0156</td>\n",
       "      <td>011</td>\n",
       "      <td>1230</td>\n",
       "      <td>NaN</td>\n",
       "      <td>Pacific</td>\n",
       "      <td>Av</td>\n",
       "      <td>...</td>\n",
       "      <td>5.0</td>\n",
       "      <td>wood frame (5)</td>\n",
       "      <td>5.0</td>\n",
       "      <td>wood frame (5)</td>\n",
       "      <td>NaN</td>\n",
       "      <td>3.0</td>\n",
       "      <td>Nob Hill</td>\n",
       "      <td>94109.0</td>\n",
       "      <td>(37.79595867909168, -122.41557405519474)</td>\n",
       "      <td>1443574295566</td>\n",
       "    </tr>\n",
       "    <tr>\n",
       "      <th>4</th>\n",
       "      <td>201611283529</td>\n",
       "      <td>6</td>\n",
       "      <td>demolitions</td>\n",
       "      <td>11/28/2016</td>\n",
       "      <td>0342</td>\n",
       "      <td>001</td>\n",
       "      <td>950</td>\n",
       "      <td>NaN</td>\n",
       "      <td>Market</td>\n",
       "      <td>St</td>\n",
       "      <td>...</td>\n",
       "      <td>3.0</td>\n",
       "      <td>constr type 3</td>\n",
       "      <td>NaN</td>\n",
       "      <td>NaN</td>\n",
       "      <td>NaN</td>\n",
       "      <td>6.0</td>\n",
       "      <td>Tenderloin</td>\n",
       "      <td>94102.0</td>\n",
       "      <td>(37.78315261897309, -122.40950883997789)</td>\n",
       "      <td>144548169992</td>\n",
       "    </tr>\n",
       "  </tbody>\n",
       "</table>\n",
       "<p>5 rows × 43 columns</p>\n",
       "</div>"
      ],
      "text/plain": [
       "  Permit Number  Permit Type            Permit Type Definition  \\\n",
       "0  201505065519            4                      sign - erect   \n",
       "1  201604195146            4                      sign - erect   \n",
       "2  201605278609            3  additions alterations or repairs   \n",
       "3  201611072166            8            otc alterations permit   \n",
       "4  201611283529            6                       demolitions   \n",
       "\n",
       "  Permit Creation Date Block  Lot  Street Number Street Number Suffix  \\\n",
       "0           05/06/2015  0326  023            140                  NaN   \n",
       "1           04/19/2016  0306  007            440                  NaN   \n",
       "2           05/27/2016  0595  203           1647                  NaN   \n",
       "3           11/07/2016  0156  011           1230                  NaN   \n",
       "4           11/28/2016  0342  001            950                  NaN   \n",
       "\n",
       "  Street Name Street Suffix  ...  Existing Construction Type  \\\n",
       "0       Ellis            St  ...                         3.0   \n",
       "1       Geary            St  ...                         3.0   \n",
       "2     Pacific            Av  ...                         1.0   \n",
       "3     Pacific            Av  ...                         5.0   \n",
       "4      Market            St  ...                         3.0   \n",
       "\n",
       "  Existing Construction Type Description Proposed Construction Type  \\\n",
       "0                          constr type 3                        NaN   \n",
       "1                          constr type 3                        NaN   \n",
       "2                          constr type 1                        1.0   \n",
       "3                         wood frame (5)                        5.0   \n",
       "4                          constr type 3                        NaN   \n",
       "\n",
       "  Proposed Construction Type Description Site Permit Supervisor District  \\\n",
       "0                                    NaN         NaN                 3.0   \n",
       "1                                    NaN         NaN                 3.0   \n",
       "2                          constr type 1         NaN                 3.0   \n",
       "3                         wood frame (5)         NaN                 3.0   \n",
       "4                                    NaN         NaN                 6.0   \n",
       "\n",
       "  Neighborhoods - Analysis Boundaries  Zipcode  \\\n",
       "0                          Tenderloin  94102.0   \n",
       "1                          Tenderloin  94102.0   \n",
       "2                        Russian Hill  94109.0   \n",
       "3                            Nob Hill  94109.0   \n",
       "4                          Tenderloin  94102.0   \n",
       "\n",
       "                                    Location      Record ID  \n",
       "0  (37.785719256680785, -122.40852313194863)  1380611233945  \n",
       "1   (37.78733980600732, -122.41063199757738)  1420164406718  \n",
       "2    (37.7946573324287, -122.42232562979227)  1424856504716  \n",
       "3   (37.79595867909168, -122.41557405519474)  1443574295566  \n",
       "4   (37.78315261897309, -122.40950883997789)   144548169992  \n",
       "\n",
       "[5 rows x 43 columns]"
      ]
     },
     "execution_count": 3,
     "metadata": {},
     "output_type": "execute_result"
    }
   ],
   "source": [
    "# TODO: Your code here!\n",
    "sf_permits.head()"
   ]
  },
  {
   "cell_type": "markdown",
   "id": "b20e2c7f",
   "metadata": {
    "papermill": {
     "duration": 0.009612,
     "end_time": "2023-09-05T01:31:25.746070",
     "exception": false,
     "start_time": "2023-09-05T01:31:25.736458",
     "status": "completed"
    },
    "tags": []
   },
   "source": [
    "Yes, it does contain missing values on 'street number...', 'proposed contruction type', 'proposed construction description', etc."
   ]
  },
  {
   "cell_type": "markdown",
   "id": "ffb02b40",
   "metadata": {
    "papermill": {
     "duration": 0.010084,
     "end_time": "2023-09-05T01:31:25.766409",
     "exception": false,
     "start_time": "2023-09-05T01:31:25.756325",
     "status": "completed"
    },
    "tags": []
   },
   "source": [
    "Does the dataset have any missing values?  Once you have an answer, run the code cell below to get credit for your work."
   ]
  },
  {
   "cell_type": "code",
   "execution_count": 4,
   "id": "112dcede",
   "metadata": {
    "execution": {
     "iopub.execute_input": "2023-09-05T01:31:25.787899Z",
     "iopub.status.busy": "2023-09-05T01:31:25.787238Z",
     "iopub.status.idle": "2023-09-05T01:31:25.793983Z",
     "shell.execute_reply": "2023-09-05T01:31:25.793081Z"
    },
    "papermill": {
     "duration": 0.019626,
     "end_time": "2023-09-05T01:31:25.795884",
     "exception": false,
     "start_time": "2023-09-05T01:31:25.776258",
     "status": "completed"
    },
    "tags": []
   },
   "outputs": [
    {
     "data": {
      "application/javascript": [
       "parent.postMessage({\"jupyterEvent\": \"custom.exercise_interaction\", \"data\": {\"outcomeType\": 1, \"valueTowardsCompletion\": 0.16666666666666666, \"interactionType\": 1, \"questionType\": 4, \"questionId\": \"1_TakeFirstLook\", \"learnToolsVersion\": \"0.3.4\", \"failureMessage\": \"\", \"exceptionClass\": \"\", \"trace\": \"\"}}, \"*\")"
      ],
      "text/plain": [
       "<IPython.core.display.Javascript object>"
      ]
     },
     "metadata": {},
     "output_type": "display_data"
    },
    {
     "data": {
      "text/markdown": [
       "<span style=\"color:#33cc33\">Correct:</span> \n",
       "\n",
       "The first five rows of the data does show that several columns have missing values.  You can see this in the \"Street Number Suffix\", \"Proposed Construction Type\" and \"Site Permit\" columns, among others."
      ],
      "text/plain": [
       "Correct: \n",
       "\n",
       "The first five rows of the data does show that several columns have missing values.  You can see this in the \"Street Number Suffix\", \"Proposed Construction Type\" and \"Site Permit\" columns, among others."
      ]
     },
     "metadata": {},
     "output_type": "display_data"
    }
   ],
   "source": [
    "# Check your answer (Run this code cell to receive credit!)\n",
    "q1.check()"
   ]
  },
  {
   "cell_type": "code",
   "execution_count": 5,
   "id": "5cc9fd2a",
   "metadata": {
    "execution": {
     "iopub.execute_input": "2023-09-05T01:31:25.822928Z",
     "iopub.status.busy": "2023-09-05T01:31:25.821897Z",
     "iopub.status.idle": "2023-09-05T01:31:25.826939Z",
     "shell.execute_reply": "2023-09-05T01:31:25.825858Z"
    },
    "papermill": {
     "duration": 0.022909,
     "end_time": "2023-09-05T01:31:25.829075",
     "exception": false,
     "start_time": "2023-09-05T01:31:25.806166",
     "status": "completed"
    },
    "tags": []
   },
   "outputs": [],
   "source": [
    "# Line below will give you a hint\n",
    "#q1.hint()"
   ]
  },
  {
   "cell_type": "markdown",
   "id": "833e3ff2",
   "metadata": {
    "papermill": {
     "duration": 0.013446,
     "end_time": "2023-09-05T01:31:25.854812",
     "exception": false,
     "start_time": "2023-09-05T01:31:25.841366",
     "status": "completed"
    },
    "tags": []
   },
   "source": [
    "# 2) How many missing data points do we have?\n",
    "\n",
    "What percentage of the values in the dataset are missing?  Your answer should be a number between 0 and 100.  (If 1/4 of the values in the dataset are missing, the answer is 25.)"
   ]
  },
  {
   "cell_type": "code",
   "execution_count": 6,
   "id": "90e032d8",
   "metadata": {
    "execution": {
     "iopub.execute_input": "2023-09-05T01:31:25.886071Z",
     "iopub.status.busy": "2023-09-05T01:31:25.885195Z",
     "iopub.status.idle": "2023-09-05T01:31:26.164397Z",
     "shell.execute_reply": "2023-09-05T01:31:26.163410Z"
    },
    "papermill": {
     "duration": 0.297978,
     "end_time": "2023-09-05T01:31:26.166708",
     "exception": false,
     "start_time": "2023-09-05T01:31:25.868730",
     "status": "completed"
    },
    "tags": []
   },
   "outputs": [
    {
     "data": {
      "text/plain": [
       "Permit Number                                  0\n",
       "Permit Type                                    0\n",
       "Permit Type Definition                         0\n",
       "Permit Creation Date                           0\n",
       "Block                                          0\n",
       "Lot                                            0\n",
       "Street Number                                  0\n",
       "Street Number Suffix                      196684\n",
       "Street Name                                    0\n",
       "Street Suffix                               2768\n",
       "Unit                                      169421\n",
       "Unit Suffix                               196939\n",
       "Description                                  290\n",
       "Current Status                                 0\n",
       "Current Status Date                            0\n",
       "Filed Date                                     0\n",
       "Issued Date                                14940\n",
       "Completed Date                            101709\n",
       "First Construction Document Date           14946\n",
       "Structural Notification                   191978\n",
       "Number of Existing Stories                 42784\n",
       "Number of Proposed Stories                 42868\n",
       "Voluntary Soft-Story Retrofit             198865\n",
       "Fire Only Permit                          180073\n",
       "Permit Expiration Date                     51880\n",
       "Estimated Cost                             38066\n",
       "Revised Cost                                6066\n",
       "Existing Use                               41114\n",
       "Existing Units                             51538\n",
       "Proposed Use                               42439\n",
       "Proposed Units                             50911\n",
       "Plansets                                   37309\n",
       "TIDF Compliance                           198898\n",
       "Existing Construction Type                 43366\n",
       "Existing Construction Type Description     43366\n",
       "Proposed Construction Type                 43162\n",
       "Proposed Construction Type Description     43162\n",
       "Site Permit                               193541\n",
       "Supervisor District                         1717\n",
       "Neighborhoods - Analysis Boundaries         1725\n",
       "Zipcode                                     1716\n",
       "Location                                    1700\n",
       "Record ID                                      0\n",
       "dtype: int64"
      ]
     },
     "execution_count": 6,
     "metadata": {},
     "output_type": "execute_result"
    }
   ],
   "source": [
    "missing_values_count = sf_permits.isnull().sum()\n",
    "missing_values_count"
   ]
  },
  {
   "cell_type": "code",
   "execution_count": 7,
   "id": "0767f5d5",
   "metadata": {
    "execution": {
     "iopub.execute_input": "2023-09-05T01:31:26.189191Z",
     "iopub.status.busy": "2023-09-05T01:31:26.188860Z",
     "iopub.status.idle": "2023-09-05T01:31:26.195500Z",
     "shell.execute_reply": "2023-09-05T01:31:26.194425Z"
    },
    "papermill": {
     "duration": 0.02042,
     "end_time": "2023-09-05T01:31:26.197739",
     "exception": false,
     "start_time": "2023-09-05T01:31:26.177319",
     "status": "completed"
    },
    "tags": []
   },
   "outputs": [
    {
     "data": {
      "text/plain": [
       "8552700"
      ]
     },
     "execution_count": 7,
     "metadata": {},
     "output_type": "execute_result"
    }
   ],
   "source": [
    "total_cells = np.product(sf_permits.shape)\n",
    "total_cells"
   ]
  },
  {
   "cell_type": "code",
   "execution_count": 8,
   "id": "ee095b26",
   "metadata": {
    "execution": {
     "iopub.execute_input": "2023-09-05T01:31:26.220637Z",
     "iopub.status.busy": "2023-09-05T01:31:26.219911Z",
     "iopub.status.idle": "2023-09-05T01:31:26.226493Z",
     "shell.execute_reply": "2023-09-05T01:31:26.225575Z"
    },
    "papermill": {
     "duration": 0.020068,
     "end_time": "2023-09-05T01:31:26.228472",
     "exception": false,
     "start_time": "2023-09-05T01:31:26.208404",
     "status": "completed"
    },
    "tags": []
   },
   "outputs": [
    {
     "data": {
      "text/plain": [
       "2245941"
      ]
     },
     "execution_count": 8,
     "metadata": {},
     "output_type": "execute_result"
    }
   ],
   "source": [
    "total_missing = missing_values_count.sum()\n",
    "total_missing"
   ]
  },
  {
   "cell_type": "code",
   "execution_count": 9,
   "id": "235cab4e",
   "metadata": {
    "execution": {
     "iopub.execute_input": "2023-09-05T01:31:26.251430Z",
     "iopub.status.busy": "2023-09-05T01:31:26.250467Z",
     "iopub.status.idle": "2023-09-05T01:31:26.256854Z",
     "shell.execute_reply": "2023-09-05T01:31:26.255957Z"
    },
    "papermill": {
     "duration": 0.019602,
     "end_time": "2023-09-05T01:31:26.258760",
     "exception": false,
     "start_time": "2023-09-05T01:31:26.239158",
     "status": "completed"
    },
    "tags": []
   },
   "outputs": [
    {
     "data": {
      "text/plain": [
       "26.26002315058403"
      ]
     },
     "execution_count": 9,
     "metadata": {},
     "output_type": "execute_result"
    }
   ],
   "source": [
    "# TODO: Your code here!\n",
    "percent_missing = (total_missing/total_cells) * 100\n",
    "percent_missing"
   ]
  },
  {
   "cell_type": "markdown",
   "id": "5cfbdacf",
   "metadata": {
    "papermill": {
     "duration": 0.010402,
     "end_time": "2023-09-05T01:31:26.279811",
     "exception": false,
     "start_time": "2023-09-05T01:31:26.269409",
     "status": "completed"
    },
    "tags": []
   },
   "source": [
    "More than 1/4 is missing!"
   ]
  },
  {
   "cell_type": "code",
   "execution_count": 10,
   "id": "e244bdec",
   "metadata": {
    "execution": {
     "iopub.execute_input": "2023-09-05T01:31:26.303668Z",
     "iopub.status.busy": "2023-09-05T01:31:26.302989Z",
     "iopub.status.idle": "2023-09-05T01:31:26.310551Z",
     "shell.execute_reply": "2023-09-05T01:31:26.309646Z"
    },
    "papermill": {
     "duration": 0.022004,
     "end_time": "2023-09-05T01:31:26.312768",
     "exception": false,
     "start_time": "2023-09-05T01:31:26.290764",
     "status": "completed"
    },
    "tags": []
   },
   "outputs": [
    {
     "data": {
      "application/javascript": [
       "parent.postMessage({\"jupyterEvent\": \"custom.exercise_interaction\", \"data\": {\"outcomeType\": 1, \"valueTowardsCompletion\": 0.16666666666666666, \"interactionType\": 1, \"questionType\": 1, \"questionId\": \"2_PercentMissingValues\", \"learnToolsVersion\": \"0.3.4\", \"failureMessage\": \"\", \"exceptionClass\": \"\", \"trace\": \"\"}}, \"*\")"
      ],
      "text/plain": [
       "<IPython.core.display.Javascript object>"
      ]
     },
     "metadata": {},
     "output_type": "display_data"
    },
    {
     "data": {
      "text/markdown": [
       "<span style=\"color:#33cc33\">Correct</span>"
      ],
      "text/plain": [
       "Correct"
      ]
     },
     "metadata": {},
     "output_type": "display_data"
    }
   ],
   "source": [
    "# Check your answer\n",
    "q2.check()"
   ]
  },
  {
   "cell_type": "code",
   "execution_count": 11,
   "id": "d72ec542",
   "metadata": {
    "execution": {
     "iopub.execute_input": "2023-09-05T01:31:26.336404Z",
     "iopub.status.busy": "2023-09-05T01:31:26.335738Z",
     "iopub.status.idle": "2023-09-05T01:31:26.339726Z",
     "shell.execute_reply": "2023-09-05T01:31:26.338807Z"
    },
    "papermill": {
     "duration": 0.017987,
     "end_time": "2023-09-05T01:31:26.341719",
     "exception": false,
     "start_time": "2023-09-05T01:31:26.323732",
     "status": "completed"
    },
    "tags": []
   },
   "outputs": [],
   "source": [
    "# Lines below will give you a hint or solution code\n",
    "# q2.hint()\n",
    "#q2.solution()"
   ]
  },
  {
   "cell_type": "markdown",
   "id": "5ed32ddb",
   "metadata": {
    "papermill": {
     "duration": 0.01067,
     "end_time": "2023-09-05T01:31:26.363578",
     "exception": false,
     "start_time": "2023-09-05T01:31:26.352908",
     "status": "completed"
    },
    "tags": []
   },
   "source": [
    "# 3) Figure out why the data is missing\n",
    "\n",
    "Look at the columns **\"Street Number Suffix\"** and **\"Zipcode\"** from the [San Francisco Building Permits dataset](https://www.kaggle.com/aparnashastry/building-permit-applications-data). Both of these contain missing values. \n",
    "- Which, if either, are missing because they don't exist? \n",
    "- Which, if either, are missing because they weren't recorded?  \n",
    "\n",
    "Once you have an answer, run the code cell below."
   ]
  },
  {
   "cell_type": "code",
   "execution_count": 12,
   "id": "2bdec6cd",
   "metadata": {
    "execution": {
     "iopub.execute_input": "2023-09-05T01:31:26.441035Z",
     "iopub.status.busy": "2023-09-05T01:31:26.440702Z",
     "iopub.status.idle": "2023-09-05T01:31:26.447734Z",
     "shell.execute_reply": "2023-09-05T01:31:26.446907Z"
    },
    "papermill": {
     "duration": 0.021246,
     "end_time": "2023-09-05T01:31:26.449570",
     "exception": false,
     "start_time": "2023-09-05T01:31:26.428324",
     "status": "completed"
    },
    "tags": []
   },
   "outputs": [
    {
     "data": {
      "application/javascript": [
       "parent.postMessage({\"jupyterEvent\": \"custom.exercise_interaction\", \"data\": {\"outcomeType\": 1, \"valueTowardsCompletion\": 0.16666666666666666, \"interactionType\": 1, \"questionType\": 4, \"questionId\": \"3_WhyDataMissing\", \"learnToolsVersion\": \"0.3.4\", \"failureMessage\": \"\", \"exceptionClass\": \"\", \"trace\": \"\"}}, \"*\")"
      ],
      "text/plain": [
       "<IPython.core.display.Javascript object>"
      ]
     },
     "metadata": {},
     "output_type": "display_data"
    },
    {
     "data": {
      "text/markdown": [
       "<span style=\"color:#33cc33\">Correct:</span> \n",
       "\n",
       "If a value in the \"Street Number Suffix\" column is missing, it is likely because it does not exist. If a value in the \"Zipcode\" column is missing, it was not recorded."
      ],
      "text/plain": [
       "Correct: \n",
       "\n",
       "If a value in the \"Street Number Suffix\" column is missing, it is likely because it does not exist. If a value in the \"Zipcode\" column is missing, it was not recorded."
      ]
     },
     "metadata": {},
     "output_type": "display_data"
    }
   ],
   "source": [
    "# Check your answer (Run this code cell to receive credit!)\n",
    "q3.check()"
   ]
  },
  {
   "cell_type": "code",
   "execution_count": 13,
   "id": "93b08029",
   "metadata": {
    "execution": {
     "iopub.execute_input": "2023-09-05T01:31:26.473693Z",
     "iopub.status.busy": "2023-09-05T01:31:26.472883Z",
     "iopub.status.idle": "2023-09-05T01:31:26.476390Z",
     "shell.execute_reply": "2023-09-05T01:31:26.475748Z"
    },
    "papermill": {
     "duration": 0.017291,
     "end_time": "2023-09-05T01:31:26.478127",
     "exception": false,
     "start_time": "2023-09-05T01:31:26.460836",
     "status": "completed"
    },
    "tags": []
   },
   "outputs": [],
   "source": [
    "# Line below will give you a hint\n",
    "# q3.hint()"
   ]
  },
  {
   "cell_type": "markdown",
   "id": "91dc73b9",
   "metadata": {
    "papermill": {
     "duration": 0.010847,
     "end_time": "2023-09-05T01:31:26.499953",
     "exception": false,
     "start_time": "2023-09-05T01:31:26.489106",
     "status": "completed"
    },
    "tags": []
   },
   "source": [
    "# 4) Drop missing values: rows\n",
    "\n",
    "If you removed all of the rows of `sf_permits` with missing values, how many rows are left?\n",
    "\n",
    "**Note**: Do not change the value of `sf_permits` when checking this.  "
   ]
  },
  {
   "cell_type": "code",
   "execution_count": 14,
   "id": "bafb82c0",
   "metadata": {
    "execution": {
     "iopub.execute_input": "2023-09-05T01:31:26.523932Z",
     "iopub.status.busy": "2023-09-05T01:31:26.523285Z",
     "iopub.status.idle": "2023-09-05T01:31:26.758088Z",
     "shell.execute_reply": "2023-09-05T01:31:26.757036Z"
    },
    "papermill": {
     "duration": 0.24947,
     "end_time": "2023-09-05T01:31:26.760423",
     "exception": false,
     "start_time": "2023-09-05T01:31:26.510953",
     "status": "completed"
    },
    "tags": []
   },
   "outputs": [
    {
     "data": {
      "text/html": [
       "<div>\n",
       "<style scoped>\n",
       "    .dataframe tbody tr th:only-of-type {\n",
       "        vertical-align: middle;\n",
       "    }\n",
       "\n",
       "    .dataframe tbody tr th {\n",
       "        vertical-align: top;\n",
       "    }\n",
       "\n",
       "    .dataframe thead th {\n",
       "        text-align: right;\n",
       "    }\n",
       "</style>\n",
       "<table border=\"1\" class=\"dataframe\">\n",
       "  <thead>\n",
       "    <tr style=\"text-align: right;\">\n",
       "      <th></th>\n",
       "      <th>Permit Number</th>\n",
       "      <th>Permit Type</th>\n",
       "      <th>Permit Type Definition</th>\n",
       "      <th>Permit Creation Date</th>\n",
       "      <th>Block</th>\n",
       "      <th>Lot</th>\n",
       "      <th>Street Number</th>\n",
       "      <th>Street Number Suffix</th>\n",
       "      <th>Street Name</th>\n",
       "      <th>Street Suffix</th>\n",
       "      <th>...</th>\n",
       "      <th>Existing Construction Type</th>\n",
       "      <th>Existing Construction Type Description</th>\n",
       "      <th>Proposed Construction Type</th>\n",
       "      <th>Proposed Construction Type Description</th>\n",
       "      <th>Site Permit</th>\n",
       "      <th>Supervisor District</th>\n",
       "      <th>Neighborhoods - Analysis Boundaries</th>\n",
       "      <th>Zipcode</th>\n",
       "      <th>Location</th>\n",
       "      <th>Record ID</th>\n",
       "    </tr>\n",
       "  </thead>\n",
       "  <tbody>\n",
       "  </tbody>\n",
       "</table>\n",
       "<p>0 rows × 43 columns</p>\n",
       "</div>"
      ],
      "text/plain": [
       "Empty DataFrame\n",
       "Columns: [Permit Number, Permit Type, Permit Type Definition, Permit Creation Date, Block, Lot, Street Number, Street Number Suffix, Street Name, Street Suffix, Unit, Unit Suffix, Description, Current Status, Current Status Date, Filed Date, Issued Date, Completed Date, First Construction Document Date, Structural Notification, Number of Existing Stories, Number of Proposed Stories, Voluntary Soft-Story Retrofit, Fire Only Permit, Permit Expiration Date, Estimated Cost, Revised Cost, Existing Use, Existing Units, Proposed Use, Proposed Units, Plansets, TIDF Compliance, Existing Construction Type, Existing Construction Type Description, Proposed Construction Type, Proposed Construction Type Description, Site Permit, Supervisor District, Neighborhoods - Analysis Boundaries, Zipcode, Location, Record ID]\n",
       "Index: []\n",
       "\n",
       "[0 rows x 43 columns]"
      ]
     },
     "execution_count": 14,
     "metadata": {},
     "output_type": "execute_result"
    }
   ],
   "source": [
    "# TODO: Your code here!\n",
    "sf_permits.dropna()"
   ]
  },
  {
   "cell_type": "markdown",
   "id": "abb1caba",
   "metadata": {
    "papermill": {
     "duration": 0.011443,
     "end_time": "2023-09-05T01:31:26.784021",
     "exception": false,
     "start_time": "2023-09-05T01:31:26.772578",
     "status": "completed"
    },
    "tags": []
   },
   "source": [
    "Once you have an answer, run the code cell below."
   ]
  },
  {
   "cell_type": "code",
   "execution_count": 15,
   "id": "864d8f24",
   "metadata": {
    "execution": {
     "iopub.execute_input": "2023-09-05T01:31:26.808221Z",
     "iopub.status.busy": "2023-09-05T01:31:26.807867Z",
     "iopub.status.idle": "2023-09-05T01:31:26.815724Z",
     "shell.execute_reply": "2023-09-05T01:31:26.814742Z"
    },
    "papermill": {
     "duration": 0.022116,
     "end_time": "2023-09-05T01:31:26.817590",
     "exception": false,
     "start_time": "2023-09-05T01:31:26.795474",
     "status": "completed"
    },
    "tags": []
   },
   "outputs": [
    {
     "data": {
      "application/javascript": [
       "parent.postMessage({\"jupyterEvent\": \"custom.exercise_interaction\", \"data\": {\"outcomeType\": 1, \"valueTowardsCompletion\": 0.16666666666666666, \"interactionType\": 1, \"questionType\": 4, \"questionId\": \"4_DropMissingRows\", \"learnToolsVersion\": \"0.3.4\", \"failureMessage\": \"\", \"exceptionClass\": \"\", \"trace\": \"\"}}, \"*\")"
      ],
      "text/plain": [
       "<IPython.core.display.Javascript object>"
      ]
     },
     "metadata": {},
     "output_type": "display_data"
    },
    {
     "data": {
      "text/markdown": [
       "<span style=\"color:#33cc33\">Correct:</span> \n",
       "\n",
       "There are no rows remaining in the dataset!"
      ],
      "text/plain": [
       "Correct: \n",
       "\n",
       "There are no rows remaining in the dataset!"
      ]
     },
     "metadata": {},
     "output_type": "display_data"
    }
   ],
   "source": [
    "# Check your answer (Run this code cell to receive credit!)\n",
    "q4.check()"
   ]
  },
  {
   "cell_type": "code",
   "execution_count": 16,
   "id": "5f356534",
   "metadata": {
    "execution": {
     "iopub.execute_input": "2023-09-05T01:31:26.842982Z",
     "iopub.status.busy": "2023-09-05T01:31:26.842356Z",
     "iopub.status.idle": "2023-09-05T01:31:26.846083Z",
     "shell.execute_reply": "2023-09-05T01:31:26.845098Z"
    },
    "papermill": {
     "duration": 0.018479,
     "end_time": "2023-09-05T01:31:26.847844",
     "exception": false,
     "start_time": "2023-09-05T01:31:26.829365",
     "status": "completed"
    },
    "tags": []
   },
   "outputs": [],
   "source": [
    "# Line below will give you a hint\n",
    "#q4.hint()"
   ]
  },
  {
   "cell_type": "markdown",
   "id": "2b1dfd68",
   "metadata": {
    "papermill": {
     "duration": 0.011383,
     "end_time": "2023-09-05T01:31:26.870878",
     "exception": false,
     "start_time": "2023-09-05T01:31:26.859495",
     "status": "completed"
    },
    "tags": []
   },
   "source": [
    "# 5) Drop missing values: columns\n",
    "\n",
    "Now try removing all the columns with empty values.  \n",
    "- Create a new DataFrame called `sf_permits_with_na_dropped` that has all of the columns with empty values removed.  \n",
    "- How many columns were removed from the original `sf_permits` DataFrame? Use this number to set the value of the `dropped_columns` variable below."
   ]
  },
  {
   "cell_type": "code",
   "execution_count": 17,
   "id": "30a4e83d",
   "metadata": {
    "execution": {
     "iopub.execute_input": "2023-09-05T01:31:26.896544Z",
     "iopub.status.busy": "2023-09-05T01:31:26.896072Z",
     "iopub.status.idle": "2023-09-05T01:31:27.145221Z",
     "shell.execute_reply": "2023-09-05T01:31:27.144299Z"
    },
    "papermill": {
     "duration": 0.264967,
     "end_time": "2023-09-05T01:31:27.147376",
     "exception": false,
     "start_time": "2023-09-05T01:31:26.882409",
     "status": "completed"
    },
    "tags": []
   },
   "outputs": [
    {
     "data": {
      "text/html": [
       "<div>\n",
       "<style scoped>\n",
       "    .dataframe tbody tr th:only-of-type {\n",
       "        vertical-align: middle;\n",
       "    }\n",
       "\n",
       "    .dataframe tbody tr th {\n",
       "        vertical-align: top;\n",
       "    }\n",
       "\n",
       "    .dataframe thead th {\n",
       "        text-align: right;\n",
       "    }\n",
       "</style>\n",
       "<table border=\"1\" class=\"dataframe\">\n",
       "  <thead>\n",
       "    <tr style=\"text-align: right;\">\n",
       "      <th></th>\n",
       "      <th>Permit Number</th>\n",
       "      <th>Permit Type</th>\n",
       "      <th>Permit Type Definition</th>\n",
       "      <th>Permit Creation Date</th>\n",
       "      <th>Block</th>\n",
       "      <th>Lot</th>\n",
       "      <th>Street Number</th>\n",
       "      <th>Street Name</th>\n",
       "      <th>Current Status</th>\n",
       "      <th>Current Status Date</th>\n",
       "      <th>Filed Date</th>\n",
       "      <th>Record ID</th>\n",
       "    </tr>\n",
       "  </thead>\n",
       "  <tbody>\n",
       "    <tr>\n",
       "      <th>0</th>\n",
       "      <td>201505065519</td>\n",
       "      <td>4</td>\n",
       "      <td>sign - erect</td>\n",
       "      <td>05/06/2015</td>\n",
       "      <td>0326</td>\n",
       "      <td>023</td>\n",
       "      <td>140</td>\n",
       "      <td>Ellis</td>\n",
       "      <td>expired</td>\n",
       "      <td>12/21/2017</td>\n",
       "      <td>05/06/2015</td>\n",
       "      <td>1380611233945</td>\n",
       "    </tr>\n",
       "    <tr>\n",
       "      <th>1</th>\n",
       "      <td>201604195146</td>\n",
       "      <td>4</td>\n",
       "      <td>sign - erect</td>\n",
       "      <td>04/19/2016</td>\n",
       "      <td>0306</td>\n",
       "      <td>007</td>\n",
       "      <td>440</td>\n",
       "      <td>Geary</td>\n",
       "      <td>issued</td>\n",
       "      <td>08/03/2017</td>\n",
       "      <td>04/19/2016</td>\n",
       "      <td>1420164406718</td>\n",
       "    </tr>\n",
       "    <tr>\n",
       "      <th>2</th>\n",
       "      <td>201605278609</td>\n",
       "      <td>3</td>\n",
       "      <td>additions alterations or repairs</td>\n",
       "      <td>05/27/2016</td>\n",
       "      <td>0595</td>\n",
       "      <td>203</td>\n",
       "      <td>1647</td>\n",
       "      <td>Pacific</td>\n",
       "      <td>withdrawn</td>\n",
       "      <td>09/26/2017</td>\n",
       "      <td>05/27/2016</td>\n",
       "      <td>1424856504716</td>\n",
       "    </tr>\n",
       "    <tr>\n",
       "      <th>3</th>\n",
       "      <td>201611072166</td>\n",
       "      <td>8</td>\n",
       "      <td>otc alterations permit</td>\n",
       "      <td>11/07/2016</td>\n",
       "      <td>0156</td>\n",
       "      <td>011</td>\n",
       "      <td>1230</td>\n",
       "      <td>Pacific</td>\n",
       "      <td>complete</td>\n",
       "      <td>07/24/2017</td>\n",
       "      <td>11/07/2016</td>\n",
       "      <td>1443574295566</td>\n",
       "    </tr>\n",
       "    <tr>\n",
       "      <th>4</th>\n",
       "      <td>201611283529</td>\n",
       "      <td>6</td>\n",
       "      <td>demolitions</td>\n",
       "      <td>11/28/2016</td>\n",
       "      <td>0342</td>\n",
       "      <td>001</td>\n",
       "      <td>950</td>\n",
       "      <td>Market</td>\n",
       "      <td>issued</td>\n",
       "      <td>12/01/2017</td>\n",
       "      <td>11/28/2016</td>\n",
       "      <td>144548169992</td>\n",
       "    </tr>\n",
       "  </tbody>\n",
       "</table>\n",
       "</div>"
      ],
      "text/plain": [
       "  Permit Number  Permit Type            Permit Type Definition  \\\n",
       "0  201505065519            4                      sign - erect   \n",
       "1  201604195146            4                      sign - erect   \n",
       "2  201605278609            3  additions alterations or repairs   \n",
       "3  201611072166            8            otc alterations permit   \n",
       "4  201611283529            6                       demolitions   \n",
       "\n",
       "  Permit Creation Date Block  Lot  Street Number Street Name Current Status  \\\n",
       "0           05/06/2015  0326  023            140       Ellis        expired   \n",
       "1           04/19/2016  0306  007            440       Geary         issued   \n",
       "2           05/27/2016  0595  203           1647     Pacific      withdrawn   \n",
       "3           11/07/2016  0156  011           1230     Pacific       complete   \n",
       "4           11/28/2016  0342  001            950      Market         issued   \n",
       "\n",
       "  Current Status Date  Filed Date      Record ID  \n",
       "0          12/21/2017  05/06/2015  1380611233945  \n",
       "1          08/03/2017  04/19/2016  1420164406718  \n",
       "2          09/26/2017  05/27/2016  1424856504716  \n",
       "3          07/24/2017  11/07/2016  1443574295566  \n",
       "4          12/01/2017  11/28/2016   144548169992  "
      ]
     },
     "execution_count": 17,
     "metadata": {},
     "output_type": "execute_result"
    }
   ],
   "source": [
    "sf_permits_with_na_dropped = sf_permits.dropna(axis = 1)\n",
    "sf_permits_with_na_dropped.head()"
   ]
  },
  {
   "cell_type": "markdown",
   "id": "e8d5f055",
   "metadata": {
    "papermill": {
     "duration": 0.011877,
     "end_time": "2023-09-05T01:31:27.171568",
     "exception": false,
     "start_time": "2023-09-05T01:31:27.159691",
     "status": "completed"
    },
    "tags": []
   },
   "source": [
    "- shape() consists of array having two arguments rows and columns. shape[0]  will gave you the number of rows. shape[1] will gave you number of columns.\n",
    "- axis = 1  When the axis is set to one while performing a specific action, the action is performed on column(s) that satisfy the condition.\n"
   ]
  },
  {
   "cell_type": "code",
   "execution_count": 18,
   "id": "b682a616",
   "metadata": {
    "execution": {
     "iopub.execute_input": "2023-09-05T01:31:27.196765Z",
     "iopub.status.busy": "2023-09-05T01:31:27.196394Z",
     "iopub.status.idle": "2023-09-05T01:31:27.437394Z",
     "shell.execute_reply": "2023-09-05T01:31:27.436715Z"
    },
    "papermill": {
     "duration": 0.255643,
     "end_time": "2023-09-05T01:31:27.439159",
     "exception": false,
     "start_time": "2023-09-05T01:31:27.183516",
     "status": "completed"
    },
    "tags": []
   },
   "outputs": [
    {
     "data": {
      "application/javascript": [
       "parent.postMessage({\"jupyterEvent\": \"custom.exercise_interaction\", \"data\": {\"outcomeType\": 1, \"valueTowardsCompletion\": 0.16666666666666666, \"interactionType\": 1, \"questionType\": 1, \"questionId\": \"5_DropMissingCols\", \"learnToolsVersion\": \"0.3.4\", \"failureMessage\": \"\", \"exceptionClass\": \"\", \"trace\": \"\"}}, \"*\")"
      ],
      "text/plain": [
       "<IPython.core.display.Javascript object>"
      ]
     },
     "metadata": {},
     "output_type": "display_data"
    },
    {
     "data": {
      "text/markdown": [
       "<span style=\"color:#33cc33\">Correct</span>"
      ],
      "text/plain": [
       "Correct"
      ]
     },
     "metadata": {},
     "output_type": "display_data"
    }
   ],
   "source": [
    "# TODO: Your code here\n",
    "sf_permits_with_na_dropped = sf_permits.dropna(axis = 1)\n",
    "cols_in_original = sf_permits.shape[1]\n",
    "cols_in_dropped = sf_permits_with_na_dropped.shape[1]\n",
    "dropped_columns = cols_in_original - cols_in_dropped\n",
    "\n",
    "\n",
    "# Check your answer\n",
    "q5.check()"
   ]
  },
  {
   "cell_type": "code",
   "execution_count": 19,
   "id": "dd0143c1",
   "metadata": {
    "execution": {
     "iopub.execute_input": "2023-09-05T01:31:27.465373Z",
     "iopub.status.busy": "2023-09-05T01:31:27.465035Z",
     "iopub.status.idle": "2023-09-05T01:31:27.470797Z",
     "shell.execute_reply": "2023-09-05T01:31:27.469882Z"
    },
    "papermill": {
     "duration": 0.021252,
     "end_time": "2023-09-05T01:31:27.472821",
     "exception": false,
     "start_time": "2023-09-05T01:31:27.451569",
     "status": "completed"
    },
    "tags": []
   },
   "outputs": [
    {
     "data": {
      "text/plain": [
       "31"
      ]
     },
     "execution_count": 19,
     "metadata": {},
     "output_type": "execute_result"
    }
   ],
   "source": [
    "dropped_columns"
   ]
  },
  {
   "cell_type": "code",
   "execution_count": 20,
   "id": "176182d6",
   "metadata": {
    "execution": {
     "iopub.execute_input": "2023-09-05T01:31:27.498846Z",
     "iopub.status.busy": "2023-09-05T01:31:27.498491Z",
     "iopub.status.idle": "2023-09-05T01:31:27.502661Z",
     "shell.execute_reply": "2023-09-05T01:31:27.501735Z"
    },
    "papermill": {
     "duration": 0.01945,
     "end_time": "2023-09-05T01:31:27.504579",
     "exception": false,
     "start_time": "2023-09-05T01:31:27.485129",
     "status": "completed"
    },
    "tags": []
   },
   "outputs": [],
   "source": [
    "# Lines below will give you a hint or solution code\n",
    "# q5.hint()\n",
    "# q5.solution()"
   ]
  },
  {
   "cell_type": "markdown",
   "id": "105efe1a",
   "metadata": {
    "papermill": {
     "duration": 0.011968,
     "end_time": "2023-09-05T01:31:27.528768",
     "exception": false,
     "start_time": "2023-09-05T01:31:27.516800",
     "status": "completed"
    },
    "tags": []
   },
   "source": [
    "# 6) Fill in missing values automatically\n",
    "\n",
    "Try replacing all the NaN's in the `sf_permits` data with the one that comes directly after it and then replacing any remaining NaN's with 0.  Set the result to a new DataFrame `sf_permits_with_na_imputed`."
   ]
  },
  {
   "cell_type": "markdown",
   "id": "e94011dc",
   "metadata": {
    "papermill": {
     "duration": 0.011804,
     "end_time": "2023-09-05T01:31:27.552622",
     "exception": false,
     "start_time": "2023-09-05T01:31:27.540818",
     "status": "completed"
    },
    "tags": []
   },
   "source": [
    "Pandas dataframe.bfill() is used to backward fill the missing values in the dataset. It will backward fill the NaN values that are present in the pandas dataframe."
   ]
  },
  {
   "cell_type": "code",
   "execution_count": 21,
   "id": "41c5f443",
   "metadata": {
    "execution": {
     "iopub.execute_input": "2023-09-05T01:31:27.578338Z",
     "iopub.status.busy": "2023-09-05T01:31:27.577753Z",
     "iopub.status.idle": "2023-09-05T01:31:27.589333Z",
     "shell.execute_reply": "2023-09-05T01:31:27.588392Z"
    },
    "papermill": {
     "duration": 0.026875,
     "end_time": "2023-09-05T01:31:27.591407",
     "exception": false,
     "start_time": "2023-09-05T01:31:27.564532",
     "status": "completed"
    },
    "tags": []
   },
   "outputs": [
    {
     "data": {
      "text/html": [
       "<div>\n",
       "<style scoped>\n",
       "    .dataframe tbody tr th:only-of-type {\n",
       "        vertical-align: middle;\n",
       "    }\n",
       "\n",
       "    .dataframe tbody tr th {\n",
       "        vertical-align: top;\n",
       "    }\n",
       "\n",
       "    .dataframe thead th {\n",
       "        text-align: right;\n",
       "    }\n",
       "</style>\n",
       "<table border=\"1\" class=\"dataframe\">\n",
       "  <thead>\n",
       "    <tr style=\"text-align: right;\">\n",
       "      <th></th>\n",
       "      <th>A</th>\n",
       "      <th>B</th>\n",
       "      <th>C</th>\n",
       "    </tr>\n",
       "  </thead>\n",
       "  <tbody>\n",
       "    <tr>\n",
       "      <th>0</th>\n",
       "      <td>NaN</td>\n",
       "      <td>11.0</td>\n",
       "      <td>NaN</td>\n",
       "    </tr>\n",
       "    <tr>\n",
       "      <th>1</th>\n",
       "      <td>1.0</td>\n",
       "      <td>5.0</td>\n",
       "      <td>5.0</td>\n",
       "    </tr>\n",
       "    <tr>\n",
       "      <th>2</th>\n",
       "      <td>2.0</td>\n",
       "      <td>NaN</td>\n",
       "      <td>10.0</td>\n",
       "    </tr>\n",
       "    <tr>\n",
       "      <th>3</th>\n",
       "      <td>3.0</td>\n",
       "      <td>NaN</td>\n",
       "      <td>11.0</td>\n",
       "    </tr>\n",
       "    <tr>\n",
       "      <th>4</th>\n",
       "      <td>NaN</td>\n",
       "      <td>NaN</td>\n",
       "      <td>NaN</td>\n",
       "    </tr>\n",
       "    <tr>\n",
       "      <th>5</th>\n",
       "      <td>NaN</td>\n",
       "      <td>8.0</td>\n",
       "      <td>8.0</td>\n",
       "    </tr>\n",
       "  </tbody>\n",
       "</table>\n",
       "</div>"
      ],
      "text/plain": [
       "     A     B     C\n",
       "0  NaN  11.0   NaN\n",
       "1  1.0   5.0   5.0\n",
       "2  2.0   NaN  10.0\n",
       "3  3.0   NaN  11.0\n",
       "4  NaN   NaN   NaN\n",
       "5  NaN   8.0   8.0"
      ]
     },
     "execution_count": 21,
     "metadata": {},
     "output_type": "execute_result"
    }
   ],
   "source": [
    "df = pd.DataFrame({\"A\":[None, 1, 2, 3, None, None], \n",
    "                   \"B\":[11, 5, None, None, None, 8],\n",
    "                   \"C\":[None, 5, 10, 11, None, 8]})\n",
    "df"
   ]
  },
  {
   "cell_type": "code",
   "execution_count": 22,
   "id": "3ecf8e7d",
   "metadata": {
    "execution": {
     "iopub.execute_input": "2023-09-05T01:31:27.617568Z",
     "iopub.status.busy": "2023-09-05T01:31:27.617217Z",
     "iopub.status.idle": "2023-09-05T01:31:27.628575Z",
     "shell.execute_reply": "2023-09-05T01:31:27.627651Z"
    },
    "papermill": {
     "duration": 0.02666,
     "end_time": "2023-09-05T01:31:27.630537",
     "exception": false,
     "start_time": "2023-09-05T01:31:27.603877",
     "status": "completed"
    },
    "tags": []
   },
   "outputs": [
    {
     "data": {
      "text/html": [
       "<div>\n",
       "<style scoped>\n",
       "    .dataframe tbody tr th:only-of-type {\n",
       "        vertical-align: middle;\n",
       "    }\n",
       "\n",
       "    .dataframe tbody tr th {\n",
       "        vertical-align: top;\n",
       "    }\n",
       "\n",
       "    .dataframe thead th {\n",
       "        text-align: right;\n",
       "    }\n",
       "</style>\n",
       "<table border=\"1\" class=\"dataframe\">\n",
       "  <thead>\n",
       "    <tr style=\"text-align: right;\">\n",
       "      <th></th>\n",
       "      <th>A</th>\n",
       "      <th>B</th>\n",
       "      <th>C</th>\n",
       "    </tr>\n",
       "  </thead>\n",
       "  <tbody>\n",
       "    <tr>\n",
       "      <th>0</th>\n",
       "      <td>1.0</td>\n",
       "      <td>11.0</td>\n",
       "      <td>5.0</td>\n",
       "    </tr>\n",
       "    <tr>\n",
       "      <th>1</th>\n",
       "      <td>1.0</td>\n",
       "      <td>5.0</td>\n",
       "      <td>5.0</td>\n",
       "    </tr>\n",
       "    <tr>\n",
       "      <th>2</th>\n",
       "      <td>2.0</td>\n",
       "      <td>8.0</td>\n",
       "      <td>10.0</td>\n",
       "    </tr>\n",
       "    <tr>\n",
       "      <th>3</th>\n",
       "      <td>3.0</td>\n",
       "      <td>8.0</td>\n",
       "      <td>11.0</td>\n",
       "    </tr>\n",
       "    <tr>\n",
       "      <th>4</th>\n",
       "      <td>NaN</td>\n",
       "      <td>8.0</td>\n",
       "      <td>8.0</td>\n",
       "    </tr>\n",
       "    <tr>\n",
       "      <th>5</th>\n",
       "      <td>NaN</td>\n",
       "      <td>8.0</td>\n",
       "      <td>8.0</td>\n",
       "    </tr>\n",
       "  </tbody>\n",
       "</table>\n",
       "</div>"
      ],
      "text/plain": [
       "     A     B     C\n",
       "0  1.0  11.0   5.0\n",
       "1  1.0   5.0   5.0\n",
       "2  2.0   8.0  10.0\n",
       "3  3.0   8.0  11.0\n",
       "4  NaN   8.0   8.0\n",
       "5  NaN   8.0   8.0"
      ]
     },
     "execution_count": 22,
     "metadata": {},
     "output_type": "execute_result"
    }
   ],
   "source": [
    "df = df.fillna(method = 'bfill', axis = 0)\n",
    "df"
   ]
  },
  {
   "cell_type": "code",
   "execution_count": 23,
   "id": "4c96c95e",
   "metadata": {
    "execution": {
     "iopub.execute_input": "2023-09-05T01:31:27.657142Z",
     "iopub.status.busy": "2023-09-05T01:31:27.656801Z",
     "iopub.status.idle": "2023-09-05T01:31:27.668135Z",
     "shell.execute_reply": "2023-09-05T01:31:27.667140Z"
    },
    "papermill": {
     "duration": 0.027055,
     "end_time": "2023-09-05T01:31:27.670203",
     "exception": false,
     "start_time": "2023-09-05T01:31:27.643148",
     "status": "completed"
    },
    "tags": []
   },
   "outputs": [
    {
     "data": {
      "text/html": [
       "<div>\n",
       "<style scoped>\n",
       "    .dataframe tbody tr th:only-of-type {\n",
       "        vertical-align: middle;\n",
       "    }\n",
       "\n",
       "    .dataframe tbody tr th {\n",
       "        vertical-align: top;\n",
       "    }\n",
       "\n",
       "    .dataframe thead th {\n",
       "        text-align: right;\n",
       "    }\n",
       "</style>\n",
       "<table border=\"1\" class=\"dataframe\">\n",
       "  <thead>\n",
       "    <tr style=\"text-align: right;\">\n",
       "      <th></th>\n",
       "      <th>A</th>\n",
       "      <th>B</th>\n",
       "      <th>C</th>\n",
       "    </tr>\n",
       "  </thead>\n",
       "  <tbody>\n",
       "    <tr>\n",
       "      <th>0</th>\n",
       "      <td>1.0</td>\n",
       "      <td>11.0</td>\n",
       "      <td>5.0</td>\n",
       "    </tr>\n",
       "    <tr>\n",
       "      <th>1</th>\n",
       "      <td>1.0</td>\n",
       "      <td>5.0</td>\n",
       "      <td>5.0</td>\n",
       "    </tr>\n",
       "    <tr>\n",
       "      <th>2</th>\n",
       "      <td>2.0</td>\n",
       "      <td>8.0</td>\n",
       "      <td>10.0</td>\n",
       "    </tr>\n",
       "    <tr>\n",
       "      <th>3</th>\n",
       "      <td>3.0</td>\n",
       "      <td>8.0</td>\n",
       "      <td>11.0</td>\n",
       "    </tr>\n",
       "    <tr>\n",
       "      <th>4</th>\n",
       "      <td>0.0</td>\n",
       "      <td>8.0</td>\n",
       "      <td>8.0</td>\n",
       "    </tr>\n",
       "    <tr>\n",
       "      <th>5</th>\n",
       "      <td>0.0</td>\n",
       "      <td>8.0</td>\n",
       "      <td>8.0</td>\n",
       "    </tr>\n",
       "  </tbody>\n",
       "</table>\n",
       "</div>"
      ],
      "text/plain": [
       "     A     B     C\n",
       "0  1.0  11.0   5.0\n",
       "1  1.0   5.0   5.0\n",
       "2  2.0   8.0  10.0\n",
       "3  3.0   8.0  11.0\n",
       "4  0.0   8.0   8.0\n",
       "5  0.0   8.0   8.0"
      ]
     },
     "execution_count": 23,
     "metadata": {},
     "output_type": "execute_result"
    }
   ],
   "source": [
    "df = df.fillna(0)\n",
    "df"
   ]
  },
  {
   "cell_type": "code",
   "execution_count": 24,
   "id": "5d7689c0",
   "metadata": {
    "execution": {
     "iopub.execute_input": "2023-09-05T01:31:27.697576Z",
     "iopub.status.busy": "2023-09-05T01:31:27.697185Z",
     "iopub.status.idle": "2023-09-05T01:31:28.400189Z",
     "shell.execute_reply": "2023-09-05T01:31:28.399208Z"
    },
    "papermill": {
     "duration": 0.719083,
     "end_time": "2023-09-05T01:31:28.402298",
     "exception": false,
     "start_time": "2023-09-05T01:31:27.683215",
     "status": "completed"
    },
    "tags": []
   },
   "outputs": [
    {
     "data": {
      "application/javascript": [
       "parent.postMessage({\"jupyterEvent\": \"custom.exercise_interaction\", \"data\": {\"outcomeType\": 1, \"valueTowardsCompletion\": 0.16666666666666666, \"interactionType\": 1, \"questionType\": 1, \"questionId\": \"6_ImputeAutomatically\", \"learnToolsVersion\": \"0.3.4\", \"failureMessage\": \"\", \"exceptionClass\": \"\", \"trace\": \"\"}}, \"*\")"
      ],
      "text/plain": [
       "<IPython.core.display.Javascript object>"
      ]
     },
     "metadata": {},
     "output_type": "display_data"
    },
    {
     "data": {
      "text/markdown": [
       "<span style=\"color:#33cc33\">Correct</span>"
      ],
      "text/plain": [
       "Correct"
      ]
     },
     "metadata": {},
     "output_type": "display_data"
    }
   ],
   "source": [
    "# TODO: Your code here\n",
    "sf_permits_with_na_imputed = sf_permits.fillna(method='bfill', axis = 0)\n",
    "sf_permits_with_na_imputed = sf_permits_with_na_imputed.fillna(0)\n",
    "\n",
    "# Check your answer\n",
    "q6.check()"
   ]
  },
  {
   "cell_type": "code",
   "execution_count": 25,
   "id": "98785bd5",
   "metadata": {
    "execution": {
     "iopub.execute_input": "2023-09-05T01:31:28.429948Z",
     "iopub.status.busy": "2023-09-05T01:31:28.429600Z",
     "iopub.status.idle": "2023-09-05T01:31:28.433542Z",
     "shell.execute_reply": "2023-09-05T01:31:28.432763Z"
    },
    "papermill": {
     "duration": 0.019747,
     "end_time": "2023-09-05T01:31:28.435295",
     "exception": false,
     "start_time": "2023-09-05T01:31:28.415548",
     "status": "completed"
    },
    "tags": []
   },
   "outputs": [],
   "source": [
    "# Lines below will give you a hint or solution code\n",
    "# q6.hint()\n",
    "# q6.solution()"
   ]
  },
  {
   "cell_type": "markdown",
   "id": "4cd9ea31",
   "metadata": {
    "papermill": {
     "duration": 0.012598,
     "end_time": "2023-09-05T01:31:28.460688",
     "exception": false,
     "start_time": "2023-09-05T01:31:28.448090",
     "status": "completed"
    },
    "tags": []
   },
   "source": [
    "# More practice\n",
    "\n",
    "If you're looking for more practice handling missing values:\n",
    "\n",
    "* Check out [this noteboook](https://www.kaggle.com/alexisbcook/missing-values) on handling missing values using scikit-learn's imputer. \n",
    "* Look back at the \"Zipcode\" column in the `sf_permits` dataset, which has some missing values. How would you go about figuring out what the actual zipcode of each address should be? (You might try using another dataset. You can search for datasets about San Fransisco on the [Datasets listing](https://www.kaggle.com/datasets).) \n",
    "\n",
    "# Keep going\n",
    "\n",
    "In the next lesson, learn how to [**apply scaling and normalization**](https://www.kaggle.com/alexisbcook/scaling-and-normalization) to transform your data."
   ]
  },
  {
   "cell_type": "markdown",
   "id": "2f5cd7a0",
   "metadata": {
    "papermill": {
     "duration": 0.012548,
     "end_time": "2023-09-05T01:31:28.486063",
     "exception": false,
     "start_time": "2023-09-05T01:31:28.473515",
     "status": "completed"
    },
    "tags": []
   },
   "source": [
    "---\n",
    "\n",
    "\n",
    "\n",
    "\n",
    "*Have questions or comments? Visit the [course discussion forum](https://www.kaggle.com/learn/data-cleaning/discussion) to chat with other learners.*"
   ]
  }
 ],
 "kernelspec": {
  "display_name": "Python 3",
  "language": "python",
  "name": "python3"
 },
 "language_info": {
  "codemirror_mode": {
   "name": "ipython",
   "version": 3
  },
  "file_extension": ".py",
  "mimetype": "text/x-python",
  "name": "python",
  "nbconvert_exporter": "python",
  "pygments_lexer": "ipython3",
  "version": "3.6.4"
 },
 "metadata": {
  "kernelspec": {
   "display_name": "Python 3",
   "language": "python",
   "name": "python3"
  },
  "language_info": {
   "codemirror_mode": {
    "name": "ipython",
    "version": 3
   },
   "file_extension": ".py",
   "mimetype": "text/x-python",
   "name": "python",
   "nbconvert_exporter": "python",
   "pygments_lexer": "ipython3",
   "version": "3.10.12"
  },
  "papermill": {
   "default_parameters": {},
   "duration": 12.298208,
   "end_time": "2023-09-05T01:31:29.017766",
   "environment_variables": {},
   "exception": null,
   "input_path": "__notebook__.ipynb",
   "output_path": "__notebook__.ipynb",
   "parameters": {},
   "start_time": "2023-09-05T01:31:16.719558",
   "version": "2.4.0"
  }
 },
 "nbformat": 4,
 "nbformat_minor": 5
}
