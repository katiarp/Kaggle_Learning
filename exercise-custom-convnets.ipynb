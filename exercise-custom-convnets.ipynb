{
 "cells": [
  {
   "cell_type": "markdown",
   "id": "92002eac",
   "metadata": {
    "papermill": {
     "duration": 0.003185,
     "end_time": "2023-10-20T04:36:24.344252",
     "exception": false,
     "start_time": "2023-10-20T04:36:24.341067",
     "status": "completed"
    },
    "tags": []
   },
   "source": [
    "**This notebook is an exercise in the [Computer Vision](https://www.kaggle.com/learn/computer-vision) course.  You can reference the tutorial at [this link](https://www.kaggle.com/ryanholbrook/custom-convnets).**\n",
    "\n",
    "---\n"
   ]
  },
  {
   "cell_type": "markdown",
   "id": "f95b10de",
   "metadata": {
    "papermill": {
     "duration": 0.002499,
     "end_time": "2023-10-20T04:36:24.349719",
     "exception": false,
     "start_time": "2023-10-20T04:36:24.347220",
     "status": "completed"
    },
    "tags": []
   },
   "source": [
    "# Introduction #\n",
    "\n",
    "In these exercises, you'll build a custom convnet with performance competitive to the VGG16 model from Lesson 1.\n",
    "\n",
    "Get started by running the code cell below."
   ]
  },
  {
   "cell_type": "code",
   "execution_count": 1,
   "id": "da90c1f1",
   "metadata": {
    "execution": {
     "iopub.execute_input": "2023-10-20T04:36:24.356184Z",
     "iopub.status.busy": "2023-10-20T04:36:24.355915Z",
     "iopub.status.idle": "2023-10-20T04:36:39.196553Z",
     "shell.execute_reply": "2023-10-20T04:36:39.195867Z"
    },
    "papermill": {
     "duration": 14.846151,
     "end_time": "2023-10-20T04:36:39.198481",
     "exception": false,
     "start_time": "2023-10-20T04:36:24.352330",
     "status": "completed"
    },
    "tags": []
   },
   "outputs": [
    {
     "name": "stderr",
     "output_type": "stream",
     "text": [
      "/opt/conda/lib/python3.10/site-packages/scipy/__init__.py:146: UserWarning: A NumPy version >=1.16.5 and <1.23.0 is required for this version of SciPy (detected version 1.23.5\n",
      "  warnings.warn(f\"A NumPy version >={np_minversion} and <{np_maxversion}\"\n"
     ]
    },
    {
     "name": "stdout",
     "output_type": "stream",
     "text": [
      "Found 5117 files belonging to 2 classes.\n",
      "Found 5051 files belonging to 2 classes.\n"
     ]
    }
   ],
   "source": [
    "# Setup feedback system\n",
    "from learntools.core import binder\n",
    "binder.bind(globals())\n",
    "from learntools.computer_vision.ex5 import *\n",
    "\n",
    "# Imports\n",
    "import os, warnings\n",
    "import matplotlib.pyplot as plt\n",
    "from matplotlib import gridspec\n",
    "\n",
    "import numpy as np\n",
    "import tensorflow as tf\n",
    "from tensorflow.keras.preprocessing import image_dataset_from_directory\n",
    "\n",
    "# Reproducability\n",
    "def set_seed(seed=31415):\n",
    "    np.random.seed(seed)\n",
    "    tf.random.set_seed(seed)\n",
    "    os.environ['PYTHONHASHSEED'] = str(seed)\n",
    "    os.environ['TF_DETERMINISTIC_OPS'] = '1'\n",
    "set_seed()\n",
    "\n",
    "# Set Matplotlib defaults\n",
    "plt.rc('figure', autolayout=True)\n",
    "plt.rc('axes', labelweight='bold', labelsize='large',\n",
    "       titleweight='bold', titlesize=18, titlepad=10)\n",
    "plt.rc('image', cmap='magma')\n",
    "warnings.filterwarnings(\"ignore\") # to clean up output cells\n",
    "\n",
    "\n",
    "# Load training and validation sets\n",
    "ds_train_ = image_dataset_from_directory(\n",
    "    '../input/car-or-truck/train',\n",
    "    labels='inferred',\n",
    "    label_mode='binary',\n",
    "    image_size=[128, 128],\n",
    "    interpolation='nearest',\n",
    "    batch_size=64,\n",
    "    shuffle=True,\n",
    ")\n",
    "ds_valid_ = image_dataset_from_directory(\n",
    "    '../input/car-or-truck/valid',\n",
    "    labels='inferred',\n",
    "    label_mode='binary',\n",
    "    image_size=[128, 128],\n",
    "    interpolation='nearest',\n",
    "    batch_size=64,\n",
    "    shuffle=False,\n",
    ")\n",
    "\n",
    "# Data Pipeline\n",
    "def convert_to_float(image, label):\n",
    "    image = tf.image.convert_image_dtype(image, dtype=tf.float32)\n",
    "    return image, label\n",
    "\n",
    "AUTOTUNE = tf.data.experimental.AUTOTUNE\n",
    "ds_train = (\n",
    "    ds_train_\n",
    "    .map(convert_to_float)\n",
    "    .cache()\n",
    "    .prefetch(buffer_size=AUTOTUNE)\n",
    ")\n",
    "ds_valid = (\n",
    "    ds_valid_\n",
    "    .map(convert_to_float)\n",
    "    .cache()\n",
    "    .prefetch(buffer_size=AUTOTUNE)\n",
    ")\n"
   ]
  },
  {
   "cell_type": "markdown",
   "id": "73a1dc6b",
   "metadata": {
    "papermill": {
     "duration": 0.002785,
     "end_time": "2023-10-20T04:36:39.204480",
     "exception": false,
     "start_time": "2023-10-20T04:36:39.201695",
     "status": "completed"
    },
    "tags": []
   },
   "source": [
    "# Design a Convnet #\n",
    "\n",
    "Let's design a convolutional network with a block architecture like we saw in the tutorial. The model from the example had three blocks, each with a single convolutional layer. Its performance on the \"Car or Truck\" problem was okay, but far from what the pretrained VGG16 could achieve. It might be that our simple network lacks the ability to extract sufficiently complex features. We could try improving the model either by adding more blocks or by adding convolutions to the blocks we have.\n",
    "\n",
    "Let's go with the second approach. We'll keep the three block structure, but increase the number of `Conv2D` layer in the second block to two, and in the third block to three.\n",
    "\n",
    "<figure>\n",
    "<!-- <img src=\"./images/2-convmodel-2.png\" width=\"250\" alt=\"Diagram of a convolutional model.\"> -->\n",
    "<img src=\"https://storage.googleapis.com/kaggle-media/learn/images/Vko6nCK.png\" width=\"250\" alt=\"Diagram of a convolutional model.\">\n",
    "</figure>\n",
    "\n",
    "# 1) Define Model #\n",
    "\n",
    "Given the diagram above, complete the model by defining the layers of the third block."
   ]
  },
  {
   "cell_type": "code",
   "execution_count": 2,
   "id": "80535e75",
   "metadata": {
    "execution": {
     "iopub.execute_input": "2023-10-20T04:36:39.211405Z",
     "iopub.status.busy": "2023-10-20T04:36:39.211185Z",
     "iopub.status.idle": "2023-10-20T04:36:39.339744Z",
     "shell.execute_reply": "2023-10-20T04:36:39.339024Z"
    },
    "lines_to_next_cell": 0,
    "papermill": {
     "duration": 0.133906,
     "end_time": "2023-10-20T04:36:39.341217",
     "exception": false,
     "start_time": "2023-10-20T04:36:39.207311",
     "status": "completed"
    },
    "tags": []
   },
   "outputs": [
    {
     "data": {
      "application/javascript": [
       "parent.postMessage({\"jupyterEvent\": \"custom.exercise_interaction\", \"data\": {\"outcomeType\": 1, \"valueTowardsCompletion\": 0.3333333333333333, \"interactionType\": 1, \"questionType\": 2, \"questionId\": \"1_Q1\", \"learnToolsVersion\": \"0.3.4\", \"failureMessage\": \"\", \"exceptionClass\": \"\", \"trace\": \"\"}}, \"*\")"
      ],
      "text/plain": [
       "<IPython.core.display.Javascript object>"
      ]
     },
     "metadata": {},
     "output_type": "display_data"
    },
    {
     "data": {
      "text/markdown": [
       "<span style=\"color:#33cc33\">Correct</span>"
      ],
      "text/plain": [
       "Correct"
      ]
     },
     "metadata": {},
     "output_type": "display_data"
    }
   ],
   "source": [
    "from tensorflow import keras\n",
    "from tensorflow.keras import layers\n",
    "\n",
    "model = keras.Sequential([\n",
    "    # Block One\n",
    "    layers.Conv2D(filters=32, kernel_size=3, activation='relu', padding='same',\n",
    "                  input_shape=[128, 128, 3]),\n",
    "    layers.MaxPool2D(),\n",
    "\n",
    "    # Block Two\n",
    "    layers.Conv2D(filters=64, kernel_size=3, activation='relu', padding='same'),\n",
    "    layers.MaxPool2D(),\n",
    "\n",
    "    # Block Three\n",
    "    layers.Conv2D(filters = 128, kernel_size = 3, activation = 'relu', padding = 'same'),\n",
    "    layers.Conv2D(filters = 128, kernel_size = 3, activation = 'relu', padding = 'same'),\n",
    "    layers.MaxPool2D(),\n",
    "    \n",
    "    # Head\n",
    "    layers.Flatten(),\n",
    "    layers.Dense(6, activation='relu'),\n",
    "    layers.Dropout(0.2),\n",
    "    layers.Dense(1, activation='sigmoid'),\n",
    "])\n",
    "\n",
    "# Check your answer\n",
    "q_1.check()"
   ]
  },
  {
   "cell_type": "code",
   "execution_count": 3,
   "id": "aade8c0d",
   "metadata": {
    "execution": {
     "iopub.execute_input": "2023-10-20T04:36:39.348727Z",
     "iopub.status.busy": "2023-10-20T04:36:39.348213Z",
     "iopub.status.idle": "2023-10-20T04:36:39.351584Z",
     "shell.execute_reply": "2023-10-20T04:36:39.350920Z"
    },
    "papermill": {
     "duration": 0.00866,
     "end_time": "2023-10-20T04:36:39.353051",
     "exception": false,
     "start_time": "2023-10-20T04:36:39.344391",
     "status": "completed"
    },
    "tags": []
   },
   "outputs": [],
   "source": [
    "# Lines below will give you a hint or solution code\n",
    "#q_1.hint()\n",
    "#q_1.solution()"
   ]
  },
  {
   "cell_type": "markdown",
   "id": "e8eb4363",
   "metadata": {
    "papermill": {
     "duration": 0.002906,
     "end_time": "2023-10-20T04:36:39.359279",
     "exception": false,
     "start_time": "2023-10-20T04:36:39.356373",
     "status": "completed"
    },
    "tags": []
   },
   "source": [
    "# 2) Compile #\n",
    "\n",
    "To prepare for training, compile the model with an appropriate loss and accuracy metric for the \"Car or Truck\" dataset."
   ]
  },
  {
   "cell_type": "code",
   "execution_count": 4,
   "id": "1d30808a",
   "metadata": {
    "execution": {
     "iopub.execute_input": "2023-10-20T04:36:39.366469Z",
     "iopub.status.busy": "2023-10-20T04:36:39.365906Z",
     "iopub.status.idle": "2023-10-20T04:36:39.381010Z",
     "shell.execute_reply": "2023-10-20T04:36:39.380226Z"
    },
    "lines_to_next_cell": 0,
    "papermill": {
     "duration": 0.02021,
     "end_time": "2023-10-20T04:36:39.382488",
     "exception": false,
     "start_time": "2023-10-20T04:36:39.362278",
     "status": "completed"
    },
    "tags": []
   },
   "outputs": [
    {
     "data": {
      "application/javascript": [
       "parent.postMessage({\"jupyterEvent\": \"custom.exercise_interaction\", \"data\": {\"outcomeType\": 1, \"valueTowardsCompletion\": 0.3333333333333333, \"interactionType\": 1, \"questionType\": 2, \"questionId\": \"2_Q2\", \"learnToolsVersion\": \"0.3.4\", \"failureMessage\": \"\", \"exceptionClass\": \"\", \"trace\": \"\"}}, \"*\")"
      ],
      "text/plain": [
       "<IPython.core.display.Javascript object>"
      ]
     },
     "metadata": {},
     "output_type": "display_data"
    },
    {
     "data": {
      "text/markdown": [
       "<span style=\"color:#33cc33\">Correct</span>"
      ],
      "text/plain": [
       "Correct"
      ]
     },
     "metadata": {},
     "output_type": "display_data"
    }
   ],
   "source": [
    "model.compile(\n",
    "    optimizer=tf.keras.optimizers.Adam(epsilon=0.01),\n",
    "    loss = 'binary_crossentropy',\n",
    "    metrics = ['binary_accuracy']\n",
    ")\n",
    "\n",
    "# Check your answer\n",
    "q_2.check()"
   ]
  },
  {
   "cell_type": "code",
   "execution_count": 5,
   "id": "0bb279c3",
   "metadata": {
    "execution": {
     "iopub.execute_input": "2023-10-20T04:36:39.390206Z",
     "iopub.status.busy": "2023-10-20T04:36:39.389584Z",
     "iopub.status.idle": "2023-10-20T04:36:39.400711Z",
     "shell.execute_reply": "2023-10-20T04:36:39.399934Z"
    },
    "lines_to_next_cell": 0,
    "papermill": {
     "duration": 0.016466,
     "end_time": "2023-10-20T04:36:39.402176",
     "exception": false,
     "start_time": "2023-10-20T04:36:39.385710",
     "status": "completed"
    },
    "tags": []
   },
   "outputs": [
    {
     "data": {
      "application/javascript": [
       "parent.postMessage({\"jupyterEvent\": \"custom.exercise_interaction\", \"data\": {\"outcomeType\": 1, \"valueTowardsCompletion\": 0.3333333333333333, \"interactionType\": 1, \"questionType\": 2, \"questionId\": \"2_Q2\", \"learnToolsVersion\": \"0.3.4\", \"failureMessage\": \"\", \"exceptionClass\": \"\", \"trace\": \"\"}}, \"*\")"
      ],
      "text/plain": [
       "<IPython.core.display.Javascript object>"
      ]
     },
     "metadata": {},
     "output_type": "display_data"
    },
    {
     "data": {
      "text/markdown": [
       "<span style=\"color:#33cc33\">Correct</span>"
      ],
      "text/plain": [
       "Correct"
      ]
     },
     "metadata": {},
     "output_type": "display_data"
    }
   ],
   "source": [
    "model.compile(\n",
    "    optimizer=tf.keras.optimizers.Adam(epsilon=0.01),\n",
    "    loss='binary_crossentropy',\n",
    "    metrics=['binary_accuracy'],\n",
    ")\n",
    "q_2.assert_check_passed()"
   ]
  },
  {
   "cell_type": "code",
   "execution_count": 6,
   "id": "8148b038",
   "metadata": {
    "execution": {
     "iopub.execute_input": "2023-10-20T04:36:39.410111Z",
     "iopub.status.busy": "2023-10-20T04:36:39.409461Z",
     "iopub.status.idle": "2023-10-20T04:36:39.412559Z",
     "shell.execute_reply": "2023-10-20T04:36:39.411972Z"
    },
    "lines_to_next_cell": 0,
    "papermill": {
     "duration": 0.008518,
     "end_time": "2023-10-20T04:36:39.414060",
     "exception": false,
     "start_time": "2023-10-20T04:36:39.405542",
     "status": "completed"
    },
    "tags": []
   },
   "outputs": [],
   "source": [
    "# Lines below will give you a hint or solution code\n",
    "#q_2.hint()\n",
    "#q_2.solution()"
   ]
  },
  {
   "cell_type": "markdown",
   "id": "4a379c84",
   "metadata": {
    "papermill": {
     "duration": 0.00322,
     "end_time": "2023-10-20T04:36:39.420724",
     "exception": false,
     "start_time": "2023-10-20T04:36:39.417504",
     "status": "completed"
    },
    "tags": []
   },
   "source": [
    "Finally, let's test the performance of this new model. First run this cell to fit the model to the training set."
   ]
  },
  {
   "cell_type": "code",
   "execution_count": 7,
   "id": "ccaa5048",
   "metadata": {
    "execution": {
     "iopub.execute_input": "2023-10-20T04:36:39.428346Z",
     "iopub.status.busy": "2023-10-20T04:36:39.428124Z",
     "iopub.status.idle": "2023-10-20T04:39:39.542390Z",
     "shell.execute_reply": "2023-10-20T04:39:39.541571Z"
    },
    "papermill": {
     "duration": 180.120019,
     "end_time": "2023-10-20T04:39:39.544145",
     "exception": false,
     "start_time": "2023-10-20T04:36:39.424126",
     "status": "completed"
    },
    "tags": []
   },
   "outputs": [
    {
     "name": "stdout",
     "output_type": "stream",
     "text": [
      "Epoch 1/50\n",
      "80/80 [==============================] - 21s 139ms/step - loss: 0.6768 - binary_accuracy: 0.5779 - val_loss: 0.6640 - val_binary_accuracy: 0.5787\n",
      "Epoch 2/50\n",
      "80/80 [==============================] - 3s 39ms/step - loss: 0.6608 - binary_accuracy: 0.5978 - val_loss: 0.6536 - val_binary_accuracy: 0.5834\n",
      "Epoch 3/50\n",
      "80/80 [==============================] - 3s 39ms/step - loss: 0.6495 - binary_accuracy: 0.6209 - val_loss: 0.6443 - val_binary_accuracy: 0.6034\n",
      "Epoch 4/50\n",
      "80/80 [==============================] - 3s 39ms/step - loss: 0.6383 - binary_accuracy: 0.6342 - val_loss: 0.6325 - val_binary_accuracy: 0.6264\n",
      "Epoch 5/50\n",
      "80/80 [==============================] - 3s 39ms/step - loss: 0.6254 - binary_accuracy: 0.6547 - val_loss: 0.6247 - val_binary_accuracy: 0.6248\n",
      "Epoch 6/50\n",
      "80/80 [==============================] - 3s 39ms/step - loss: 0.6066 - binary_accuracy: 0.6709 - val_loss: 0.5957 - val_binary_accuracy: 0.6779\n",
      "Epoch 7/50\n",
      "80/80 [==============================] - 3s 39ms/step - loss: 0.5930 - binary_accuracy: 0.6922 - val_loss: 0.5828 - val_binary_accuracy: 0.6929\n",
      "Epoch 8/50\n",
      "80/80 [==============================] - 3s 39ms/step - loss: 0.5799 - binary_accuracy: 0.7022 - val_loss: 0.5780 - val_binary_accuracy: 0.6925\n",
      "Epoch 9/50\n",
      "80/80 [==============================] - 3s 39ms/step - loss: 0.5696 - binary_accuracy: 0.7141 - val_loss: 0.5655 - val_binary_accuracy: 0.6995\n",
      "Epoch 10/50\n",
      "80/80 [==============================] - 3s 39ms/step - loss: 0.5441 - binary_accuracy: 0.7377 - val_loss: 0.5499 - val_binary_accuracy: 0.7203\n",
      "Epoch 11/50\n",
      "80/80 [==============================] - 3s 39ms/step - loss: 0.5241 - binary_accuracy: 0.7524 - val_loss: 0.5382 - val_binary_accuracy: 0.7347\n",
      "Epoch 12/50\n",
      "80/80 [==============================] - 3s 39ms/step - loss: 0.5081 - binary_accuracy: 0.7596 - val_loss: 0.5155 - val_binary_accuracy: 0.7529\n",
      "Epoch 13/50\n",
      "80/80 [==============================] - 3s 39ms/step - loss: 0.4760 - binary_accuracy: 0.7770 - val_loss: 0.4975 - val_binary_accuracy: 0.7642\n",
      "Epoch 14/50\n",
      "80/80 [==============================] - 3s 39ms/step - loss: 0.4546 - binary_accuracy: 0.7975 - val_loss: 0.4828 - val_binary_accuracy: 0.7787\n",
      "Epoch 15/50\n",
      "80/80 [==============================] - 3s 39ms/step - loss: 0.4139 - binary_accuracy: 0.8183 - val_loss: 0.4581 - val_binary_accuracy: 0.7868\n",
      "Epoch 16/50\n",
      "80/80 [==============================] - 3s 39ms/step - loss: 0.3852 - binary_accuracy: 0.8376 - val_loss: 0.4416 - val_binary_accuracy: 0.7955\n",
      "Epoch 17/50\n",
      "80/80 [==============================] - 3s 39ms/step - loss: 0.3349 - binary_accuracy: 0.8595 - val_loss: 0.4351 - val_binary_accuracy: 0.8070\n",
      "Epoch 18/50\n",
      "80/80 [==============================] - 3s 39ms/step - loss: 0.3171 - binary_accuracy: 0.8622 - val_loss: 0.4345 - val_binary_accuracy: 0.8097\n",
      "Epoch 19/50\n",
      "80/80 [==============================] - 3s 39ms/step - loss: 0.2893 - binary_accuracy: 0.8806 - val_loss: 0.4365 - val_binary_accuracy: 0.8088\n",
      "Epoch 20/50\n",
      "80/80 [==============================] - 3s 40ms/step - loss: 0.2549 - binary_accuracy: 0.8939 - val_loss: 0.4648 - val_binary_accuracy: 0.8000\n",
      "Epoch 21/50\n",
      "80/80 [==============================] - 3s 40ms/step - loss: 0.2642 - binary_accuracy: 0.8890 - val_loss: 0.6685 - val_binary_accuracy: 0.7252\n",
      "Epoch 22/50\n",
      "80/80 [==============================] - 3s 39ms/step - loss: 0.2469 - binary_accuracy: 0.8927 - val_loss: 0.6014 - val_binary_accuracy: 0.7507\n",
      "Epoch 23/50\n",
      "80/80 [==============================] - 3s 39ms/step - loss: 0.2126 - binary_accuracy: 0.9093 - val_loss: 0.5755 - val_binary_accuracy: 0.7729\n",
      "Epoch 24/50\n",
      "80/80 [==============================] - 3s 39ms/step - loss: 0.1882 - binary_accuracy: 0.9156 - val_loss: 0.4856 - val_binary_accuracy: 0.8095\n",
      "Epoch 25/50\n",
      "80/80 [==============================] - 3s 39ms/step - loss: 0.2076 - binary_accuracy: 0.9081 - val_loss: 0.4455 - val_binary_accuracy: 0.8228\n",
      "Epoch 26/50\n",
      "80/80 [==============================] - 3s 39ms/step - loss: 0.1880 - binary_accuracy: 0.9183 - val_loss: 0.5173 - val_binary_accuracy: 0.8228\n",
      "Epoch 27/50\n",
      "80/80 [==============================] - 3s 39ms/step - loss: 0.1731 - binary_accuracy: 0.9279 - val_loss: 0.6621 - val_binary_accuracy: 0.8224\n",
      "Epoch 28/50\n",
      "80/80 [==============================] - 3s 39ms/step - loss: 0.1335 - binary_accuracy: 0.9447 - val_loss: 0.6239 - val_binary_accuracy: 0.8228\n",
      "Epoch 29/50\n",
      "80/80 [==============================] - 3s 39ms/step - loss: 0.1159 - binary_accuracy: 0.9494 - val_loss: 0.6131 - val_binary_accuracy: 0.8268\n",
      "Epoch 30/50\n",
      "80/80 [==============================] - 3s 39ms/step - loss: 0.0900 - binary_accuracy: 0.9631 - val_loss: 0.5922 - val_binary_accuracy: 0.8384\n",
      "Epoch 31/50\n",
      "80/80 [==============================] - 3s 39ms/step - loss: 0.0846 - binary_accuracy: 0.9656 - val_loss: 0.5805 - val_binary_accuracy: 0.8402\n",
      "Epoch 32/50\n",
      "80/80 [==============================] - 3s 39ms/step - loss: 0.0782 - binary_accuracy: 0.9689 - val_loss: 0.8079 - val_binary_accuracy: 0.8133\n",
      "Epoch 33/50\n",
      "80/80 [==============================] - 3s 39ms/step - loss: 0.0727 - binary_accuracy: 0.9693 - val_loss: 0.9278 - val_binary_accuracy: 0.8105\n",
      "Epoch 34/50\n",
      "80/80 [==============================] - 3s 39ms/step - loss: 0.0853 - binary_accuracy: 0.9621 - val_loss: 0.7203 - val_binary_accuracy: 0.8151\n",
      "Epoch 35/50\n",
      "80/80 [==============================] - 3s 39ms/step - loss: 0.0798 - binary_accuracy: 0.9633 - val_loss: 0.7484 - val_binary_accuracy: 0.8030\n",
      "Epoch 36/50\n",
      "80/80 [==============================] - 3s 39ms/step - loss: 0.0867 - binary_accuracy: 0.9640 - val_loss: 0.7457 - val_binary_accuracy: 0.8006\n",
      "Epoch 37/50\n",
      "80/80 [==============================] - 3s 39ms/step - loss: 0.0882 - binary_accuracy: 0.9611 - val_loss: 0.6524 - val_binary_accuracy: 0.8347\n",
      "Epoch 38/50\n",
      "80/80 [==============================] - 3s 39ms/step - loss: 0.0927 - binary_accuracy: 0.9580 - val_loss: 0.5450 - val_binary_accuracy: 0.8293\n",
      "Epoch 39/50\n",
      "80/80 [==============================] - 3s 39ms/step - loss: 0.1017 - binary_accuracy: 0.9564 - val_loss: 0.5822 - val_binary_accuracy: 0.8317\n",
      "Epoch 40/50\n",
      "80/80 [==============================] - 3s 39ms/step - loss: 0.0682 - binary_accuracy: 0.9701 - val_loss: 0.6362 - val_binary_accuracy: 0.8242\n",
      "Epoch 41/50\n",
      "80/80 [==============================] - 3s 40ms/step - loss: 0.0621 - binary_accuracy: 0.9726 - val_loss: 0.5684 - val_binary_accuracy: 0.8458\n",
      "Epoch 42/50\n",
      "80/80 [==============================] - 3s 39ms/step - loss: 0.0449 - binary_accuracy: 0.9808 - val_loss: 0.7253 - val_binary_accuracy: 0.8412\n",
      "Epoch 43/50\n",
      "80/80 [==============================] - 3s 39ms/step - loss: 0.0384 - binary_accuracy: 0.9822 - val_loss: 0.6994 - val_binary_accuracy: 0.8466\n",
      "Epoch 44/50\n",
      "80/80 [==============================] - 3s 39ms/step - loss: 0.0400 - binary_accuracy: 0.9846 - val_loss: 0.7963 - val_binary_accuracy: 0.8472\n",
      "Epoch 45/50\n",
      "80/80 [==============================] - 3s 39ms/step - loss: 0.0284 - binary_accuracy: 0.9855 - val_loss: 0.7421 - val_binary_accuracy: 0.8533\n",
      "Epoch 46/50\n",
      "80/80 [==============================] - 3s 39ms/step - loss: 0.0247 - binary_accuracy: 0.9875 - val_loss: 0.7177 - val_binary_accuracy: 0.8497\n",
      "Epoch 47/50\n",
      "80/80 [==============================] - 3s 39ms/step - loss: 0.0271 - binary_accuracy: 0.9857 - val_loss: 0.8424 - val_binary_accuracy: 0.8485\n",
      "Epoch 48/50\n",
      "80/80 [==============================] - 3s 39ms/step - loss: 0.0244 - binary_accuracy: 0.9857 - val_loss: 0.9330 - val_binary_accuracy: 0.8483\n",
      "Epoch 49/50\n",
      "80/80 [==============================] - 3s 39ms/step - loss: 0.0194 - binary_accuracy: 0.9893 - val_loss: 0.9087 - val_binary_accuracy: 0.8448\n",
      "Epoch 50/50\n",
      "80/80 [==============================] - 3s 39ms/step - loss: 0.0187 - binary_accuracy: 0.9881 - val_loss: 0.9832 - val_binary_accuracy: 0.8480\n"
     ]
    }
   ],
   "source": [
    "history = model.fit(\n",
    "    ds_train,\n",
    "    validation_data=ds_valid,\n",
    "    epochs=50,\n",
    ")"
   ]
  },
  {
   "cell_type": "markdown",
   "id": "2f738662",
   "metadata": {
    "papermill": {
     "duration": 0.08877,
     "end_time": "2023-10-20T04:39:39.724025",
     "exception": false,
     "start_time": "2023-10-20T04:39:39.635255",
     "status": "completed"
    },
    "tags": []
   },
   "source": [
    "And now run the cell below to plot the loss and metric curves for this training run."
   ]
  },
  {
   "cell_type": "code",
   "execution_count": 8,
   "id": "f9fed146",
   "metadata": {
    "execution": {
     "iopub.execute_input": "2023-10-20T04:39:39.905212Z",
     "iopub.status.busy": "2023-10-20T04:39:39.904904Z",
     "iopub.status.idle": "2023-10-20T04:39:40.650266Z",
     "shell.execute_reply": "2023-10-20T04:39:40.649435Z"
    },
    "papermill": {
     "duration": 0.839078,
     "end_time": "2023-10-20T04:39:40.651999",
     "exception": false,
     "start_time": "2023-10-20T04:39:39.812921",
     "status": "completed"
    },
    "tags": []
   },
   "outputs": [
    {
     "data": {
      "image/png": "[encoded data removed]",
      "text/plain": [
       "<Figure size 640x480 with 1 Axes>"
      ]
     },
     "metadata": {},
     "output_type": "display_data"
    },
    {
     "data": {
      "image/png": "[encoded data removed]",
      "text/plain": [
       "<Figure size 640x480 with 1 Axes>"
      ]
     },
     "metadata": {},
     "output_type": "display_data"
    }
   ],
   "source": [
    "import pandas as pd\n",
    "history_frame = pd.DataFrame(history.history)\n",
    "history_frame.loc[:, ['loss', 'val_loss']].plot()\n",
    "history_frame.loc[:, ['binary_accuracy', 'val_binary_accuracy']].plot();"
   ]
  },
  {
   "cell_type": "markdown",
   "id": "5a405162",
   "metadata": {
    "papermill": {
     "duration": 0.107778,
     "end_time": "2023-10-20T04:39:40.851603",
     "exception": false,
     "start_time": "2023-10-20T04:39:40.743825",
     "status": "completed"
    },
    "tags": []
   },
   "source": [
    "# 3) Train the Model #\n",
    "\n",
    "How would you interpret these training curves? Did this model improve upon the model from the tutorial?"
   ]
  },
  {
   "cell_type": "code",
   "execution_count": 9,
   "id": "3ae36750",
   "metadata": {
    "execution": {
     "iopub.execute_input": "2023-10-20T04:39:41.074837Z",
     "iopub.status.busy": "2023-10-20T04:39:41.074545Z",
     "iopub.status.idle": "2023-10-20T04:39:41.081860Z",
     "shell.execute_reply": "2023-10-20T04:39:41.080967Z"
    },
    "lines_to_next_cell": 0,
    "papermill": {
     "duration": 0.110321,
     "end_time": "2023-10-20T04:39:41.083880",
     "exception": false,
     "start_time": "2023-10-20T04:39:40.973559",
     "status": "completed"
    },
    "tags": []
   },
   "outputs": [
    {
     "data": {
      "application/javascript": [
       "parent.postMessage({\"jupyterEvent\": \"custom.exercise_interaction\", \"data\": {\"outcomeType\": 1, \"valueTowardsCompletion\": 0.3333333333333333, \"interactionType\": 1, \"questionType\": 4, \"questionId\": \"3_Q3\", \"learnToolsVersion\": \"0.3.4\", \"failureMessage\": \"\", \"exceptionClass\": \"\", \"trace\": \"\"}}, \"*\")"
      ],
      "text/plain": [
       "<IPython.core.display.Javascript object>"
      ]
     },
     "metadata": {},
     "output_type": "display_data"
    },
    {
     "data": {
      "text/markdown": [
       "<span style=\"color:#33cc33\">Correct:</span> \n",
       "\n",
       "\n",
       "The learning curves for the model from the tutorial diverged fairly rapidly. This would indicate that it was prone to overfitting and in need of some regularization. The additional layer in our new model would make it even more prone to overfitting. However, adding some regularization with the `Dropout` layer helped prevent this. These changes improved the validation accuracy of the model by several points.\n"
      ],
      "text/plain": [
       "Correct: \n",
       "\n",
       "\n",
       "The learning curves for the model from the tutorial diverged fairly rapidly. This would indicate that it was prone to overfitting and in need of some regularization. The additional layer in our new model would make it even more prone to overfitting. However, adding some regularization with the `Dropout` layer helped prevent this. These changes improved the validation accuracy of the model by several points."
      ]
     },
     "metadata": {},
     "output_type": "display_data"
    }
   ],
   "source": [
    "\n",
    "q_3.check()"
   ]
  },
  {
   "cell_type": "markdown",
   "id": "4ec6b475",
   "metadata": {
    "papermill": {
     "duration": 0.093212,
     "end_time": "2023-10-20T04:39:41.284140",
     "exception": false,
     "start_time": "2023-10-20T04:39:41.190928",
     "status": "completed"
    },
    "tags": []
   },
   "source": [
    "# Conclusion #\n",
    "\n",
    "These exercises showed you how to design a custom convolutional network to solve a specific classification problem. Though most models these days will be built on top of a pretrained base, it certain circumstances a smaller custom convnet might still be preferable -- such as with a smaller or unusual dataset or when computing resources are very limited. As you saw here, for certain problems they can perform just as well as a pretrained model.\n",
    "\n",
    "# Keep Going #\n",
    "\n",
    "Continue on to [**Lesson 6**](https://www.kaggle.com/ryanholbrook/data-augmentation), where you'll learn a widely-used technique that can give a boost to your training data: **data augmentation**."
   ]
  },
  {
   "cell_type": "markdown",
   "id": "64bb1c87",
   "metadata": {
    "papermill": {
     "duration": 0.091005,
     "end_time": "2023-10-20T04:39:41.465331",
     "exception": false,
     "start_time": "2023-10-20T04:39:41.374326",
     "status": "completed"
    },
    "tags": []
   },
   "source": [
    "---\n",
    "\n",
    "\n",
    "\n",
    "\n",
    "*Have questions or comments? Visit the [course discussion forum](https://www.kaggle.com/learn/computer-vision/discussion) to chat with other learners.*"
   ]
  }
 ],
 "metadata": {
  "kernelspec": {
   "display_name": "Python 3",
   "language": "python",
   "name": "python3"
  },
  "language_info": {
   "codemirror_mode": {
    "name": "ipython",
    "version": 3
   },
   "file_extension": ".py",
   "mimetype": "text/x-python",
   "name": "python",
   "nbconvert_exporter": "python",
   "pygments_lexer": "ipython3",
   "version": "3.10.12"
  },
  "papermill": {
   "default_parameters": {},
   "duration": 203.421217,
   "end_time": "2023-10-20T04:39:44.941822",
   "environment_variables": {},
   "exception": null,
   "input_path": "__notebook__.ipynb",
   "output_path": "__notebook__.ipynb",
   "parameters": {},
   "start_time": "2023-10-20T04:36:21.520605",
   "version": "2.4.0"
  }
 },
 "nbformat": 4,
 "nbformat_minor": 5
}
